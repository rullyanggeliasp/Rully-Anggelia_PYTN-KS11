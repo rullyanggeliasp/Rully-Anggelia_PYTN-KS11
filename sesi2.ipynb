{
 "cells": [
  {
   "cell_type": "code",
   "execution_count": 1,
   "id": "48d96b28-40b9-4aab-a194-f5a06a3e97d7",
   "metadata": {},
   "outputs": [
    {
     "ename": "NameError",
     "evalue": "name 'harga_jerukstandar_harga' is not defined",
     "output_type": "error",
     "traceback": [
      "\u001b[1;31m---------------------------------------------------------------------------\u001b[0m",
      "\u001b[1;31mNameError\u001b[0m                                 Traceback (most recent call last)",
      "\u001b[1;32m~\\AppData\\Local\\Temp\\ipykernel_6720\\3193685280.py\u001b[0m in \u001b[0;36m<module>\u001b[1;34m\u001b[0m\n\u001b[0;32m      2\u001b[0m \u001b[0mstandar_harga\u001b[0m \u001b[1;33m=\u001b[0m \u001b[1;36m30000\u001b[0m\u001b[1;33m\u001b[0m\u001b[1;33m\u001b[0m\u001b[0m\n\u001b[0;32m      3\u001b[0m \u001b[1;32mif\u001b[0m \u001b[0mharga_jeruk\u001b[0m\u001b[1;33m>=\u001b[0m\u001b[0mstandar_harga\u001b[0m \u001b[1;33m:\u001b[0m \u001b[0mprint\u001b[0m\u001b[1;33m(\u001b[0m\u001b[1;34m'mahal'\u001b[0m\u001b[1;33m)\u001b[0m\u001b[1;33m;\u001b[0m\u001b[0mprint\u001b[0m\u001b[1;33m(\u001b[0m\u001b[1;34m'Banget'\u001b[0m\u001b[1;33m)\u001b[0m\u001b[1;33m;\u001b[0m\u001b[0mprint\u001b[0m\u001b[1;33m(\u001b[0m\u001b[1;36m1\u001b[0m\u001b[1;33m+\u001b[0m\u001b[1;36m1\u001b[0m\u001b[1;33m)\u001b[0m\u001b[1;33m\u001b[0m\u001b[1;33m\u001b[0m\u001b[0m\n\u001b[1;32m----> 4\u001b[1;33m \u001b[1;32melif\u001b[0m \u001b[0mharga_jerukstandar_harga\u001b[0m \u001b[1;33m:\u001b[0m \u001b[0mprint\u001b[0m\u001b[1;33m(\u001b[0m\u001b[1;34m'Murah'\u001b[0m\u001b[1;33m)\u001b[0m\u001b[1;33m\u001b[0m\u001b[1;33m\u001b[0m\u001b[0m\n\u001b[0m\u001b[0;32m      5\u001b[0m \u001b[1;32melse\u001b[0m \u001b[1;33m:\u001b[0m \u001b[0mprint\u001b[0m\u001b[1;33m(\u001b[0m\u001b[1;34m'Biasa'\u001b[0m\u001b[1;33m)\u001b[0m\u001b[1;33m\u001b[0m\u001b[1;33m\u001b[0m\u001b[0m\n",
      "\u001b[1;31mNameError\u001b[0m: name 'harga_jerukstandar_harga' is not defined"
     ]
    }
   ],
   "source": [
    "harga_jeruk = 5000\n",
    "standar_harga = 30000\n",
    "if harga_jeruk>=standar_harga : print('mahal');print('Banget');print(1+1)\n",
    "elif harga_jerukstandar_harga : print('Murah')\n",
    "else : print('Biasa')"
   ]
  },
  {
   "cell_type": "code",
   "execution_count": 2,
   "id": "2520e17e-8fcc-4b74-9bda-13dca6c020db",
   "metadata": {},
   "outputs": [
    {
     "name": "stdout",
     "output_type": "stream",
     "text": [
      "Tua\n"
     ]
    }
   ],
   "source": [
    "umur = 37\n",
    "s = 'Tua' if umur >= 35 else 'Muda'\n",
    "print(s)"
   ]
  },
  {
   "cell_type": "code",
   "execution_count": 3,
   "id": "005a7534-e783-48a3-bcaf-b952be396429",
   "metadata": {},
   "outputs": [
    {
     "ename": "SyntaxError",
     "evalue": "invalid syntax (3055644039.py, line 3)",
     "output_type": "error",
     "traceback": [
      "\u001b[1;36m  File \u001b[1;32m\"C:\\Users\\ACER\\AppData\\Local\\Temp\\ipykernel_6720\\3055644039.py\"\u001b[1;36m, line \u001b[1;32m3\u001b[0m\n\u001b[1;33m    if year of service > 10:\u001b[0m\n\u001b[1;37m            ^\u001b[0m\n\u001b[1;31mSyntaxError\u001b[0m\u001b[1;31m:\u001b[0m invalid syntax\n"
     ]
    }
   ],
   "source": [
    "gaji = float(input(\"berapa gaji anda: \"))\n",
    "tahun = int(input(\"year of service: \"))\n",
    "print('berapa gaji anda ?')\n",
    "gaji = int(input())\n",
    "if year of service > 10:\n",
    "    total = gaji *(10/100)\n",
    "    print('selamat anda mendapat bonus! Total gaji anda IDR' + str(total))"
   ]
  },
  {
   "cell_type": "code",
   "execution_count": 6,
   "id": "d9ad2cac-a877-40b0-85a9-e3d9f469b419",
   "metadata": {},
   "outputs": [
    {
     "name": "stdout",
     "output_type": "stream",
     "text": [
      "s\n",
      "t\n",
      "r\n",
      "i\n",
      "n\n",
      "g\n"
     ]
    }
   ],
   "source": [
    "for i in 'string':\n",
    "    print(i)"
   ]
  },
  {
   "cell_type": "code",
   "execution_count": 7,
   "id": "43d498e0-299a-4c32-981c-65ea8d60e38e",
   "metadata": {},
   "outputs": [
    {
     "name": "stdout",
     "output_type": "stream",
     "text": [
      "2\n",
      "3\n",
      "4\n",
      "5\n"
     ]
    }
   ],
   "source": [
    "for i in [1,2,3,4]:\n",
    "    print(i+1)"
   ]
  },
  {
   "cell_type": "code",
   "execution_count": 8,
   "id": "93a5fee4-8093-4a1a-aa4e-74e5b68a77ac",
   "metadata": {},
   "outputs": [
    {
     "name": "stdout",
     "output_type": "stream",
     "text": [
      "4\n",
      "3\n",
      "2\n",
      "1\n",
      "0\n"
     ]
    }
   ],
   "source": [
    "apel = 5\n",
    "while apel>0:\n",
    "    apel-=1\n",
    "    print(apel)"
   ]
  },
  {
   "cell_type": "code",
   "execution_count": 9,
   "id": "9ad8cd20-4b27-46e5-9f39-d17aa315e7e7",
   "metadata": {},
   "outputs": [
    {
     "name": "stdout",
     "output_type": "stream",
     "text": [
      "4\n"
     ]
    }
   ],
   "source": [
    "apel = 5\n",
    "apel -=1\n",
    "print(apel)"
   ]
  },
  {
   "cell_type": "code",
   "execution_count": 27,
   "id": "3f284413-ac9d-4383-8221-46983fb21c02",
   "metadata": {},
   "outputs": [],
   "source": [
    "for i in ['Aster','Jubah','Nambo','Hachi']:\n",
    "    if 'b' in i:\n",
    "        continue\n",
    "        print(i)"
   ]
  },
  {
   "cell_type": "code",
   "execution_count": 1,
   "id": "4ea08eac-75ad-4b83-8bae-681d815876c5",
   "metadata": {},
   "outputs": [
    {
     "name": "stdout",
     "output_type": "stream",
     "text": [
      "ya benar\n",
      "ya benar\n",
      "ya benar\n"
     ]
    }
   ],
   "source": [
    "x = 2\n",
    "y = 3\n",
    "\n",
    "if x<y:\n",
    "    print('ya benar')\n",
    "if x>y:\n",
    "    print('ya benar')\n",
    "if x==y:\n",
    "    print('ya benar')\n",
    "if x<=y:\n",
    "    print('ya benar')\n",
    "if 'we' in ['we','wa','wo']:\n",
    "    print('ya benar')"
   ]
  },
  {
   "cell_type": "code",
   "execution_count": 2,
   "id": "27066335-0573-45e8-8820-cf33eb66f1fa",
   "metadata": {},
   "outputs": [
    {
     "name": "stdout",
     "output_type": "stream",
     "text": [
      "True\n"
     ]
    }
   ],
   "source": [
    "print('we' in ['we','wa','wo'])"
   ]
  },
  {
   "cell_type": "code",
   "execution_count": 3,
   "id": "6e92adfe-3bf2-42ad-a039-6b8a3e1a0a9f",
   "metadata": {},
   "outputs": [
    {
     "name": "stdout",
     "output_type": "stream",
     "text": [
      "ya benar\n"
     ]
    }
   ],
   "source": [
    "#Python perlu yang namanya indentasi\n",
    "x = 2\n",
    "y = 3\n",
    "\n",
    "if x<y:\n",
    "    if y<x:\n",
    "        pass\n",
    "    print('ya benar')"
   ]
  },
  {
   "cell_type": "markdown",
   "id": "f5fc65a6-506f-4a32-86bf-0f9a3acad99a",
   "metadata": {},
   "source": [
    "## If elif dan else"
   ]
  },
  {
   "cell_type": "code",
   "execution_count": 4,
   "id": "83b59a52-4a63-419b-bc76-d8f14fb7f989",
   "metadata": {},
   "outputs": [
    {
     "name": "stdout",
     "output_type": "stream",
     "text": [
      "Mahal\n"
     ]
    }
   ],
   "source": [
    "harga_jeruk = 50000\n",
    "standar_harga = 30000\n",
    "# apabila jeruk lebih dari standar harga maka jeruk itu mahal dan apabila kurang dari standar harga maka jeruk itu murah, dan apabila hrg jeruk sama dengan standar maka biasa saja\n",
    "if harga_jeruk>standar_harga:\n",
    "    print('Mahal')\n",
    "elif harga_jeruk<standar_harga:\n",
    "    print('Murah')\n",
    "elif harga_jeruk==standar_harga:\n",
    "    print('Biasa')"
   ]
  },
  {
   "cell_type": "code",
   "execution_count": 5,
   "id": "c240fa06-cad3-40a7-b403-a552d6dfe35c",
   "metadata": {},
   "outputs": [
    {
     "name": "stdout",
     "output_type": "stream",
     "text": [
      "Biasa\n"
     ]
    }
   ],
   "source": [
    "harga_jeruk = 30000\n",
    "standar_harga = 30000\n",
    "# apabila jeruk lebih dari standar harga maka jeruk itu mahal dan apabila kurang dari standar harga maka jeruk itu murah, dan apabila hrg jeruk sama dengan standar maka biasa saja\n",
    "if harga_jeruk>standar_harga:\n",
    "    print('Mahal')\n",
    "elif harga_jeruk<standar_harga:\n",
    "    print('Murah')\n",
    "else:\n",
    "    print('Biasa')"
   ]
  },
  {
   "cell_type": "code",
   "execution_count": 6,
   "id": "e940934c-2818-42fb-a2fe-66245c6a111f",
   "metadata": {},
   "outputs": [
    {
     "name": "stdout",
     "output_type": "stream",
     "text": [
      "Mahal\n"
     ]
    }
   ],
   "source": [
    "# apabila jeruk lebih dari standar harga maka jeruk itu mahal dan apabila kurang dari sama dengan standar harga maka jeruk itu murah\n",
    "harga_jeruk = 70000\n",
    "standar_harga = 50000\n",
    "if harga_jeruk>standar_harga:\n",
    "    print('Mahal')\n",
    "else:\n",
    "    print('Murah')"
   ]
  },
  {
   "cell_type": "markdown",
   "id": "86cffaa0-4a60-4184-9f75-9a68828c8c67",
   "metadata": {},
   "source": [
    "apabila jeruk lebih dari standar harga maka jeruk itu mahal dan apabila kurang dari sama dengan standar harga maka jeruk itu murah\n",
    "harga_jeruk = int(input('Input Harga Jeruk='))\n",
    "standar_harga = 30000\n",
    "if harga_jeruk>standar_harga:\n",
    "    print('Mahal')\n",
    "else:\n",
    "    print('Murah')"
   ]
  },
  {
   "cell_type": "markdown",
   "id": "0eb0f2e9-021d-432e-a271-4a897e0e5d3f",
   "metadata": {},
   "source": [
    "## Loop"
   ]
  },
  {
   "cell_type": "code",
   "execution_count": 9,
   "id": "43f910c8-14a9-4b9b-9af3-9eed09db6fbf",
   "metadata": {},
   "outputs": [
    {
     "name": "stdout",
     "output_type": "stream",
     "text": [
      "fooayam\n",
      "barayam\n",
      "bazayam\n",
      "quxayam\n",
      "quuxayam\n",
      "corgeayam\n"
     ]
    }
   ],
   "source": [
    "for i in ['foo','bar','baz','qux','quux','corge']:\n",
    "    print(i+'ayam')"
   ]
  },
  {
   "cell_type": "code",
   "execution_count": 10,
   "id": "7f952ce0-a3b5-4d37-93d9-2f86f91eb21d",
   "metadata": {},
   "outputs": [
    {
     "name": "stdout",
     "output_type": "stream",
     "text": [
      "2\n",
      "3\n",
      "4\n",
      "5\n"
     ]
    }
   ],
   "source": [
    "for i in [1,2,3,4]:\n",
    "    print(i+1)"
   ]
  },
  {
   "cell_type": "code",
   "execution_count": 11,
   "id": "f327ca61-7169-4992-b400-14f861cbf2c4",
   "metadata": {},
   "outputs": [
    {
     "name": "stdout",
     "output_type": "stream",
     "text": [
      "s\n",
      "t\n",
      "r\n",
      "i\n",
      "n\n",
      "g\n"
     ]
    }
   ],
   "source": [
    "for i in 'string':\n",
    "    print(i)"
   ]
  },
  {
   "cell_type": "markdown",
   "id": "6bce5bd1-95fc-4912-9515-0a9b935a8927",
   "metadata": {},
   "source": [
    "## While Loop"
   ]
  },
  {
   "cell_type": "code",
   "execution_count": 12,
   "id": "dbc56fdd-e962-4fe3-8d33-bc24733dd4cd",
   "metadata": {},
   "outputs": [
    {
     "name": "stdout",
     "output_type": "stream",
     "text": [
      "4\n",
      "3\n",
      "2\n",
      "1\n",
      "0\n"
     ]
    }
   ],
   "source": [
    "apel = 5\n",
    "while apel>0:\n",
    "    apel-=1\n",
    "    print(apel)"
   ]
  },
  {
   "cell_type": "code",
   "execution_count": 13,
   "id": "e399e97a-1d3e-4343-9fc1-0cec934b5890",
   "metadata": {},
   "outputs": [
    {
     "name": "stdout",
     "output_type": "stream",
     "text": [
      "4\n"
     ]
    }
   ],
   "source": [
    "apel = 5\n",
    "apel -=1\n",
    "print(apel)\n"
   ]
  },
  {
   "cell_type": "code",
   "execution_count": 14,
   "id": "e80dfe91-418d-4775-9b9f-26d35383ef5a",
   "metadata": {},
   "outputs": [
    {
     "name": "stdout",
     "output_type": "stream",
     "text": [
      "4\n",
      "3\n",
      "2\n",
      "woy tinggal 1 nih ati2 ya\n",
      "0\n"
     ]
    }
   ],
   "source": [
    "apel = 5\n",
    "while apel>0:\n",
    "    apel-=1\n",
    "    if apel ==1:\n",
    "        print('woy tinggal 1 nih ati2 ya')\n",
    "    else:\n",
    "        print(apel)"
   ]
  },
  {
   "cell_type": "code",
   "execution_count": 15,
   "id": "d0506834-51cb-4561-a61f-5add17a825fd",
   "metadata": {},
   "outputs": [
    {
     "name": "stdout",
     "output_type": "stream",
     "text": [
      "4\n",
      "3\n",
      "Loop Ended\n"
     ]
    }
   ],
   "source": [
    "# break digunakan untuk memberhentikan loop\n",
    "apel = 5\n",
    "while apel>0:\n",
    "    apel-=1\n",
    "    if apel ==2:\n",
    "        break\n",
    "    print(apel)\n",
    "print('Loop Ended')"
   ]
  },
  {
   "cell_type": "code",
   "execution_count": 16,
   "id": "0144e119-ea08-4a50-bf73-f725f6dae5d2",
   "metadata": {},
   "outputs": [
    {
     "data": {
      "text/plain": [
       "2"
      ]
     },
     "execution_count": 16,
     "metadata": {},
     "output_type": "execute_result"
    }
   ],
   "source": [
    "apel"
   ]
  },
  {
   "cell_type": "code",
   "execution_count": 17,
   "id": "f7603a68-ef11-41a7-80a0-5c12b6655adc",
   "metadata": {},
   "outputs": [
    {
     "name": "stdout",
     "output_type": "stream",
     "text": [
      "4\n",
      "3\n",
      "1\n",
      "0\n",
      "Loop Ended\n"
     ]
    }
   ],
   "source": [
    "# continue digunakan untuk melanjukan loop berdasarkan kondisi\n",
    "apel = 5\n",
    "while apel>0:\n",
    "    apel-=1\n",
    "    if apel ==2:\n",
    "        continue\n",
    "    print(apel)\n",
    "print('Loop Ended')"
   ]
  },
  {
   "cell_type": "code",
   "execution_count": 18,
   "id": "c1900cc7-9445-4626-a3d3-0ab4375d470a",
   "metadata": {},
   "outputs": [
    {
     "name": "stdout",
     "output_type": "stream",
     "text": [
      "8\n",
      "6\n",
      "4\n",
      "2\n",
      "0\n",
      "loop ended\n"
     ]
    }
   ],
   "source": [
    "# else\n",
    "apel = 10\n",
    "while apel>0:\n",
    "    apel-=2\n",
    "    print(apel)\n",
    "else:\n",
    "    print('loop ended')"
   ]
  },
  {
   "cell_type": "code",
   "execution_count": 19,
   "id": "7543026d-7e22-4316-b398-8543c4600c25",
   "metadata": {},
   "outputs": [
    {
     "name": "stdout",
     "output_type": "stream",
     "text": [
      "4\n",
      "3\n",
      "2\n"
     ]
    }
   ],
   "source": [
    "# break digunakan untuk memberhentikan loop\n",
    "apel = 5\n",
    "while apel>0:\n",
    "    apel-=1\n",
    "    print(apel)\n",
    "    if apel==2:\n",
    "        break\n",
    "else:\n",
    "    print('Loop Done')"
   ]
  },
  {
   "cell_type": "code",
   "execution_count": 20,
   "id": "25ac1ae7-21f5-4b45-8004-bed065dcd9d7",
   "metadata": {},
   "outputs": [
    {
     "name": "stdout",
     "output_type": "stream",
     "text": [
      "1\n",
      "GENAP\n",
      "3\n",
      "GENAP\n",
      "5\n",
      "GENAP\n",
      "7\n",
      "GENAP\n",
      "9\n",
      "GENAP\n",
      "11\n",
      "GENAP\n",
      "13\n",
      "GENAP\n",
      "15\n",
      "GENAP\n",
      "17\n",
      "GENAP\n",
      "19\n",
      "GENAP\n"
     ]
    }
   ],
   "source": [
    "i = 1\n",
    "while i <=20:\n",
    "    if i % 2==1:\n",
    "        print(i)\n",
    "    else:\n",
    "        print(\"GENAP\")\n",
    "    i+=1"
   ]
  },
  {
   "cell_type": "markdown",
   "id": "f6a45d0e-3c87-4359-9ffd-8b10c056a684",
   "metadata": {},
   "source": [
    "## Nested If - Else & Loops"
   ]
  },
  {
   "cell_type": "code",
   "execution_count": 21,
   "id": "0bf2b002-aeab-4533-8779-185eeb67f354",
   "metadata": {},
   "outputs": [
    {
     "name": "stdout",
     "output_type": "stream",
     "text": [
      "Dad\n"
     ]
    }
   ],
   "source": [
    "#Nested IF\n",
    "umur = 42\n",
    "gender = 'M'\n",
    "if umur <18:\n",
    "    if gender == 'M':\n",
    "        print('Son')\n",
    "    else:\n",
    "        print('Daughter')\n",
    "if umur >=18 and umur <65:\n",
    "    if gender == 'M':\n",
    "        print('Dad')\n",
    "    else:\n",
    "        print('Mom')"
   ]
  },
  {
   "cell_type": "markdown",
   "id": "45a78143-ad31-450e-829b-3b429f6fdceb",
   "metadata": {},
   "source": [
    "## One line While Loops"
   ]
  },
  {
   "cell_type": "code",
   "execution_count": 22,
   "id": "906b8e17-3b9d-42bd-840b-299f2eadf910",
   "metadata": {},
   "outputs": [
    {
     "name": "stdout",
     "output_type": "stream",
     "text": [
      "4\n",
      "3\n",
      "2\n",
      "1\n",
      "0\n"
     ]
    }
   ],
   "source": [
    "apel = 5\n",
    "while apel>0:apel-=1;print(apel)"
   ]
  },
  {
   "cell_type": "markdown",
   "id": "8632d272-986d-48f1-acbe-1bb3aab1e439",
   "metadata": {},
   "source": [
    "## For Loop"
   ]
  },
  {
   "cell_type": "code",
   "execution_count": 23,
   "id": "da8da485-2426-499f-b679-0305cb470829",
   "metadata": {},
   "outputs": [
    {
     "name": "stdout",
     "output_type": "stream",
     "text": [
      "1\n",
      "2\n",
      "3\n",
      "4\n",
      "5\n",
      "6\n"
     ]
    }
   ],
   "source": [
    "a = [1,2,3,4,5,6]\n",
    "for i in a:\n",
    "    print(i)"
   ]
  },
  {
   "cell_type": "code",
   "execution_count": 24,
   "id": "7dc159c1-793e-46bb-a657-5d211dac501e",
   "metadata": {},
   "outputs": [
    {
     "name": "stdout",
     "output_type": "stream",
     "text": [
      "Budi\n",
      "Joko\n",
      "Anwar\n"
     ]
    }
   ],
   "source": [
    "# For Loop\n",
    "b = ['Budi','Joko','Anwar']\n",
    "for i in b:\n",
    "    print(i)"
   ]
  },
  {
   "cell_type": "code",
   "execution_count": 25,
   "id": "8dfb8b0c-f633-404d-9190-491e770adf5a",
   "metadata": {},
   "outputs": [
    {
     "name": "stdout",
     "output_type": "stream",
     "text": [
      "B\n",
      "u\n",
      "d\n",
      "i\n",
      "J\n",
      "o\n",
      "k\n",
      "o\n",
      "A\n",
      "n\n",
      "w\n",
      "a\n",
      "r\n"
     ]
    }
   ],
   "source": [
    "# Nested For Loop\n",
    "b = ['Budi','Joko','Anwar']\n",
    "for i in b:\n",
    "    for j in i :\n",
    "        print(j)"
   ]
  },
  {
   "cell_type": "code",
   "execution_count": 26,
   "id": "12b73b2c-f39a-4272-b895-5abe8bb4471e",
   "metadata": {},
   "outputs": [
    {
     "name": "stdout",
     "output_type": "stream",
     "text": [
      "B\n",
      "u\n",
      "d\n",
      "i\n"
     ]
    }
   ],
   "source": [
    "# Nested For Loop\n",
    "b = ['Budi','Joko','Anwar']\n",
    "for i in b:\n",
    "    if i == 'Joko':\n",
    "        break\n",
    "    for j in i :\n",
    "        print(j)"
   ]
  },
  {
   "cell_type": "code",
   "execution_count": 27,
   "id": "eae95b0a-b41f-4fc3-8e19-8e6e3fdb1c05",
   "metadata": {},
   "outputs": [
    {
     "name": "stdout",
     "output_type": "stream",
     "text": [
      "Bekasi\n"
     ]
    }
   ],
   "source": [
    "dictionary_a = {'A':'Bekasi','B':'Jakarta','C':'Medan'}\n",
    "for i in dictionary_a:\n",
    "    if dictionary_a[i] == 'Bekasi':\n",
    "        print(dictionary_a[i])"
   ]
  },
  {
   "cell_type": "code",
   "execution_count": 28,
   "id": "9c361926-1c75-4490-a894-d87d289f9869",
   "metadata": {},
   "outputs": [
    {
     "data": {
      "text/plain": [
       "dict_keys(['A', 'B', 'C'])"
      ]
     },
     "execution_count": 28,
     "metadata": {},
     "output_type": "execute_result"
    }
   ],
   "source": [
    "dictionary_a.keys()"
   ]
  },
  {
   "cell_type": "code",
   "execution_count": 29,
   "id": "128d4cba-e472-402f-82e7-95d6c99af1dc",
   "metadata": {},
   "outputs": [
    {
     "data": {
      "text/plain": [
       "dict_values(['Bekasi', 'Jakarta', 'Medan'])"
      ]
     },
     "execution_count": 29,
     "metadata": {},
     "output_type": "execute_result"
    }
   ],
   "source": [
    "dictionary_a.values()"
   ]
  },
  {
   "cell_type": "code",
   "execution_count": 30,
   "id": "2e78ead2-2374-4e7f-a6f5-9ceec5f474d9",
   "metadata": {},
   "outputs": [
    {
     "data": {
      "text/plain": [
       "dict_items([('A', 'Bekasi'), ('B', 'Jakarta'), ('C', 'Medan')])"
      ]
     },
     "execution_count": 30,
     "metadata": {},
     "output_type": "execute_result"
    }
   ],
   "source": [
    "dictionary_a.items()"
   ]
  },
  {
   "cell_type": "code",
   "execution_count": 31,
   "id": "bc7ae5ea-e6aa-4873-aaec-7d8ce7913749",
   "metadata": {},
   "outputs": [
    {
     "name": "stdout",
     "output_type": "stream",
     "text": [
      "Bekasi\n",
      "Jakarta\n",
      "Medan\n"
     ]
    }
   ],
   "source": [
    "dictionary_a = {'A':'Bekasi','B':'Jakarta','C':'Medan'}\n",
    "for i in dictionary_a.values():\n",
    "    print(i)"
   ]
  },
  {
   "cell_type": "code",
   "execution_count": 32,
   "id": "afb8158f-b2dc-482d-85ef-adf0019ba31f",
   "metadata": {},
   "outputs": [
    {
     "name": "stdout",
     "output_type": "stream",
     "text": [
      "A\n",
      "B\n",
      "C\n"
     ]
    }
   ],
   "source": [
    "dictionary_a = {'A':'Bekasi','B':'Jakarta','C':'Medan'}\n",
    "for i in dictionary_a.keys():\n",
    "    print(i)\n"
   ]
  },
  {
   "cell_type": "code",
   "execution_count": 33,
   "id": "0c182a79-872c-4aba-8622-e6b05058c530",
   "metadata": {},
   "outputs": [
    {
     "name": "stdout",
     "output_type": "stream",
     "text": [
      "A Bekasi\n",
      "B Jakarta\n",
      "C Medan\n"
     ]
    }
   ],
   "source": [
    "dictionary_a = {'A':'Bekasi','B':'Jakarta','C':'Medan'}\n",
    "for i,j in dictionary_a.items():\n",
    "    print(i,j)"
   ]
  },
  {
   "cell_type": "code",
   "execution_count": 34,
   "id": "5b43b49a-8ef8-4d3f-81b7-25e677cde2a5",
   "metadata": {},
   "outputs": [
    {
     "name": "stdout",
     "output_type": "stream",
     "text": [
      "Aster\n",
      "Hachi\n"
     ]
    }
   ],
   "source": [
    "#Continue\n",
    "for i in ['Aster','Jubah','Nambo','Hachi']:\n",
    "    if 'b' in i:\n",
    "        continue\n",
    "    print(i)"
   ]
  },
  {
   "cell_type": "code",
   "execution_count": 35,
   "id": "fa2492de-3bb6-41e3-866d-c5564e07fd66",
   "metadata": {},
   "outputs": [
    {
     "name": "stdout",
     "output_type": "stream",
     "text": [
      "Aster\n",
      "Jubah\n",
      "Nambo\n",
      "Hachi\n"
     ]
    }
   ],
   "source": [
    "#Pass\n",
    "for i in ['Aster','Jubah','Nambo','Hachi']:\n",
    "    if 'b' in i:\n",
    "        pass\n",
    "    print(i)"
   ]
  },
  {
   "cell_type": "code",
   "execution_count": 36,
   "id": "e3d8c7b6-a953-4b4d-be29-8b9b79820e08",
   "metadata": {},
   "outputs": [
    {
     "name": "stdout",
     "output_type": "stream",
     "text": [
      "Aster\n"
     ]
    }
   ],
   "source": [
    "#Break\n",
    "for i in ['Aster','Jubah','Nambo','Hachi']:\n",
    "    if 'b' in i:\n",
    "        break\n",
    "    print(i)"
   ]
  },
  {
   "cell_type": "markdown",
   "id": "f9889ccf-cfcc-4c55-ba85-d16de3008137",
   "metadata": {},
   "source": [
    "1. Loop itu keseluruhan iterasi objek 1 loop diatas 4 iterasi\n",
    "2. Iterasi adalah istilah untuk 1 putaran loop\n",
    "3. continue akan memberhentikan iterasi dan lanjut ke iterasi berikutnya\n",
    "4. break akan memberhentikan looping secara keseluruhan"
   ]
  },
  {
   "cell_type": "code",
   "execution_count": 37,
   "id": "67eea71f-1c2d-4e95-be49-901c7801af7e",
   "metadata": {},
   "outputs": [
    {
     "name": "stdout",
     "output_type": "stream",
     "text": [
      "Aster\n",
      "Jubah\n",
      "Nambo\n",
      "Hachi\n",
      "Loop Done\n"
     ]
    }
   ],
   "source": [
    "for i in ['Aster','Jubah','Nambo','Hachi'] :\n",
    "    print(i)\n",
    "else:\n",
    "    print('Loop Done')"
   ]
  },
  {
   "cell_type": "code",
   "execution_count": 38,
   "id": "db07c506-c0d6-41b6-aeb2-ef23f4066be3",
   "metadata": {},
   "outputs": [
    {
     "name": "stdout",
     "output_type": "stream",
     "text": [
      "Aster\n"
     ]
    }
   ],
   "source": [
    "#Break \n",
    "for i in ['Aster','Jubah','Nambo','Hachi']:\n",
    "    if 'b' in i:\n",
    "        break\n",
    "    print(i)\n",
    "else:\n",
    "    print('Loop Done')"
   ]
  },
  {
   "cell_type": "code",
   "execution_count": 39,
   "id": "2e89daca-d221-493e-9afa-8208f41a1682",
   "metadata": {},
   "outputs": [
    {
     "name": "stdout",
     "output_type": "stream",
     "text": [
      "1\n",
      "2\n",
      "3\n",
      "4\n",
      "5\n",
      "6\n",
      "7\n",
      "8\n",
      "9\n"
     ]
    }
   ],
   "source": [
    "for i in [1,2,3,4,5,6,7,8,9]:\n",
    "    print(i)"
   ]
  },
  {
   "cell_type": "code",
   "execution_count": 40,
   "id": "725d80c9-d206-4376-b6ff-5b0b2fb47b3f",
   "metadata": {},
   "outputs": [
    {
     "name": "stdout",
     "output_type": "stream",
     "text": [
      "12\n",
      "15\n",
      "18\n"
     ]
    }
   ],
   "source": [
    "a = [1,2,3]\n",
    "b = [4,5,6]\n",
    "c = [7,8,9]\n",
    "for i,j,k in zip(a,b,c):\n",
    "    print(i+j+k)"
   ]
  },
  {
   "cell_type": "code",
   "execution_count": 41,
   "id": "9e30fe5d-8502-41e2-a9ed-a1082a7d998b",
   "metadata": {},
   "outputs": [
    {
     "name": "stdout",
     "output_type": "stream",
     "text": [
      "<zip object at 0x0000015597052B00>\n"
     ]
    }
   ],
   "source": [
    "print(zip(a,b))"
   ]
  },
  {
   "cell_type": "code",
   "execution_count": null,
   "id": "62f7b772-11c2-4162-b5c2-260189f1e788",
   "metadata": {},
   "outputs": [],
   "source": []
  }
 ],
 "metadata": {
  "kernelspec": {
   "display_name": "Python 3 (ipykernel)",
   "language": "python",
   "name": "python3"
  },
  "language_info": {
   "codemirror_mode": {
    "name": "ipython",
    "version": 3
   },
   "file_extension": ".py",
   "mimetype": "text/x-python",
   "name": "python",
   "nbconvert_exporter": "python",
   "pygments_lexer": "ipython3",
   "version": "3.9.13"
  }
 },
 "nbformat": 4,
 "nbformat_minor": 5
}
