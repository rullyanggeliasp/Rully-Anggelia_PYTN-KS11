{
 "cells": [
  {
   "cell_type": "code",
   "execution_count": 6,
   "id": "f5e9be1d-9bb2-4809-a214-9850bf8094dc",
   "metadata": {},
   "outputs": [
    {
     "name": "stdin",
     "output_type": "stream",
     "text": [
      "Masukkan angka pertama:  10\n",
      "Masukkan operasi (+, -, x, :, ^):  -\n",
      "Masukkan angka kedua:  5\n"
     ]
    },
    {
     "name": "stdout",
     "output_type": "stream",
     "text": [
      "Hasil dari 10.0 - 5.0 = 5.0\n"
     ]
    }
   ],
   "source": [
    "def kalkulator():\n",
    "    try:\n",
    "        angka1 = float(input(\"Masukkan angka pertama: \"))\n",
    "        operasi = input(\"Masukkan operasi (+, -, x, :, ^): \")\n",
    "        angka2 = float(input(\"Masukkan angka kedua: \"))\n",
    "        \n",
    "        if operasi == '+':\n",
    "            hasil = angka1 + angka2\n",
    "        elif operasi == '-':\n",
    "            hasil = angka1 - angka2\n",
    "        elif operasi == 'x':\n",
    "            hasil = angka1 * angka2\n",
    "        elif operasi == ':':\n",
    "            hasil = angka1 / angka2\n",
    "        elif operasi == '^':\n",
    "            hasil = angka1 ** angka2\n",
    "        else:\n",
    "            print(\"Operasi tidak valid.\")\n",
    "            return\n",
    "        \n",
    "        print(f\"Hasil dari {angka1} {operasi} {angka2} = {hasil}\")\n",
    "        \n",
    "    except ValueError:\n",
    "        print(\"Input tidak valid. Pastikan Anda memasukkan angka.\")\n",
    "\n",
    "kalkulator()"
   ]
  },
  {
   "cell_type": "code",
   "execution_count": 15,
   "id": "f4ba4019-28d1-4583-a7b9-0880ec12637f",
   "metadata": {},
   "outputs": [
    {
     "name": "stdin",
     "output_type": "stream",
     "text": [
      "Masukkan tinggi bagian atas dan bawah (bilangan ganjil):  10\n"
     ]
    },
    {
     "name": "stdout",
     "output_type": "stream",
     "text": [
      "*********\n",
      " *******\n",
      "  *****\n",
      "   ***\n",
      "    *\n",
      "   ***\n",
      "  *****\n",
      " *******\n",
      "*********\n"
     ]
    }
   ],
   "source": [
    "n = int(input(\"Masukkan tinggi bagian atas dan bawah (bilangan ganjil): \"))\n",
    "if n % 2 == 0:\n",
    "    n -= 1\n",
    "for i in range(n//2+1):\n",
    "    for j in range(i):\n",
    "        print(\" \", end=\"\")\n",
    "    for k in range(n-2*i):\n",
    "        print(\"*\", end=\"\")\n",
    "    print()\n",
    "for i in range(n//2, 0, -1):\n",
    "    for j in range(i-1):\n",
    "        print(\" \", end=\"\")\n",
    "    for k in range(n-2*i+2):\n",
    "        print(\"*\", end=\"\")\n",
    "    print()"
   ]
  },
  {
   "cell_type": "code",
   "execution_count": 9,
   "id": "a2c8f5db-076b-4dd1-bfb1-d638ce08fea3",
   "metadata": {},
   "outputs": [
    {
     "name": "stdin",
     "output_type": "stream",
     "text": [
      "Masukkan tinggi bagian atas dan bawah (bilangan ganjil):  10\n"
     ]
    },
    {
     "name": "stdout",
     "output_type": "stream",
     "text": [
      "* * * * *\n",
      " * * * *\n",
      "  * * *\n",
      "   * *\n",
      "    *\n",
      "   * *\n",
      "  * * *\n",
      " * * * *\n",
      "* * * * *\n"
     ]
    }
   ],
   "source": [
    "n = int(input(\"Masukkan tinggi bagian atas dan bawah (bilangan ganjil): \"))\n",
    "if n % 2 == 0:\n",
    "    n -= 1\n",
    "for i in range(n//2+1):\n",
    "    for j in range(i):\n",
    "        print(\" \", end=\"\")\n",
    "    for k in range(n-2*i):\n",
    "        if k % 2 == 0:\n",
    "            print(\"*\", end=\"\")\n",
    "        else:\n",
    "            print(\" \", end=\"\")\n",
    "    print()\n",
    "for i in range(n//2, 0, -1):\n",
    "    for j in range(i-1):\n",
    "        print(\" \", end=\"\")\n",
    "    for k in range(n-2*i+2):\n",
    "        if k % 2 == 0:\n",
    "            print(\"*\", end=\"\")\n",
    "        else:\n",
    "            print(\" \", end=\"\")\n",
    "    print()"
   ]
  },
  {
   "cell_type": "code",
   "execution_count": 18,
   "id": "2b49fc4d-4e59-4cb2-8e0c-08c616795d9c",
   "metadata": {},
   "outputs": [
    {
     "name": "stdin",
     "output_type": "stream",
     "text": [
      "Masukkan tinggi bagian atas dan bawah (bilangan ganjil):  10\n"
     ]
    },
    {
     "name": "stdout",
     "output_type": "stream",
     "text": [
      "* * * * *\n",
      " * * * *\n",
      "  * * *\n",
      "   * *\n",
      "    *\n",
      "   * *\n",
      "  * * *\n",
      " * * * *\n",
      "* * * * *\n"
     ]
    }
   ],
   "source": [
    "n = int(input(\"Masukkan tinggi bagian atas dan bawah (bilangan ganjil): \"))\n",
    "if n % 2 == 0:\n",
    "    n -= 1\n",
    "for i in range(n//2+1):\n",
    "    for j in range(i):\n",
    "        print(\" \", end=\"\")\n",
    "    for k in range(n-2*i):\n",
    "        if k % 2 == 0:\n",
    "            print(\"*\", end=\"\")\n",
    "        else:\n",
    "            print(\" \", end=\"\")\n",
    "    print()\n",
    "for i in range(n//2, 0, -1):\n",
    "    for j in range(i-1):\n",
    "        print(\" \", end=\"\")\n",
    "    for k in range(n-2*i+2):\n",
    "        if k % 2 == 0:\n",
    "            print(\"*\", end=\"\")\n",
    "        else:\n",
    "            print(\" \", end=\"\")\n",
    "    print()"
   ]
  },
  {
   "cell_type": "code",
   "execution_count": null,
   "id": "5790e0ba-e71c-4737-855e-c25bd6881102",
   "metadata": {},
   "outputs": [],
   "source": []
  }
 ],
 "metadata": {
  "kernelspec": {
   "display_name": "Python 3 (ipykernel)",
   "language": "python",
   "name": "python3"
  },
  "language_info": {
   "codemirror_mode": {
    "name": "ipython",
    "version": 3
   },
   "file_extension": ".py",
   "mimetype": "text/x-python",
   "name": "python",
   "nbconvert_exporter": "python",
   "pygments_lexer": "ipython3",
   "version": "3.9.13"
  }
 },
 "nbformat": 4,
 "nbformat_minor": 5
}
