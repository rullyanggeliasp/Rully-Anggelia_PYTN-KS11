{
 "cells": [
  {
   "cell_type": "markdown",
   "id": "883c991e-962a-4570-bffe-f149a98c4006",
   "metadata": {},
   "source": [
    "## Function, Module, Package"
   ]
  },
  {
   "cell_type": "code",
   "execution_count": 1,
   "id": "91e4c5e1-447c-4554-94e3-b179aa4db496",
   "metadata": {},
   "outputs": [
    {
     "data": {
      "text/plain": [
       "3"
      ]
     },
     "execution_count": 1,
     "metadata": {},
     "output_type": "execute_result"
    }
   ],
   "source": [
    "1 * 3"
   ]
  },
  {
   "cell_type": "code",
   "execution_count": 4,
   "id": "2037390d-402a-4378-8361-fd964fc8610d",
   "metadata": {},
   "outputs": [
    {
     "name": "stdout",
     "output_type": "stream",
     "text": [
      "3\n"
     ]
    }
   ],
   "source": [
    "def kali(a):\n",
    "    return a*3\n",
    "print(kali(1))"
   ]
  },
  {
   "cell_type": "code",
   "execution_count": 3,
   "id": "2acd08c7-2e2f-4ba5-b489-904bbaf5b41c",
   "metadata": {},
   "outputs": [],
   "source": [
    "kali(1)"
   ]
  },
  {
   "cell_type": "code",
   "execution_count": 9,
   "id": "9e7877f3-fe59-4cc7-9ad2-36b0853743fc",
   "metadata": {},
   "outputs": [
    {
     "name": "stdout",
     "output_type": "stream",
     "text": [
      "3\n"
     ]
    }
   ],
   "source": [
    "def kali(a):\n",
    "    print(a*3)\n",
    "x = kali(1)"
   ]
  },
  {
   "cell_type": "code",
   "execution_count": 6,
   "id": "ce244a4d-1193-4554-adcf-c311361d6535",
   "metadata": {},
   "outputs": [
    {
     "name": "stdout",
     "output_type": "stream",
     "text": [
      "3\n"
     ]
    }
   ],
   "source": [
    "print(a)"
   ]
  },
  {
   "cell_type": "code",
   "execution_count": 10,
   "id": "c1d981a6-2db2-479e-aa94-bf3062041be1",
   "metadata": {},
   "outputs": [
    {
     "name": "stdout",
     "output_type": "stream",
     "text": [
      "3\n"
     ]
    }
   ],
   "source": [
    "def kali(a,b):\n",
    "    return a*b\n",
    "print(kali(1,3))"
   ]
  },
  {
   "cell_type": "code",
   "execution_count": 11,
   "id": "091abc95-76d6-49db-89fd-da913d722e1f",
   "metadata": {},
   "outputs": [
    {
     "name": "stdout",
     "output_type": "stream",
     "text": [
      "144\n"
     ]
    }
   ],
   "source": [
    "x = kali(2,3)\n",
    "y = kali(4,6)\n",
    "z = kali(x,y)\n",
    "print(z)"
   ]
  },
  {
   "cell_type": "markdown",
   "id": "a2993883-f9aa-4e00-b532-b5ce56ed3313",
   "metadata": {},
   "source": [
    "Buat function yang berisi 3 parameter string yang akan dijoin menggunakan spasi dan dikonversi menjadi reverse\n",
    "- contoh\n",
    "- input :\n",
    "- str_joiner('Saya','Mau','Makan')\n",
    "- output:\n",
    "- nakam uam ayas"
   ]
  },
  {
   "cell_type": "code",
   "execution_count": 20,
   "id": "a908e37d-ef3f-4983-be18-671ff4b4b15b",
   "metadata": {},
   "outputs": [
    {
     "data": {
      "text/plain": [
       "'nakam uam ayas'"
      ]
     },
     "execution_count": 20,
     "metadata": {},
     "output_type": "execute_result"
    }
   ],
   "source": [
    "def str_joiner(a,b,c):\n",
    "        a=a.lower()\n",
    "        b=b.lower()\n",
    "        c=c.lower()\n",
    "        return (a +' ' + b + ' '+c) [::-1]\n",
    "str_joiner('Saya','Mau','Makan')"
   ]
  },
  {
   "cell_type": "markdown",
   "id": "b7231ec5-fe45-4d3d-be57-3c7450d7ad3b",
   "metadata": {},
   "source": [
    "1. variabel global\n",
    "2. variabel lokal"
   ]
  },
  {
   "cell_type": "code",
   "execution_count": 21,
   "id": "ad5f84f2-65dc-40b4-a002-ba442bfedf51",
   "metadata": {},
   "outputs": [
    {
     "name": "stdout",
     "output_type": "stream",
     "text": [
      "20\n"
     ]
    }
   ],
   "source": [
    "total = 20\n",
    "def function_a(a,b):\n",
    "    total = a+b\n",
    "    return\n",
    "print(total)\n",
    "function_a(1,2)"
   ]
  },
  {
   "cell_type": "code",
   "execution_count": 22,
   "id": "0fb2101c-fbdd-412f-9341-c0272ebe3716",
   "metadata": {},
   "outputs": [
    {
     "data": {
      "text/plain": [
       "20"
      ]
     },
     "execution_count": 22,
     "metadata": {},
     "output_type": "execute_result"
    }
   ],
   "source": [
    "total"
   ]
  },
  {
   "cell_type": "code",
   "execution_count": 23,
   "id": "c005b4ae-cc8a-4c0a-833f-c150a0c0fe7d",
   "metadata": {},
   "outputs": [
    {
     "name": "stdout",
     "output_type": "stream",
     "text": [
      "Tes\n"
     ]
    },
    {
     "ename": "NameError",
     "evalue": "name 'tes' is not defined",
     "output_type": "error",
     "traceback": [
      "\u001b[1;31m---------------------------------------------------------------------------\u001b[0m",
      "\u001b[1;31mNameError\u001b[0m                                 Traceback (most recent call last)",
      "\u001b[1;32m~\\AppData\\Local\\Temp\\ipykernel_11092\\3292191524.py\u001b[0m in \u001b[0;36m<module>\u001b[1;34m\u001b[0m\n\u001b[0;32m      3\u001b[0m     \u001b[0mprint\u001b[0m\u001b[1;33m(\u001b[0m\u001b[0mtes\u001b[0m\u001b[1;33m)\u001b[0m\u001b[1;33m\u001b[0m\u001b[1;33m\u001b[0m\u001b[0m\n\u001b[0;32m      4\u001b[0m \u001b[0mfunction_b\u001b[0m\u001b[1;33m(\u001b[0m\u001b[1;33m)\u001b[0m\u001b[1;33m\u001b[0m\u001b[1;33m\u001b[0m\u001b[0m\n\u001b[1;32m----> 5\u001b[1;33m \u001b[0mprint\u001b[0m\u001b[1;33m(\u001b[0m\u001b[0mtes\u001b[0m\u001b[1;33m)\u001b[0m\u001b[1;33m\u001b[0m\u001b[1;33m\u001b[0m\u001b[0m\n\u001b[0m",
      "\u001b[1;31mNameError\u001b[0m: name 'tes' is not defined"
     ]
    }
   ],
   "source": [
    "def function_b():\n",
    "    tes = 'Tes'\n",
    "    print(tes)\n",
    "function_b()\n",
    "print(tes)"
   ]
  },
  {
   "cell_type": "code",
   "execution_count": 3,
   "id": "0f7e4e06-60f1-4bea-91da-25659f2ececb",
   "metadata": {},
   "outputs": [],
   "source": [
    "mylist = [31,23,31,40,50,67,74,88,91,10,11,13]"
   ]
  },
  {
   "cell_type": "code",
   "execution_count": 6,
   "id": "ed19f810-1afa-4cd8-b5f6-ef13957cc24e",
   "metadata": {},
   "outputs": [],
   "source": [
    "def function_summary(list_):\n",
    "    ##????\n",
    "    pass\n",
    "function_summary([])"
   ]
  },
  {
   "cell_type": "markdown",
   "id": "f61dd138-ff7d-4e1f-ac5c-b7e33316c43c",
   "metadata": {},
   "source": [
    "## Quiz "
   ]
  },
  {
   "cell_type": "markdown",
   "id": "9890c74d-2cd4-446e-8751-39a3c4aa7540",
   "metadata": {},
   "source": [
    "Output Function:\n",
    "- A. n angka ganjil adalah = 7\n",
    "- B. n angka genap adalah = 6\n",
    "- C. sum angka ganjil adalah =\n",
    "- D. sum angka genap adalah = 100"
   ]
  },
  {
   "cell_type": "code",
   "execution_count": 7,
   "id": "304ce877-9a37-4ca8-b527-0e85e4b4b8ac",
   "metadata": {},
   "outputs": [
    {
     "name": "stdout",
     "output_type": "stream",
     "text": [
      "7\n",
      "5\n",
      "267\n",
      "262\n"
     ]
    }
   ],
   "source": [
    "mylist = [31,23,31,40,50,67,74,88,91,10,11,13]\n",
    "\n",
    "def list_summary(lst):\n",
    "    nGenap = 0 #placeholder n angka genap\n",
    "    nGanjil = 0\n",
    "    sumGenap = 0\n",
    "    sumGanjil = 0\n",
    "    for i in lst:\n",
    "        if i % 2 == 0 : #untuk filter angka genap\n",
    "            nGenap +=1\n",
    "            sumGenap +=i\n",
    "        else: # untuk filter angka ganjil\n",
    "            nGanjil +=1\n",
    "            sumGanjil +=i\n",
    "    print(nGanjil)\n",
    "    print(nGenap)\n",
    "    print(sumGanjil)\n",
    "    print(sumGenap)\n",
    "    \n",
    "list_summary(mylist)"
   ]
  },
  {
   "cell_type": "code",
   "execution_count": 26,
   "id": "baea8c32-caae-461f-89f9-da5ebe24090e",
   "metadata": {},
   "outputs": [
    {
     "name": "stdout",
     "output_type": "stream",
     "text": [
      "Name:  Budi\n",
      "Age:  30\n"
     ]
    }
   ],
   "source": [
    "# default argument\n",
    "def printinfo(name,age=26):\n",
    "    print(\"Name: \",name)\n",
    "    print(\"Age: \",age)\n",
    "printinfo(\"Budi\",30)"
   ]
  },
  {
   "cell_type": "code",
   "execution_count": 27,
   "id": "e8a1586b-544e-4875-a5a0-2e949b4da83a",
   "metadata": {},
   "outputs": [
    {
     "name": "stdout",
     "output_type": "stream",
     "text": [
      "Name:  Rahmat\n",
      "Age:  44\n"
     ]
    }
   ],
   "source": [
    "printinfo(age=44,name=\"Rahmat\")"
   ]
  },
  {
   "cell_type": "code",
   "execution_count": 28,
   "id": "3f5a35f9-2426-4751-9fec-e296aaa7621e",
   "metadata": {},
   "outputs": [],
   "source": [
    "# variable length argument\n",
    "def printinto(x, *vatuple):\n",
    "    print('Output is:')\n",
    "    print(x)\n",
    "    for i in vartuple:\n",
    "        print(vartuple)\n",
    "    "
   ]
  },
  {
   "cell_type": "code",
   "execution_count": 31,
   "id": "76ecffc6-8a35-4847-a57a-f037567fabeb",
   "metadata": {},
   "outputs": [
    {
     "name": "stdout",
     "output_type": "stream",
     "text": [
      "Outpus is:\n",
      "8\n"
     ]
    },
    {
     "ename": "NameError",
     "evalue": "name 'vartuple' is not defined",
     "output_type": "error",
     "traceback": [
      "\u001b[1;31m---------------------------------------------------------------------------\u001b[0m",
      "\u001b[1;31mNameError\u001b[0m                                 Traceback (most recent call last)",
      "\u001b[1;32m~\\AppData\\Local\\Temp\\ipykernel_11092\\2178354243.py\u001b[0m in \u001b[0;36m<module>\u001b[1;34m\u001b[0m\n\u001b[1;32m----> 1\u001b[1;33m \u001b[0mprintinto\u001b[0m\u001b[1;33m(\u001b[0m\u001b[1;36m8\u001b[0m\u001b[1;33m,\u001b[0m\u001b[1;36m9\u001b[0m\u001b[1;33m,\u001b[0m\u001b[1;36m20\u001b[0m\u001b[1;33m,\u001b[0m\u001b[1;36m30\u001b[0m\u001b[1;33m,\u001b[0m\u001b[1;34m'Name'\u001b[0m\u001b[1;33m,\u001b[0m\u001b[1;36m90\u001b[0m\u001b[1;33m,\u001b[0m\u001b[1;36m100\u001b[0m\u001b[1;33m)\u001b[0m\u001b[1;33m\u001b[0m\u001b[1;33m\u001b[0m\u001b[0m\n\u001b[0m",
      "\u001b[1;32m~\\AppData\\Local\\Temp\\ipykernel_11092\\3049193272.py\u001b[0m in \u001b[0;36mprintinto\u001b[1;34m(x, *vatuple)\u001b[0m\n\u001b[0;32m      3\u001b[0m     \u001b[0mprint\u001b[0m\u001b[1;33m(\u001b[0m\u001b[1;34m'Outpus is:'\u001b[0m\u001b[1;33m)\u001b[0m\u001b[1;33m\u001b[0m\u001b[1;33m\u001b[0m\u001b[0m\n\u001b[0;32m      4\u001b[0m     \u001b[0mprint\u001b[0m\u001b[1;33m(\u001b[0m\u001b[0mx\u001b[0m\u001b[1;33m)\u001b[0m\u001b[1;33m\u001b[0m\u001b[1;33m\u001b[0m\u001b[0m\n\u001b[1;32m----> 5\u001b[1;33m     \u001b[1;32mfor\u001b[0m \u001b[0mi\u001b[0m \u001b[1;32min\u001b[0m \u001b[0mvartuple\u001b[0m\u001b[1;33m:\u001b[0m\u001b[1;33m\u001b[0m\u001b[1;33m\u001b[0m\u001b[0m\n\u001b[0m\u001b[0;32m      6\u001b[0m         \u001b[0mprint\u001b[0m\u001b[1;33m(\u001b[0m\u001b[0mi\u001b[0m\u001b[1;33m)\u001b[0m\u001b[1;33m\u001b[0m\u001b[1;33m\u001b[0m\u001b[0m\n\u001b[0;32m      7\u001b[0m \u001b[1;33m\u001b[0m\u001b[0m\n",
      "\u001b[1;31mNameError\u001b[0m: name 'vartuple' is not defined"
     ]
    }
   ],
   "source": [
    "printinto(8,9,20,30,'Name',90,100)"
   ]
  },
  {
   "cell_type": "markdown",
   "id": "88bc0ca8-7c37-41e0-ac27-300e79934b82",
   "metadata": {},
   "source": [
    "## Lambda"
   ]
  },
  {
   "cell_type": "code",
   "execution_count": 32,
   "id": "bd1b7d39-1b63-4227-94ff-381443a73786",
   "metadata": {},
   "outputs": [
    {
     "name": "stdout",
     "output_type": "stream",
     "text": [
      "3\n"
     ]
    }
   ],
   "source": [
    "def sum(x,y):\n",
    "    return x + y\n",
    "print(sum(1,2))"
   ]
  },
  {
   "cell_type": "code",
   "execution_count": 33,
   "id": "ca2d9d08-04c6-4e12-bd40-8e37578e5a7e",
   "metadata": {},
   "outputs": [
    {
     "name": "stdout",
     "output_type": "stream",
     "text": [
      "15\n"
     ]
    }
   ],
   "source": [
    "perkalian = lambda x,y:x*y\n",
    "print(perkalian(3,5))"
   ]
  },
  {
   "cell_type": "markdown",
   "id": "1ef24280-0635-40f3-bc7f-17d9494c584a",
   "metadata": {},
   "source": [
    "## Modules"
   ]
  },
  {
   "cell_type": "code",
   "execution_count": 35,
   "id": "dca6b89e-b6bf-4a71-b20a-0c1b4815ced5",
   "metadata": {},
   "outputs": [],
   "source": [
    "import numpy as np"
   ]
  },
  {
   "cell_type": "code",
   "execution_count": 36,
   "id": "05f414cd-ab33-46bb-ae10-135dc4b0e73d",
   "metadata": {},
   "outputs": [
    {
     "data": {
      "text/plain": [
       "3.0"
      ]
     },
     "execution_count": 36,
     "metadata": {},
     "output_type": "execute_result"
    }
   ],
   "source": [
    "np.sqrt(9)"
   ]
  },
  {
   "cell_type": "code",
   "execution_count": 8,
   "id": "151876b7-7d03-402a-833d-2b34e7e38293",
   "metadata": {},
   "outputs": [],
   "source": [
    "import mod"
   ]
  },
  {
   "cell_type": "code",
   "execution_count": 9,
   "id": "25713273-7577-490d-9c6b-9588f645c8f0",
   "metadata": {},
   "outputs": [
    {
     "ename": "NameError",
     "evalue": "name 'mod3' is not defined",
     "output_type": "error",
     "traceback": [
      "\u001b[1;31m---------------------------------------------------------------------------\u001b[0m",
      "\u001b[1;31mNameError\u001b[0m                                 Traceback (most recent call last)",
      "\u001b[1;32m~\\AppData\\Local\\Temp\\ipykernel_12808\\1280805846.py\u001b[0m in \u001b[0;36m<module>\u001b[1;34m\u001b[0m\n\u001b[1;32m----> 1\u001b[1;33m \u001b[0mmod3\u001b[0m\u001b[1;33m\u001b[0m\u001b[1;33m\u001b[0m\u001b[0m\n\u001b[0m",
      "\u001b[1;31mNameError\u001b[0m: name 'mod3' is not defined"
     ]
    }
   ],
   "source": [
    "mod3"
   ]
  },
  {
   "cell_type": "code",
   "execution_count": null,
   "id": "b913ed28-f03e-4811-b409-29c65969a25d",
   "metadata": {},
   "outputs": [],
   "source": [
    "import sys"
   ]
  },
  {
   "cell_type": "code",
   "execution_count": 1,
   "id": "5ad07cc0-94c3-4aa7-ba64-b2ebc1c5754b",
   "metadata": {},
   "outputs": [
    {
     "ename": "NameError",
     "evalue": "name 'sys' is not defined",
     "output_type": "error",
     "traceback": [
      "\u001b[1;31m---------------------------------------------------------------------------\u001b[0m",
      "\u001b[1;31mNameError\u001b[0m                                 Traceback (most recent call last)",
      "\u001b[1;32m~\\AppData\\Local\\Temp\\ipykernel_12808\\3374087864.py\u001b[0m in \u001b[0;36m<module>\u001b[1;34m\u001b[0m\n\u001b[1;32m----> 1\u001b[1;33m \u001b[0msys\u001b[0m\u001b[1;33m.\u001b[0m\u001b[0mpath\u001b[0m\u001b[1;33m\u001b[0m\u001b[1;33m\u001b[0m\u001b[0m\n\u001b[0m",
      "\u001b[1;31mNameError\u001b[0m: name 'sys' is not defined"
     ]
    }
   ],
   "source": [
    "sys.path"
   ]
  },
  {
   "cell_type": "code",
   "execution_count": 37,
   "id": "4a71cf9f-9a97-47b2-b583-9bdcf0773fd7",
   "metadata": {},
   "outputs": [
    {
     "data": {
      "text/plain": [
       "['In',\n",
       " 'Out',\n",
       " '_',\n",
       " '_1',\n",
       " '_19',\n",
       " '_20',\n",
       " '_22',\n",
       " '_36',\n",
       " '__',\n",
       " '___',\n",
       " '__builtin__',\n",
       " '__builtins__',\n",
       " '__doc__',\n",
       " '__loader__',\n",
       " '__name__',\n",
       " '__package__',\n",
       " '__spec__',\n",
       " '_dh',\n",
       " '_i',\n",
       " '_i1',\n",
       " '_i10',\n",
       " '_i11',\n",
       " '_i12',\n",
       " '_i13',\n",
       " '_i14',\n",
       " '_i15',\n",
       " '_i16',\n",
       " '_i17',\n",
       " '_i19',\n",
       " '_i2',\n",
       " '_i20',\n",
       " '_i21',\n",
       " '_i22',\n",
       " '_i23',\n",
       " '_i24',\n",
       " '_i25',\n",
       " '_i26',\n",
       " '_i27',\n",
       " '_i28',\n",
       " '_i29',\n",
       " '_i3',\n",
       " '_i30',\n",
       " '_i31',\n",
       " '_i32',\n",
       " '_i33',\n",
       " '_i34',\n",
       " '_i35',\n",
       " '_i36',\n",
       " '_i37',\n",
       " '_i4',\n",
       " '_i5',\n",
       " '_i6',\n",
       " '_i7',\n",
       " '_i8',\n",
       " '_i9',\n",
       " '_ih',\n",
       " '_ii',\n",
       " '_iii',\n",
       " '_oh',\n",
       " 'a',\n",
       " 'exit',\n",
       " 'function_a',\n",
       " 'function_b',\n",
       " 'get_ipython',\n",
       " 'joiner',\n",
       " 'kali',\n",
       " 'kata',\n",
       " 'np',\n",
       " 'perkalian',\n",
       " 'printinfo',\n",
       " 'printinto',\n",
       " 'quit',\n",
       " 'str_joiner',\n",
       " 'sum',\n",
       " 'total',\n",
       " 'x',\n",
       " 'y',\n",
       " 'z']"
      ]
     },
     "execution_count": 37,
     "metadata": {},
     "output_type": "execute_result"
    }
   ],
   "source": [
    "dir()"
   ]
  }
 ],
 "metadata": {
  "kernelspec": {
   "display_name": "Python 3 (ipykernel)",
   "language": "python",
   "name": "python3"
  },
  "language_info": {
   "codemirror_mode": {
    "name": "ipython",
    "version": 3
   },
   "file_extension": ".py",
   "mimetype": "text/x-python",
   "name": "python",
   "nbconvert_exporter": "python",
   "pygments_lexer": "ipython3",
   "version": "3.9.13"
  }
 },
 "nbformat": 4,
 "nbformat_minor": 5
}
