{
 "cells": [
  {
   "cell_type": "markdown",
   "id": "e4a54d7b-7612-4a6d-bc4d-9056b3e7927b",
   "metadata": {},
   "source": [
    "## Integer = Bilangan Bulat"
   ]
  },
  {
   "cell_type": "code",
   "execution_count": 2,
   "id": "c5d0154b-10e4-49a3-8abc-cb5a26d2aefd",
   "metadata": {},
   "outputs": [
    {
     "name": "stdout",
     "output_type": "stream",
     "text": [
      "1000000000000\n"
     ]
    }
   ],
   "source": [
    "print(1000000000000)"
   ]
  },
  {
   "cell_type": "code",
   "execution_count": 3,
   "id": "80305867-01b1-40df-8b79-6dc34d43f0ec",
   "metadata": {},
   "outputs": [
    {
     "name": "stdout",
     "output_type": "stream",
     "text": [
      "<class 'int'>\n"
     ]
    }
   ],
   "source": [
    "print(type(3))"
   ]
  },
  {
   "cell_type": "markdown",
   "id": "84f0bc4a-b089-46a7-8454-638bb5b6069b",
   "metadata": {},
   "source": [
    "## Float"
   ]
  },
  {
   "cell_type": "code",
   "execution_count": 4,
   "id": "6961168a-c9d8-4681-b0b1-bd7c391a371f",
   "metadata": {},
   "outputs": [
    {
     "name": "stdout",
     "output_type": "stream",
     "text": [
      "3.5\n",
      "2.3\n"
     ]
    }
   ],
   "source": [
    "print(3.5)\n",
    "print(2.3)"
   ]
  },
  {
   "cell_type": "code",
   "execution_count": 5,
   "id": "de881cae-4063-40ad-b327-a2908cc95974",
   "metadata": {},
   "outputs": [
    {
     "name": "stdout",
     "output_type": "stream",
     "text": [
      "<class 'float'>\n"
     ]
    }
   ],
   "source": [
    "print(type(2.3))"
   ]
  },
  {
   "cell_type": "code",
   "execution_count": 6,
   "id": "2de316be-f0ae-4929-86a9-e11de1f7f0c4",
   "metadata": {},
   "outputs": [
    {
     "name": "stdout",
     "output_type": "stream",
     "text": [
      "0.00042\n"
     ]
    }
   ],
   "source": [
    "print(4.2e-4)"
   ]
  },
  {
   "cell_type": "code",
   "execution_count": 7,
   "id": "bb572904-a5a8-4bb1-ae80-62cd47254ca6",
   "metadata": {},
   "outputs": [
    {
     "name": "stdout",
     "output_type": "stream",
     "text": [
      "<class 'float'>\n"
     ]
    }
   ],
   "source": [
    "print(type(4.2e7))"
   ]
  },
  {
   "cell_type": "markdown",
   "id": "f8f7bd23-760e-4a9e-a93c-cb4f362b4f90",
   "metadata": {},
   "source": [
    "## String"
   ]
  },
  {
   "cell_type": "code",
   "execution_count": 9,
   "id": "47e2f34c-1fcf-43cf-b29a-e10c5f6c7e44",
   "metadata": {},
   "outputs": [
    {
     "name": "stdout",
     "output_type": "stream",
     "text": [
      "Nama Saya adalah Fachri\n"
     ]
    }
   ],
   "source": [
    "print(\"Nama Saya adalah Fachri\")"
   ]
  },
  {
   "cell_type": "code",
   "execution_count": 10,
   "id": "d8699a0e-dac4-410f-8738-e428240c1219",
   "metadata": {},
   "outputs": [
    {
     "name": "stdout",
     "output_type": "stream",
     "text": [
      "Budi bermain bola\n"
     ]
    }
   ],
   "source": [
    "print('Budi bermain bola')"
   ]
  },
  {
   "cell_type": "code",
   "execution_count": null,
   "id": "ddc9ffcf-ab95-434c-b21e-925f5646e287",
   "metadata": {},
   "outputs": [],
   "source": []
  },
  {
   "cell_type": "code",
   "execution_count": 11,
   "id": "15928660-1acf-47e6-bcf8-0a344a492a70",
   "metadata": {},
   "outputs": [
    {
     "name": "stdout",
     "output_type": "stream",
     "text": [
      "<class 'str'>\n"
     ]
    }
   ],
   "source": [
    "print(type('Budi bermain bola'))"
   ]
  },
  {
   "cell_type": "markdown",
   "id": "a91bade8-eb40-447b-a6fd-0224e6ca65ce",
   "metadata": {},
   "source": [
    "## Boolean"
   ]
  },
  {
   "cell_type": "code",
   "execution_count": 12,
   "id": "0305e7bf-aca1-408e-bb71-9f2c505e3f25",
   "metadata": {},
   "outputs": [
    {
     "data": {
      "text/plain": [
       "False"
      ]
     },
     "execution_count": 12,
     "metadata": {},
     "output_type": "execute_result"
    }
   ],
   "source": [
    "True\n",
    "False"
   ]
  },
  {
   "cell_type": "code",
   "execution_count": 13,
   "id": "4b1f0c98-228f-4c58-8fee-aac145fa3bc5",
   "metadata": {},
   "outputs": [
    {
     "name": "stdout",
     "output_type": "stream",
     "text": [
      "True\n"
     ]
    }
   ],
   "source": [
    "print(True)"
   ]
  },
  {
   "cell_type": "code",
   "execution_count": 14,
   "id": "08faffc6-c750-429d-aca1-2cfece0ca062",
   "metadata": {},
   "outputs": [
    {
     "name": "stdout",
     "output_type": "stream",
     "text": [
      "False\n"
     ]
    }
   ],
   "source": [
    "print(False)"
   ]
  },
  {
   "cell_type": "code",
   "execution_count": 15,
   "id": "9f580452-b8cc-4142-b2ff-276044418c4b",
   "metadata": {},
   "outputs": [
    {
     "name": "stdout",
     "output_type": "stream",
     "text": [
      "<class 'bool'>\n"
     ]
    }
   ],
   "source": [
    "print(type(True))"
   ]
  },
  {
   "cell_type": "markdown",
   "id": "afcbb92e-e966-4c45-9235-b88141b7526c",
   "metadata": {},
   "source": [
    "Ada 4 data types yang paling sering digunakan :\n",
    "1. Integer\n",
    "2. Float\n",
    "3. String\n",
    "4. Boolean"
   ]
  },
  {
   "cell_type": "markdown",
   "id": "a8624961-bbdb-4606-be6a-3c056e969feb",
   "metadata": {},
   "source": [
    "## Variable Assignment"
   ]
  },
  {
   "cell_type": "code",
   "execution_count": 17,
   "id": "3a1908cd-891d-4baa-a151-89261647ac7e",
   "metadata": {},
   "outputs": [
    {
     "name": "stdout",
     "output_type": "stream",
     "text": [
      "300\n",
      "<class 'int'>\n",
      "<class 'int'>\n"
     ]
    }
   ],
   "source": [
    "angka = 300\n",
    "print(angka)\n",
    "print(type(angka))\n",
    "print(type(300))"
   ]
  },
  {
   "cell_type": "code",
   "execution_count": 18,
   "id": "3b97309b-9ce7-47af-b3b4-5b1229388a15",
   "metadata": {},
   "outputs": [
    {
     "name": "stdout",
     "output_type": "stream",
     "text": [
      "haha\n",
      "<class 'str'>\n"
     ]
    }
   ],
   "source": [
    "teks = 'haha'\n",
    "print(teks)\n",
    "print(type(teks))"
   ]
  },
  {
   "cell_type": "code",
   "execution_count": 19,
   "id": "d38d11dd-64d8-4b00-b0b5-11f12c2e6aef",
   "metadata": {},
   "outputs": [
    {
     "name": "stdout",
     "output_type": "stream",
     "text": [
      "300 300 300\n"
     ]
    }
   ],
   "source": [
    "a = b = c = 300\n",
    "print(a,b,c)"
   ]
  },
  {
   "cell_type": "code",
   "execution_count": 20,
   "id": "40103739-f1c2-4030-ac69-c8b8feb430a1",
   "metadata": {},
   "outputs": [
    {
     "name": "stdout",
     "output_type": "stream",
     "text": [
      "<class 'int'>\n"
     ]
    }
   ],
   "source": [
    "print(type(b))"
   ]
  },
  {
   "cell_type": "code",
   "execution_count": 21,
   "id": "8c45855e-3b92-4cd2-9256-d658a07c2c67",
   "metadata": {},
   "outputs": [],
   "source": [
    "rumah = 'Bekasi'\n",
    "Rumah = 'Jakarta'"
   ]
  },
  {
   "cell_type": "code",
   "execution_count": 22,
   "id": "4d1b7285-94e6-4d9a-9f30-ef6d11ed5466",
   "metadata": {},
   "outputs": [
    {
     "name": "stdout",
     "output_type": "stream",
     "text": [
      "Bekasi Jakarta\n"
     ]
    }
   ],
   "source": [
    "print(rumah, Rumah)"
   ]
  },
  {
   "cell_type": "markdown",
   "id": "4420561f-16b5-41c3-919b-32745ae7fe07",
   "metadata": {},
   "source": [
    "ctrl + / untuk comment"
   ]
  },
  {
   "cell_type": "code",
   "execution_count": 23,
   "id": "a5351306-bc1d-4a7c-8d84-4fc3f9e8bf2a",
   "metadata": {},
   "outputs": [],
   "source": [
    "# Nama variabel tidak diperbolehkan dimulai dengan angka\n",
    "# 0_Rumah='a'"
   ]
  },
  {
   "cell_type": "code",
   "execution_count": 24,
   "id": "576131bd-d1b5-4020-9967-4696fe27fb3b",
   "metadata": {},
   "outputs": [],
   "source": [
    "# rumah = 'budi'"
   ]
  },
  {
   "cell_type": "code",
   "execution_count": 25,
   "id": "2116a0d2-8442-42bf-8c7c-b2b4bf1e9976",
   "metadata": {},
   "outputs": [
    {
     "name": "stdout",
     "output_type": "stream",
     "text": [
      "Bekasi\n"
     ]
    }
   ],
   "source": [
    "print(rumah)"
   ]
  },
  {
   "cell_type": "markdown",
   "id": "7d487986-7f25-4e69-be08-7840ca33d84e",
   "metadata": {},
   "source": [
    "## Arithmetic Operators"
   ]
  },
  {
   "cell_type": "code",
   "execution_count": 26,
   "id": "b60dc3f9-0b8e-4773-b12e-3a1802a1b6de",
   "metadata": {},
   "outputs": [
    {
     "name": "stdout",
     "output_type": "stream",
     "text": [
      "30\n"
     ]
    }
   ],
   "source": [
    "a = 10\n",
    "b = 20\n",
    "print(a+b)"
   ]
  },
  {
   "cell_type": "code",
   "execution_count": 27,
   "id": "86e8daa1-a444-4efe-9af7-69fb32269c0f",
   "metadata": {},
   "outputs": [
    {
     "name": "stdout",
     "output_type": "stream",
     "text": [
      "-10\n"
     ]
    }
   ],
   "source": [
    "print(a-b)"
   ]
  },
  {
   "cell_type": "code",
   "execution_count": 28,
   "id": "df00f413-164a-47cf-a8c3-30de296f42da",
   "metadata": {},
   "outputs": [
    {
     "name": "stdout",
     "output_type": "stream",
     "text": [
      "200\n"
     ]
    }
   ],
   "source": [
    "print(a*b)"
   ]
  },
  {
   "cell_type": "code",
   "execution_count": 33,
   "id": "e36a14f2-3d4c-4201-8445-0037de89dca3",
   "metadata": {},
   "outputs": [
    {
     "name": "stdout",
     "output_type": "stream",
     "text": [
      "0.5\n",
      "0\n",
      "1.5\n",
      "1\n",
      "<class 'float'>\n",
      "<class 'int'>\n"
     ]
    }
   ],
   "source": [
    "# Pembagian\n",
    "print(a/b)\n",
    "print(a//b)\n",
    "print(3/2)\n",
    "print(3//2)\n",
    "print(type(3/2))\n",
    "print(type(3//2))"
   ]
  },
  {
   "cell_type": "markdown",
   "id": "2cb677f4-5f50-42ee-a75b-de7bb7dec0b1",
   "metadata": {},
   "source": [
    "# Modulo (%)\n",
    "print(7/2)\n",
    "print(7%2)\n",
    "print(11%2)\n",
    "print(10%2)"
   ]
  },
  {
   "cell_type": "code",
   "execution_count": 31,
   "id": "e1aa5c0b-244b-4228-a36d-c946f32e26f9",
   "metadata": {},
   "outputs": [
    {
     "name": "stdout",
     "output_type": "stream",
     "text": [
      "49\n",
      "4\n"
     ]
    }
   ],
   "source": [
    "# Pangkat (**)\n",
    "print(7**2)\n",
    "print(2**2)"
   ]
  },
  {
   "cell_type": "markdown",
   "id": "13cd1b6d-8bc0-49ee-8c79-9cd43685069d",
   "metadata": {},
   "source": [
    "## QUIZ "
   ]
  },
  {
   "cell_type": "code",
   "execution_count": 35,
   "id": "3a4d5bda-7730-4f21-8958-dfcd80016b96",
   "metadata": {},
   "outputs": [
    {
     "name": "stdout",
     "output_type": "stream",
     "text": [
      "86.0\n"
     ]
    }
   ],
   "source": [
    "c = 30\n",
    "f = (9/5 * c) + 32\n",
    "print (f)"
   ]
  },
  {
   "cell_type": "markdown",
   "id": "ae1e6323-dfca-4de3-ac36-0eb5a26f6734",
   "metadata": {},
   "source": [
    "## Comparison Operators"
   ]
  },
  {
   "cell_type": "code",
   "execution_count": 36,
   "id": "9aa9ffb4-93dc-4cf0-8204-27835d245652",
   "metadata": {},
   "outputs": [],
   "source": [
    "c = 10\n",
    "d = 30\n",
    "e = 10\n",
    "f = 20"
   ]
  },
  {
   "cell_type": "code",
   "execution_count": 37,
   "id": "623e05a3-cc1f-4d72-848d-337d7c349431",
   "metadata": {},
   "outputs": [],
   "source": [
    "rumah1= 'bekasi'\n",
    "rumah2 = 'jakarta'\n",
    "rumah3='jakarta'"
   ]
  },
  {
   "cell_type": "code",
   "execution_count": 38,
   "id": "86bb2d3c-614b-4b9c-9356-b5a575175afe",
   "metadata": {},
   "outputs": [
    {
     "name": "stdout",
     "output_type": "stream",
     "text": [
      "False\n",
      "True\n",
      "True\n"
     ]
    }
   ],
   "source": [
    "# Persamaan (==)\n",
    "print(c==d)\n",
    "print(c==e)\n",
    "print(rumah2==rumah3)"
   ]
  },
  {
   "cell_type": "code",
   "execution_count": 39,
   "id": "dd8c242d-8e92-4a7c-a104-e2c5b3dd892d",
   "metadata": {},
   "outputs": [
    {
     "name": "stdout",
     "output_type": "stream",
     "text": [
      "False\n",
      "True\n",
      "False\n",
      "True\n",
      "True\n",
      "True\n"
     ]
    }
   ],
   "source": [
    "# Lebih dari atau kurang dari\n",
    "print(c>d)\n",
    "print(c<d)\n",
    "print(c>=d)\n",
    "print(c<=d)\n",
    "print(c<=e)\n",
    "print(c>=e)"
   ]
  },
  {
   "cell_type": "code",
   "execution_count": 40,
   "id": "0363977e-66db-4481-8e5a-046ce8848ac2",
   "metadata": {},
   "outputs": [
    {
     "name": "stdout",
     "output_type": "stream",
     "text": [
      "True\n",
      "False\n",
      "True\n"
     ]
    }
   ],
   "source": [
    "# TIdak sama dengan / Not Equal (!=)\n",
    "print(c!=d)\n",
    "print(c!=e)\n",
    "print(rumah1!=rumah2)"
   ]
  },
  {
   "cell_type": "markdown",
   "id": "a2e2b817-3499-4eb2-a977-dce2357cbeae",
   "metadata": {},
   "source": [
    "## String Manipulation"
   ]
  },
  {
   "cell_type": "code",
   "execution_count": 41,
   "id": "e864bb3b-87d7-49e6-b9aa-59c815193708",
   "metadata": {},
   "outputs": [
    {
     "name": "stdout",
     "output_type": "stream",
     "text": [
      "barfoo\n",
      "foobarbaz\n"
     ]
    }
   ],
   "source": [
    "# Operator +\n",
    "s = 'foo'\n",
    "t = 'bar'\n",
    "u = 'baz'\n",
    "\n",
    "print(t+s)\n",
    "\n",
    "print(s+t+u)"
   ]
  },
  {
   "cell_type": "code",
   "execution_count": 42,
   "id": "9afab7e1-e5be-4cfe-ba6e-041e4296a8b8",
   "metadata": {},
   "outputs": [
    {
     "name": "stdout",
     "output_type": "stream",
     "text": [
      "foofoofoofoofoofoofoofoofoofoo\n"
     ]
    }
   ],
   "source": [
    "# Operator *\n",
    "print(s*10)"
   ]
  },
  {
   "cell_type": "code",
   "execution_count": 43,
   "id": "bdf69346-8851-45b6-bead-966f2b937032",
   "metadata": {},
   "outputs": [
    {
     "name": "stdout",
     "output_type": "stream",
     "text": [
      "True\n",
      "False\n"
     ]
    }
   ],
   "source": [
    "# Operator in\n",
    "a='buah'\n",
    "print(a in 'Saya mau beli buah')\n",
    "print(a in 'Saya mau beli singkong')"
   ]
  },
  {
   "cell_type": "code",
   "execution_count": 44,
   "id": "d4e8225d-1fbb-444f-853a-731dd86a0952",
   "metadata": {},
   "outputs": [
    {
     "name": "stdout",
     "output_type": "stream",
     "text": [
      "BUAH\n"
     ]
    }
   ],
   "source": [
    "# upper\n",
    "a = 'buah'\n",
    "print(a.upper())"
   ]
  },
  {
   "cell_type": "code",
   "execution_count": 45,
   "id": "b30a4252-e61e-486c-835f-e8c404c71891",
   "metadata": {},
   "outputs": [
    {
     "name": "stdout",
     "output_type": "stream",
     "text": [
      "buah\n"
     ]
    }
   ],
   "source": [
    "b = 'BUAH'\n",
    "print(b.lower())"
   ]
  },
  {
   "cell_type": "code",
   "execution_count": 46,
   "id": "f80455d7-d523-4fbc-bbe5-73b191c4278c",
   "metadata": {},
   "outputs": [
    {
     "name": "stdout",
     "output_type": "stream",
     "text": [
      "Sayac\n"
     ]
    }
   ],
   "source": [
    "c = 'sAyAc'\n",
    "print(c.capitalize())"
   ]
  },
  {
   "cell_type": "code",
   "execution_count": 47,
   "id": "c32d4e8e-d356-4e64-ae79-53212793dd5c",
   "metadata": {},
   "outputs": [
    {
     "name": "stdout",
     "output_type": "stream",
     "text": [
      "Saya mau makan\n",
      "Saya Mau Makan\n",
      "saYA MaU mAKAN\n"
     ]
    }
   ],
   "source": [
    "d = 'SAya mAu Makan'\n",
    "print(d.capitalize())\n",
    "print(d.title())\n",
    "print(d.swapcase())"
   ]
  },
  {
   "cell_type": "markdown",
   "id": "c3a030ad-2775-405d-8076-2481eec8da8c",
   "metadata": {},
   "source": [
    "## Python Lists"
   ]
  },
  {
   "cell_type": "code",
   "execution_count": 48,
   "id": "56aaa294-f155-41ac-91d9-43a8f2f27082",
   "metadata": {},
   "outputs": [],
   "source": [
    "a = ['saya','mau','makan']\n",
    "c = ['makan','mau','saya']"
   ]
  },
  {
   "cell_type": "code",
   "execution_count": 49,
   "id": "df08b1bb-0f25-48cf-890a-2b1815c1bcf5",
   "metadata": {},
   "outputs": [
    {
     "name": "stdout",
     "output_type": "stream",
     "text": [
      "['saya', 'mau', 'makan']\n"
     ]
    }
   ],
   "source": [
    "print(a)"
   ]
  },
  {
   "cell_type": "code",
   "execution_count": 50,
   "id": "1c63ceda-bd57-4d18-af01-57bfcb12e3e4",
   "metadata": {},
   "outputs": [
    {
     "name": "stdout",
     "output_type": "stream",
     "text": [
      "['saya', 1, True, 3.7]\n"
     ]
    }
   ],
   "source": [
    "b = ['saya',1,True,3.7]\n",
    "print(b)"
   ]
  },
  {
   "cell_type": "code",
   "execution_count": 51,
   "id": "12e91a85-9e0c-4917-aa69-bd2568c3e48b",
   "metadata": {},
   "outputs": [
    {
     "name": "stdout",
     "output_type": "stream",
     "text": [
      "False\n"
     ]
    }
   ],
   "source": [
    "print(a==c)"
   ]
  },
  {
   "cell_type": "markdown",
   "id": "a56c7297-b11e-45a1-bcb8-9903ebb4d3cb",
   "metadata": {},
   "source": [
    "## Indexing dan Slicing"
   ]
  },
  {
   "cell_type": "code",
   "execution_count": 52,
   "id": "c8e21e52-c653-4fd8-bbcb-a75f41d0c13c",
   "metadata": {},
   "outputs": [
    {
     "name": "stdout",
     "output_type": "stream",
     "text": [
      "['foo', 'bar', 'baz', 'qux', 'quux', 'corge']\n"
     ]
    }
   ],
   "source": [
    "# List can be accessed by Index\n",
    "a = ['foo','bar','baz','qux','quux','corge']\n",
    "print(a)"
   ]
  },
  {
   "cell_type": "code",
   "execution_count": 53,
   "id": "95ce76b3-d257-4715-836e-232b76c11fce",
   "metadata": {},
   "outputs": [
    {
     "name": "stdout",
     "output_type": "stream",
     "text": [
      "foo\n",
      "qux\n"
     ]
    }
   ],
   "source": [
    "# Indexing\n",
    "print(a[0])\n",
    "print(a[3])"
   ]
  },
  {
   "cell_type": "code",
   "execution_count": 54,
   "id": "01b2b978-d0ca-4b87-9500-0256c048c447",
   "metadata": {},
   "outputs": [
    {
     "name": "stdout",
     "output_type": "stream",
     "text": [
      "foo\n"
     ]
    }
   ],
   "source": [
    "print(a[-6])"
   ]
  },
  {
   "cell_type": "code",
   "execution_count": 55,
   "id": "631a2e74-f53b-4cca-a583-15763fc78a69",
   "metadata": {},
   "outputs": [
    {
     "name": "stdout",
     "output_type": "stream",
     "text": [
      "True\n"
     ]
    }
   ],
   "source": [
    "print(a[-6]==a[0])"
   ]
  },
  {
   "cell_type": "code",
   "execution_count": 56,
   "id": "1ba55ef5-1a9e-47c0-8816-7cf9815e21ad",
   "metadata": {},
   "outputs": [
    {
     "name": "stdout",
     "output_type": "stream",
     "text": [
      "i\n"
     ]
    }
   ],
   "source": [
    "x = 'budi'\n",
    "print(x[-1])"
   ]
  },
  {
   "cell_type": "markdown",
   "id": "041f4db3-4d06-414c-b9e7-5c701af7fad5",
   "metadata": {},
   "source": [
    "## Prinsip Slicing = [start:stop:step]"
   ]
  },
  {
   "cell_type": "code",
   "execution_count": 57,
   "id": "cf904bba-5cc0-456b-9db9-f61879879d9e",
   "metadata": {},
   "outputs": [
    {
     "name": "stdout",
     "output_type": "stream",
     "text": [
      "['foo', 'bar', 'baz', 'qux', 'quux', 'corge']\n",
      "['bar', 'baz', 'qux', 'quux', 'corge']\n"
     ]
    }
   ],
   "source": [
    "# Slicing\n",
    "a = ['foo','bar','baz','qux','quux','corge']\n",
    "print(a[0:6])\n",
    "print(a[1:])"
   ]
  },
  {
   "cell_type": "code",
   "execution_count": 58,
   "id": "5dfbd102-5593-4d96-8dfa-187a26c7fc46",
   "metadata": {},
   "outputs": [
    {
     "name": "stdout",
     "output_type": "stream",
     "text": [
      "ud\n",
      "udi\n"
     ]
    }
   ],
   "source": [
    "x = 'budi'\n",
    "print(x[1:3])\n",
    "print(x[1:])"
   ]
  },
  {
   "cell_type": "code",
   "execution_count": 59,
   "id": "657b0acd-bffb-49b4-8b91-85ca15dcffcc",
   "metadata": {},
   "outputs": [
    {
     "name": "stdout",
     "output_type": "stream",
     "text": [
      "aragenayruS rikgniT akaJ\n"
     ]
    }
   ],
   "source": [
    "y = 'Jaka Tingkir Suryanegara'\n",
    "print(y[::-1])"
   ]
  },
  {
   "cell_type": "markdown",
   "id": "f50581f2-1f9f-4635-a77f-376cc5982ccf",
   "metadata": {},
   "source": [
    "## Quiz"
   ]
  },
  {
   "cell_type": "markdown",
   "id": "94985748-a557-45de-b70f-6fc9e800c566",
   "metadata": {},
   "source": [
    "a ='komitmen'\n",
    "\n",
    "1. i\n",
    "2. omi\n",
    "3. tmen\n",
    "4. kmte\n",
    "5. kmtn"
   ]
  },
  {
   "cell_type": "code",
   "execution_count": 60,
   "id": "0affb8bf-deb4-42ff-911e-f23c18e17c92",
   "metadata": {},
   "outputs": [
    {
     "name": "stdout",
     "output_type": "stream",
     "text": [
      "i\n",
      "omi\n",
      "tmen\n",
      "kmte\n",
      "kmtn\n"
     ]
    }
   ],
   "source": [
    "a = 'komitmen'\n",
    "print (a[3])\n",
    "print (a[1:4])\n",
    "print (a[4:])\n",
    "print (a[::2])\n",
    "print (a[0]+a[2]+a[4]+a[7])"
   ]
  },
  {
   "cell_type": "code",
   "execution_count": 61,
   "id": "8f733394-e85e-435c-98bc-47355079ab9e",
   "metadata": {},
   "outputs": [
    {
     "name": "stdout",
     "output_type": "stream",
     "text": [
      "kmtn\n"
     ]
    }
   ],
   "source": [
    "print(a[0:5:2]+a[a.index('n')])"
   ]
  },
  {
   "cell_type": "markdown",
   "id": "5abb7959-6e43-4b2f-a0a8-0aed96099bda",
   "metadata": {},
   "source": [
    "## Modify List values based on its index"
   ]
  },
  {
   "cell_type": "code",
   "execution_count": 62,
   "id": "9166ffbe-38dd-49a5-a4d3-19417136ff03",
   "metadata": {},
   "outputs": [],
   "source": [
    "a = ['foo','bar','baz','qux','quux','corge','quux']\n",
    "a[a.index('qux')] = 20"
   ]
  },
  {
   "cell_type": "code",
   "execution_count": 63,
   "id": "72f6cdd0-6812-4530-9070-9c84a9ee6242",
   "metadata": {},
   "outputs": [
    {
     "name": "stdout",
     "output_type": "stream",
     "text": [
      "['foo', 'bar', 'baz', 20, 'corge', 'quux']\n"
     ]
    }
   ],
   "source": [
    "# del command\n",
    "del a[a.index('quux')]\n",
    "print(a)"
   ]
  },
  {
   "cell_type": "code",
   "execution_count": 64,
   "id": "1033358c-5dc0-4178-860a-249fd71339ba",
   "metadata": {},
   "outputs": [
    {
     "name": "stdout",
     "output_type": "stream",
     "text": [
      "['foo', 'bar', 'baz', 20, 'corge', 'quux']\n"
     ]
    }
   ],
   "source": [
    "print(a)"
   ]
  },
  {
   "cell_type": "code",
   "execution_count": 65,
   "id": "373fe5b1-0674-4542-a66e-32d5034fdb85",
   "metadata": {},
   "outputs": [
    {
     "name": "stdout",
     "output_type": "stream",
     "text": [
      "[1, 2, 3, 'qux', 'quux', 'corge', 'quux']\n"
     ]
    }
   ],
   "source": [
    "a = ['foo','bar','baz','qux','quux','corge','quux']\n",
    "a[0:3] = [1,2,3]\n",
    "print(a)"
   ]
  },
  {
   "cell_type": "markdown",
   "id": "37e62c1c-7338-40b4-b57f-93fb7777d948",
   "metadata": {},
   "source": [
    "## Tuple"
   ]
  },
  {
   "cell_type": "code",
   "execution_count": 66,
   "id": "44850205-55e2-4c51-bf18-e124d59b14ac",
   "metadata": {},
   "outputs": [
    {
     "name": "stdout",
     "output_type": "stream",
     "text": [
      "<class 'tuple'>\n"
     ]
    }
   ],
   "source": [
    "t = ('foo','bar','baz','qux','quux','corge','quux')\n",
    "print(type(t))"
   ]
  },
  {
   "cell_type": "code",
   "execution_count": 67,
   "id": "fde08c28-2c1a-45ec-a699-2064ed3a7b00",
   "metadata": {},
   "outputs": [
    {
     "ename": "TypeError",
     "evalue": "'tuple' object does not support item assignment",
     "output_type": "error",
     "traceback": [
      "\u001b[1;31m---------------------------------------------------------------------------\u001b[0m",
      "\u001b[1;31mTypeError\u001b[0m                                 Traceback (most recent call last)",
      "\u001b[1;32m~\\AppData\\Local\\Temp\\ipykernel_5608\\1627327055.py\u001b[0m in \u001b[0;36m<module>\u001b[1;34m\u001b[0m\n\u001b[1;32m----> 1\u001b[1;33m \u001b[0mt\u001b[0m\u001b[1;33m[\u001b[0m\u001b[1;36m0\u001b[0m\u001b[1;33m]\u001b[0m\u001b[1;33m=\u001b[0m\u001b[1;36m1\u001b[0m\u001b[1;33m\u001b[0m\u001b[1;33m\u001b[0m\u001b[0m\n\u001b[0m",
      "\u001b[1;31mTypeError\u001b[0m: 'tuple' object does not support item assignment"
     ]
    }
   ],
   "source": [
    "t[0]=1"
   ]
  },
  {
   "cell_type": "markdown",
   "id": "cb4bdfca-623f-4f97-99b8-5ff5da3e1830",
   "metadata": {},
   "source": [
    "## Dictionary"
   ]
  },
  {
   "cell_type": "code",
   "execution_count": 68,
   "id": "a9afd645-d4d4-48cb-92dc-9d2d56c0d9c3",
   "metadata": {},
   "outputs": [],
   "source": [
    "MLB_team = {\n",
    "    'Colorado':'Rockies',\n",
    "    'Boston':'Red Sox',\n",
    "    'Minnesota':'Twins',\n",
    "    'Milwaukee':'Brewers',\n",
    "    'Seattle':'Mariners'\n",
    "}"
   ]
  },
  {
   "cell_type": "code",
   "execution_count": 69,
   "id": "1d86be95-6380-4db7-ac8c-9c2c90c000c5",
   "metadata": {},
   "outputs": [
    {
     "name": "stdout",
     "output_type": "stream",
     "text": [
      "Rockies\n",
      "Red Sox\n"
     ]
    }
   ],
   "source": [
    "print(MLB_team['Colorado'])\n",
    "print(MLB_team['Boston'])"
   ]
  },
  {
   "cell_type": "code",
   "execution_count": 70,
   "id": "2b2390b2-bbbd-44d6-8b21-af998a2d8c9d",
   "metadata": {},
   "outputs": [
    {
     "name": "stdout",
     "output_type": "stream",
     "text": [
      "{'Colorado': 'Rockies', 'Boston': 'Red Sox', 'Minnesota': 'Twins', 'Milwaukee': 'Brewers', 'Seattle': 'Mariners', 'Kansas City': 'Royals'}\n"
     ]
    }
   ],
   "source": [
    "# Assign Kota Baru\n",
    "MLB_team['Kansas City'] = 'Royals'\n",
    "print(MLB_team)"
   ]
  },
  {
   "cell_type": "code",
   "execution_count": 71,
   "id": "5196fda3-baf8-4527-8277-f3d9f873d982",
   "metadata": {},
   "outputs": [
    {
     "name": "stdout",
     "output_type": "stream",
     "text": [
      "{'Colorado': 'Rockies', 'Boston': 'Red Sox', 'Minnesota': 'Twins', 'Milwaukee': 'Brewers', 'Seattle': 'Seahawks', 'Kansas City': 'Royals'}\n"
     ]
    }
   ],
   "source": [
    "#Update Tim Kota\n",
    "MLB_team['Seattle'] = 'Seahawks'\n",
    "print(MLB_team)"
   ]
  },
  {
   "cell_type": "code",
   "execution_count": 72,
   "id": "43bb1323-ce3b-482f-871b-7d8cb3f1b3a9",
   "metadata": {},
   "outputs": [
    {
     "name": "stdout",
     "output_type": "stream",
     "text": [
      "{'Boston': 'Red Sox', 'Minnesota': 'Twins', 'Milwaukee': 'Brewers', 'Seattle': 'Seahawks', 'Kansas City': 'Royals'}\n"
     ]
    }
   ],
   "source": [
    "# del command\n",
    "del MLB_team['Colorado']\n",
    "print(MLB_team)"
   ]
  },
  {
   "cell_type": "code",
   "execution_count": 73,
   "id": "54005761-a6fb-4cb7-b919-664e4e6e66a9",
   "metadata": {},
   "outputs": [
    {
     "ename": "NameError",
     "evalue": "name 'orang' is not defined",
     "output_type": "error",
     "traceback": [
      "\u001b[1;31m---------------------------------------------------------------------------\u001b[0m",
      "\u001b[1;31mNameError\u001b[0m                                 Traceback (most recent call last)",
      "\u001b[1;32m~\\AppData\\Local\\Temp\\ipykernel_5608\\416769021.py\u001b[0m in \u001b[0;36m<module>\u001b[1;34m\u001b[0m\n\u001b[1;32m----> 1\u001b[1;33m \u001b[0morang\u001b[0m\u001b[1;33m[\u001b[0m\u001b[1;34m'Nama'\u001b[0m\u001b[1;33m]\u001b[0m \u001b[1;33m=\u001b[0m \u001b[1;34m'Budi'\u001b[0m\u001b[1;33m\u001b[0m\u001b[1;33m\u001b[0m\u001b[0m\n\u001b[0m\u001b[0;32m      2\u001b[0m \u001b[0morang\u001b[0m\u001b[1;33m[\u001b[0m\u001b[1;34m'Kota'\u001b[0m\u001b[1;33m]\u001b[0m \u001b[1;33m=\u001b[0m \u001b[1;34m'Solo'\u001b[0m\u001b[1;33m\u001b[0m\u001b[1;33m\u001b[0m\u001b[0m\n\u001b[0;32m      3\u001b[0m \u001b[0morang\u001b[0m\u001b[1;33m[\u001b[0m\u001b[1;34m'Umur'\u001b[0m\u001b[1;33m]\u001b[0m \u001b[1;33m=\u001b[0m \u001b[1;36m32\u001b[0m\u001b[1;33m\u001b[0m\u001b[1;33m\u001b[0m\u001b[0m\n\u001b[0;32m      4\u001b[0m \u001b[0morang\u001b[0m\u001b[1;33m[\u001b[0m\u001b[1;34m'Anak'\u001b[0m\u001b[1;33m]\u001b[0m \u001b[1;33m=\u001b[0m \u001b[1;33m[\u001b[0m\u001b[1;34m'Budi'\u001b[0m\u001b[1;33m,\u001b[0m\u001b[1;34m'Sarah'\u001b[0m\u001b[1;33m,\u001b[0m\u001b[1;34m'Syifa'\u001b[0m\u001b[1;33m]\u001b[0m\u001b[1;33m\u001b[0m\u001b[1;33m\u001b[0m\u001b[0m\n\u001b[0;32m      5\u001b[0m \u001b[0morang\u001b[0m\u001b[1;33m[\u001b[0m\u001b[1;34m'Kendaraan'\u001b[0m\u001b[1;33m]\u001b[0m \u001b[1;33m=\u001b[0m\u001b[1;33m{\u001b[0m\u001b[1;34m'mobil'\u001b[0m\u001b[1;33m:\u001b[0m\u001b[1;34m'Innova'\u001b[0m\u001b[1;33m,\u001b[0m\u001b[1;34m'motor'\u001b[0m\u001b[1;33m:\u001b[0m\u001b[1;34m'mio'\u001b[0m\u001b[1;33m}\u001b[0m\u001b[1;33m\u001b[0m\u001b[1;33m\u001b[0m\u001b[0m\n",
      "\u001b[1;31mNameError\u001b[0m: name 'orang' is not defined"
     ]
    }
   ],
   "source": [
    "orang['Nama'] = 'Budi'\n",
    "orang['Kota'] = 'Solo'\n",
    "orang['Umur'] = 32\n",
    "orang['Anak'] = ['Budi','Sarah','Syifa']\n",
    "orang['Kendaraan'] ={'mobil':'Innova','motor':'mio'}\n",
    "orang"
   ]
  },
  {
   "cell_type": "code",
   "execution_count": 74,
   "id": "2eb9f537-0429-4b5c-b1f6-d951e370b263",
   "metadata": {},
   "outputs": [
    {
     "ename": "NameError",
     "evalue": "name 'orang' is not defined",
     "output_type": "error",
     "traceback": [
      "\u001b[1;31m---------------------------------------------------------------------------\u001b[0m",
      "\u001b[1;31mNameError\u001b[0m                                 Traceback (most recent call last)",
      "\u001b[1;32m~\\AppData\\Local\\Temp\\ipykernel_5608\\416769021.py\u001b[0m in \u001b[0;36m<module>\u001b[1;34m\u001b[0m\n\u001b[1;32m----> 1\u001b[1;33m \u001b[0morang\u001b[0m\u001b[1;33m[\u001b[0m\u001b[1;34m'Nama'\u001b[0m\u001b[1;33m]\u001b[0m \u001b[1;33m=\u001b[0m \u001b[1;34m'Budi'\u001b[0m\u001b[1;33m\u001b[0m\u001b[1;33m\u001b[0m\u001b[0m\n\u001b[0m\u001b[0;32m      2\u001b[0m \u001b[0morang\u001b[0m\u001b[1;33m[\u001b[0m\u001b[1;34m'Kota'\u001b[0m\u001b[1;33m]\u001b[0m \u001b[1;33m=\u001b[0m \u001b[1;34m'Solo'\u001b[0m\u001b[1;33m\u001b[0m\u001b[1;33m\u001b[0m\u001b[0m\n\u001b[0;32m      3\u001b[0m \u001b[0morang\u001b[0m\u001b[1;33m[\u001b[0m\u001b[1;34m'Umur'\u001b[0m\u001b[1;33m]\u001b[0m \u001b[1;33m=\u001b[0m \u001b[1;36m32\u001b[0m\u001b[1;33m\u001b[0m\u001b[1;33m\u001b[0m\u001b[0m\n\u001b[0;32m      4\u001b[0m \u001b[0morang\u001b[0m\u001b[1;33m[\u001b[0m\u001b[1;34m'Anak'\u001b[0m\u001b[1;33m]\u001b[0m \u001b[1;33m=\u001b[0m \u001b[1;33m[\u001b[0m\u001b[1;34m'Budi'\u001b[0m\u001b[1;33m,\u001b[0m\u001b[1;34m'Sarah'\u001b[0m\u001b[1;33m,\u001b[0m\u001b[1;34m'Syifa'\u001b[0m\u001b[1;33m]\u001b[0m\u001b[1;33m\u001b[0m\u001b[1;33m\u001b[0m\u001b[0m\n\u001b[0;32m      5\u001b[0m \u001b[0morang\u001b[0m\u001b[1;33m[\u001b[0m\u001b[1;34m'Kendaraan'\u001b[0m\u001b[1;33m]\u001b[0m \u001b[1;33m=\u001b[0m\u001b[1;33m{\u001b[0m\u001b[1;34m'mobil'\u001b[0m\u001b[1;33m:\u001b[0m\u001b[1;34m'Innova'\u001b[0m\u001b[1;33m,\u001b[0m\u001b[1;34m'motor'\u001b[0m\u001b[1;33m:\u001b[0m\u001b[1;34m'mio'\u001b[0m\u001b[1;33m}\u001b[0m\u001b[1;33m\u001b[0m\u001b[1;33m\u001b[0m\u001b[0m\n",
      "\u001b[1;31mNameError\u001b[0m: name 'orang' is not defined"
     ]
    }
   ],
   "source": [
    "orang['Nama'] = 'Budi'\n",
    "orang['Kota'] = 'Solo'\n",
    "orang['Umur'] = 32\n",
    "orang['Anak'] = ['Budi','Sarah','Syifa']\n",
    "orang['Kendaraan'] ={'mobil':'Innova','motor':'mio'}\n",
    "orang"
   ]
  },
  {
   "cell_type": "code",
   "execution_count": 75,
   "id": "f4067b3c-e4bb-4365-94a4-cc9decc16dbd",
   "metadata": {},
   "outputs": [
    {
     "ename": "NameError",
     "evalue": "name 'orang' is not defined",
     "output_type": "error",
     "traceback": [
      "\u001b[1;31m---------------------------------------------------------------------------\u001b[0m",
      "\u001b[1;31mNameError\u001b[0m                                 Traceback (most recent call last)",
      "\u001b[1;32m~\\AppData\\Local\\Temp\\ipykernel_5608\\3942188268.py\u001b[0m in \u001b[0;36m<module>\u001b[1;34m\u001b[0m\n\u001b[1;32m----> 1\u001b[1;33m \u001b[0mprint\u001b[0m\u001b[1;33m(\u001b[0m\u001b[0morang\u001b[0m\u001b[1;33m[\u001b[0m\u001b[1;34m'Kendaraan'\u001b[0m\u001b[1;33m]\u001b[0m\u001b[1;33m[\u001b[0m\u001b[1;34m'motor'\u001b[0m\u001b[1;33m]\u001b[0m\u001b[1;33m)\u001b[0m\u001b[1;33m\u001b[0m\u001b[1;33m\u001b[0m\u001b[0m\n\u001b[0m",
      "\u001b[1;31mNameError\u001b[0m: name 'orang' is not defined"
     ]
    }
   ],
   "source": [
    "print(orang['Kendaraan']['motor'])"
   ]
  },
  {
   "cell_type": "markdown",
   "id": "f165e127-9f6d-4012-9356-6e11ecc526b7",
   "metadata": {},
   "source": [
    "## Line Continuation"
   ]
  },
  {
   "cell_type": "code",
   "execution_count": 76,
   "id": "bf1e7ef5-d7dc-48d9-8ef3-794235d76992",
   "metadata": {},
   "outputs": [
    {
     "name": "stdout",
     "output_type": "stream",
     "text": [
      "True\n",
      "False\n",
      "True\n",
      "True\n",
      "False\n",
      "False\n"
     ]
    }
   ],
   "source": [
    "print(True and True)\n",
    "print(True and False)\n",
    "print(True or True)\n",
    "print(True or False)\n",
    "print(False and False)\n",
    "print(False or False)"
   ]
  },
  {
   "cell_type": "code",
   "execution_count": 77,
   "id": "9028a2f3-931e-4fc9-9e8e-1fefd545f310",
   "metadata": {},
   "outputs": [
    {
     "name": "stdout",
     "output_type": "stream",
     "text": [
      "True\n",
      "False\n",
      "False\n"
     ]
    }
   ],
   "source": [
    "umur1 = 42\n",
    "umur2 = 16\n",
    "umur3=71\n",
    "\n",
    "print(umur1>=18 and umur1<=65)\n",
    "print(umur2>=18 and umur2<=65)\n",
    "print(umur3>=18 and umur3<=65)"
   ]
  },
  {
   "cell_type": "markdown",
   "id": "de7461f2-9583-4c6f-a0f7-c967fa55f34b",
   "metadata": {},
   "source": [
    "## Materi Tambahan"
   ]
  },
  {
   "cell_type": "code",
   "execution_count": 78,
   "id": "daece210-ea5f-42e2-aab9-8c14fdf2fc49",
   "metadata": {},
   "outputs": [
    {
     "name": "stdout",
     "output_type": "stream",
     "text": [
      "['Toyota', 'Kijang', 'Isuzu']\n"
     ]
    }
   ],
   "source": [
    "mobil = ['Toyota','Kijang']\n",
    "mobil = mobil + ['Isuzu']\n",
    "print(mobil)"
   ]
  },
  {
   "cell_type": "code",
   "execution_count": 79,
   "id": "e0d3e385-918a-4d4d-9781-d4cdf54ec1f5",
   "metadata": {},
   "outputs": [
    {
     "name": "stdout",
     "output_type": "stream",
     "text": [
      "['Toyota', 'Kijang', 'Isuzu']\n"
     ]
    }
   ],
   "source": [
    "mobil = ['Toyota','Kijang']\n",
    "mobil.append('Isuzu')\n",
    "print(mobil)"
   ]
  },
  {
   "cell_type": "code",
   "execution_count": 80,
   "id": "4db85763-0f11-4f72-940e-759e9dda948f",
   "metadata": {},
   "outputs": [
    {
     "name": "stdout",
     "output_type": "stream",
     "text": [
      "['Toyota', 'Kijang', 'Isuzu']\n"
     ]
    }
   ],
   "source": [
    "kendaraan = mobil.copy()\n",
    "print(kendaraan)"
   ]
  },
  {
   "cell_type": "code",
   "execution_count": 81,
   "id": "a6c66e52-081e-40be-99ee-4e45af317fb8",
   "metadata": {},
   "outputs": [
    {
     "name": "stdout",
     "output_type": "stream",
     "text": [
      "['Toyota', 'Kijang', 'Isuzu', 'Innova', 'Innova']\n",
      "['Toyota', 'Kijang', 'Isuzu']\n"
     ]
    }
   ],
   "source": [
    "kendaraan.append('Innova')\n",
    "kendaraan.append('Innova')\n",
    "\n",
    "print(kendaraan)\n",
    "print(mobil)"
   ]
  },
  {
   "cell_type": "code",
   "execution_count": 82,
   "id": "2d2fea75-2857-4f5e-90b0-0ae86bd8c457",
   "metadata": {},
   "outputs": [
    {
     "name": "stdout",
     "output_type": "stream",
     "text": [
      "['Toyota', 'Kijang', 'Isuzu', 'Innova', 'Innova']\n"
     ]
    }
   ],
   "source": [
    "print(kendaraan)"
   ]
  },
  {
   "cell_type": "code",
   "execution_count": 83,
   "id": "b101563a-d096-4500-bd70-2b2a82313f95",
   "metadata": {},
   "outputs": [],
   "source": [
    "kendaraan.remove('Innova')"
   ]
  },
  {
   "cell_type": "code",
   "execution_count": 84,
   "id": "bf65d519-198a-4e55-897f-5c56cfae5eb8",
   "metadata": {},
   "outputs": [
    {
     "name": "stdout",
     "output_type": "stream",
     "text": [
      "['Pisang', 'Apel']\n"
     ]
    }
   ],
   "source": [
    "buah = ['Pisang','Jeruk','Apel']\n",
    "buah.pop(1)\n",
    "print(buah)"
   ]
  },
  {
   "cell_type": "code",
   "execution_count": null,
   "id": "36c396e4-0f7a-47c0-ad95-82980ac35376",
   "metadata": {},
   "outputs": [],
   "source": []
  }
 ],
 "metadata": {
  "kernelspec": {
   "display_name": "Python 3 (ipykernel)",
   "language": "python",
   "name": "python3"
  },
  "language_info": {
   "codemirror_mode": {
    "name": "ipython",
    "version": 3
   },
   "file_extension": ".py",
   "mimetype": "text/x-python",
   "name": "python",
   "nbconvert_exporter": "python",
   "pygments_lexer": "ipython3",
   "version": "3.9.13"
  }
 },
 "nbformat": 4,
 "nbformat_minor": 5
}
