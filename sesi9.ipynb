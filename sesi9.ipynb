{
 "cells": [
  {
   "cell_type": "markdown",
   "id": "b81947ee-fde6-4c79-a23e-e7afd0bddb0e",
   "metadata": {},
   "source": [
    "## DESCRIPTIV STATISTICS"
   ]
  },
  {
   "cell_type": "markdown",
   "id": "adbce5b6-8236-4c31-b721-e441bf9e715e",
   "metadata": {},
   "source": [
    "[0,4,8] umur\n",
    "\n",
    "rata- rata (mean) = 4\n",
    "\n",
    "n = 3\n",
    "\n",
    "stdev = 0-4 dikuadratkan = 16 + 4-4 + 4dikuadratkan=16)/3-1\n",
    "\n",
    "stdev = ((16 + 0 + 16)/3-1^1/2 = (32/2)^1/2 = 4 tahun\n",
    "\n",
    "variance = 16 tahun kuadrat\n",
    "         \n",
    "- persentil : untuk merepresentasikan suatu nilai dlm kumpulan data\n",
    "- persentil 1 paling bawah 100 atas\n",
    "- quartil dibagi 4 bagian\n",
    "- interquartil untk mendeteksi outlayer\n",
    "\n"
   ]
  },
  {
   "cell_type": "markdown",
   "id": "d9af0107-2ecb-4467-8060-a9b1dd29799d",
   "metadata": {},
   "source": [
    "# skewness\n",
    "apakh distribusi normal positif atau negatif skew\n",
    "# kurtosis\n",
    "- mesokurtic : distribusi yng memiliki kurtosis serupa dg kurtosis berdistribusi normal, yaitu nol\n",
    "- leptokurtic : memiliki kurtosis lebih besar dr distribusi mesokurtik\n",
    "- platykurtic : memiliki kurtosis lebih rendah dr distribusi mesokurtik\n",
    "# correlation\n",
    "yaitu teknik statistik yng dpt menunjukkan apakah dan seberapa kuat variabel terkait/related."
   ]
  },
  {
   "cell_type": "code",
   "execution_count": 1,
   "id": "1d217a36-0643-4eff-99eb-052c9ca02e2a",
   "metadata": {},
   "outputs": [],
   "source": [
    "import math\n",
    "import statistics\n",
    "import numpy as np\n",
    "import scipy.stats\n",
    "import pandas as pd"
   ]
  },
  {
   "cell_type": "code",
   "execution_count": 2,
   "id": "22defa7b-5b62-4128-89d6-7f9753d76524",
   "metadata": {},
   "outputs": [
    {
     "data": {
      "text/plain": [
       "nan"
      ]
     },
     "execution_count": 2,
     "metadata": {},
     "output_type": "execute_result"
    }
   ],
   "source": [
    "math.nan"
   ]
  },
  {
   "cell_type": "code",
   "execution_count": 3,
   "id": "4d9e0446-c8a6-49fe-8c26-ae7f64adb9c4",
   "metadata": {},
   "outputs": [
    {
     "data": {
      "text/plain": [
       "nan"
      ]
     },
     "execution_count": 3,
     "metadata": {},
     "output_type": "execute_result"
    }
   ],
   "source": [
    "np.nan"
   ]
  },
  {
   "cell_type": "code",
   "execution_count": 4,
   "id": "403c6ba4-6782-4c0c-a02d-213123e47a2f",
   "metadata": {},
   "outputs": [
    {
     "name": "stdout",
     "output_type": "stream",
     "text": [
      "[8, 1, 2.5, 4, 28]\n",
      "[8, 1, 2.5, nan, 4, 28]\n"
     ]
    }
   ],
   "source": [
    "x = [8, 1, 2.5, 4, 28]\n",
    "x_with_nan = [8, 1, 2.5, math.nan, 4, 28]\n",
    "print(x)\n",
    "print(x_with_nan)"
   ]
  },
  {
   "cell_type": "code",
   "execution_count": 5,
   "id": "257e5bce-27ea-4108-bd36-931e2a3ec484",
   "metadata": {},
   "outputs": [
    {
     "name": "stdout",
     "output_type": "stream",
     "text": [
      "[ 8.   1.   2.5  4.  28. ]\n",
      "[ 8.   1.   2.5  nan  4.  28. ]\n",
      "0     8.0\n",
      "1     1.0\n",
      "2     2.5\n",
      "3     4.0\n",
      "4    28.0\n",
      "dtype: float64\n",
      "0     8.0\n",
      "1     1.0\n",
      "2     2.5\n",
      "3     NaN\n",
      "4     4.0\n",
      "5    28.0\n",
      "dtype: float64\n"
     ]
    }
   ],
   "source": [
    "# buat array sbg y dan series z dari x\n",
    "y, y_with_nan = np.array(x), np.array(x_with_nan)\n",
    "z, z_with_nan = pd.Series(x), pd.Series(x_with_nan)\n",
    "\n",
    "print(y)\n",
    "print(y_with_nan)\n",
    "print(z)\n",
    "print(z_with_nan)"
   ]
  },
  {
   "cell_type": "code",
   "execution_count": 6,
   "id": "cf5d6611-33d2-4430-ade7-e258aa09d360",
   "metadata": {},
   "outputs": [
    {
     "data": {
      "text/plain": [
       "0    False\n",
       "1    False\n",
       "2    False\n",
       "3     True\n",
       "4    False\n",
       "5    False\n",
       "dtype: bool"
      ]
     },
     "execution_count": 6,
     "metadata": {},
     "output_type": "execute_result"
    }
   ],
   "source": [
    "z_with_nan.isna()"
   ]
  },
  {
   "cell_type": "markdown",
   "id": "cd7fe233-93e2-4066-9c90-2700fef740f3",
   "metadata": {},
   "source": [
    "# central tendency"
   ]
  },
  {
   "cell_type": "markdown",
   "id": "053cc86b-d16b-4838-ba56-70f2ca4df587",
   "metadata": {},
   "source": [
    "## mean (aritmatik mean)"
   ]
  },
  {
   "cell_type": "markdown",
   "id": "fb547a71-3d99-4d08-a347-025b40660711",
   "metadata": {},
   "source": [
    "1. x list\n",
    "2. y\n",
    "3. x series"
   ]
  },
  {
   "cell_type": "code",
   "execution_count": 7,
   "id": "45555a2f-e87f-4e6a-9f44-9bac5d32cfcb",
   "metadata": {},
   "outputs": [
    {
     "data": {
      "text/plain": [
       "[8, 1, 2.5, 4, 28]"
      ]
     },
     "execution_count": 7,
     "metadata": {},
     "output_type": "execute_result"
    }
   ],
   "source": [
    "x"
   ]
  },
  {
   "cell_type": "code",
   "execution_count": 8,
   "id": "bcd7902f-9253-43c1-b724-3dc10305d4a2",
   "metadata": {},
   "outputs": [
    {
     "data": {
      "text/plain": [
       "43.5"
      ]
     },
     "execution_count": 8,
     "metadata": {},
     "output_type": "execute_result"
    }
   ],
   "source": [
    "sum(x)"
   ]
  },
  {
   "cell_type": "code",
   "execution_count": 9,
   "id": "8ea675a4-ee73-455b-90b0-887ba30e9386",
   "metadata": {},
   "outputs": [
    {
     "data": {
      "text/plain": [
       "5"
      ]
     },
     "execution_count": 9,
     "metadata": {},
     "output_type": "execute_result"
    }
   ],
   "source": [
    "len(x)"
   ]
  },
  {
   "cell_type": "code",
   "execution_count": 10,
   "id": "9e495e92-d629-412d-9225-c3d425896dd3",
   "metadata": {},
   "outputs": [
    {
     "data": {
      "text/plain": [
       "8.7"
      ]
     },
     "execution_count": 10,
     "metadata": {},
     "output_type": "execute_result"
    }
   ],
   "source": [
    "mean_x = sum(x)/len(x)\n",
    "mean_x"
   ]
  },
  {
   "cell_type": "code",
   "execution_count": 11,
   "id": "44aeca54-99a7-407c-be8a-53a8e57a9647",
   "metadata": {},
   "outputs": [
    {
     "name": "stdout",
     "output_type": "stream",
     "text": [
      "8.7\n"
     ]
    }
   ],
   "source": [
    "mean_stats = statistics.mean(x)\n",
    "print(mean_stats)"
   ]
  },
  {
   "cell_type": "code",
   "execution_count": 12,
   "id": "4f6edf46-6d89-41ac-a10f-5c19d577e789",
   "metadata": {},
   "outputs": [
    {
     "name": "stdout",
     "output_type": "stream",
     "text": [
      "8.7\n"
     ]
    }
   ],
   "source": [
    "mean_np = np.mean(x)\n",
    "print(mean_np)"
   ]
  },
  {
   "cell_type": "code",
   "execution_count": 13,
   "id": "2247b9bc-e83f-4735-a664-59e3695dfba8",
   "metadata": {},
   "outputs": [
    {
     "data": {
      "text/plain": [
       "array([ 8. ,  1. ,  2.5,  4. , 28. ])"
      ]
     },
     "execution_count": 13,
     "metadata": {},
     "output_type": "execute_result"
    }
   ],
   "source": [
    "y"
   ]
  },
  {
   "cell_type": "code",
   "execution_count": 14,
   "id": "cfe60fdd-0815-49f9-ba7e-3ec05bc99958",
   "metadata": {},
   "outputs": [
    {
     "data": {
      "text/plain": [
       "8.7"
      ]
     },
     "execution_count": 14,
     "metadata": {},
     "output_type": "execute_result"
    }
   ],
   "source": [
    "y.mean() # array"
   ]
  },
  {
   "cell_type": "code",
   "execution_count": 15,
   "id": "fc9af1ce-9652-43e5-8769-4bf7f9a7fac8",
   "metadata": {},
   "outputs": [
    {
     "data": {
      "text/plain": [
       "8.7"
      ]
     },
     "execution_count": 15,
     "metadata": {},
     "output_type": "execute_result"
    }
   ],
   "source": [
    "z.mean() # series"
   ]
  },
  {
   "cell_type": "code",
   "execution_count": 16,
   "id": "3da4c8e1-707f-4db4-b116-2d39c25410dd",
   "metadata": {},
   "outputs": [
    {
     "data": {
      "text/plain": [
       "nan"
      ]
     },
     "execution_count": 16,
     "metadata": {},
     "output_type": "execute_result"
    }
   ],
   "source": [
    "y_with_nan.mean()"
   ]
  },
  {
   "cell_type": "code",
   "execution_count": 17,
   "id": "4a870f88-ed94-4dc1-b37a-14c0d9939b9c",
   "metadata": {},
   "outputs": [
    {
     "data": {
      "text/plain": [
       "nan"
      ]
     },
     "execution_count": 17,
     "metadata": {},
     "output_type": "execute_result"
    }
   ],
   "source": [
    "np.mean(y_with_nan)"
   ]
  },
  {
   "cell_type": "code",
   "execution_count": 18,
   "id": "d805a9f9-edc1-4ed4-9775-63265bc1620c",
   "metadata": {},
   "outputs": [
    {
     "data": {
      "text/plain": [
       "nan"
      ]
     },
     "execution_count": 18,
     "metadata": {},
     "output_type": "execute_result"
    }
   ],
   "source": [
    "np.nan*3"
   ]
  },
  {
   "cell_type": "code",
   "execution_count": 19,
   "id": "155b063e-c624-4ec7-82ac-3e51051dca58",
   "metadata": {},
   "outputs": [
    {
     "data": {
      "text/plain": [
       "8.7"
      ]
     },
     "execution_count": 19,
     "metadata": {},
     "output_type": "execute_result"
    }
   ],
   "source": [
    "np.nanmean(y_with_nan)"
   ]
  },
  {
   "cell_type": "code",
   "execution_count": 20,
   "id": "5e711dc5-98a4-419e-8948-3994d98d9052",
   "metadata": {},
   "outputs": [
    {
     "data": {
      "text/plain": [
       "8.7"
      ]
     },
     "execution_count": 20,
     "metadata": {},
     "output_type": "execute_result"
    }
   ],
   "source": [
    "z_with_nan.mean() # series langsung merataratakan tanpa mempertimbangkan nan values"
   ]
  },
  {
   "cell_type": "code",
   "execution_count": 21,
   "id": "d07cc16c-a293-4985-9d7e-547052a7e716",
   "metadata": {},
   "outputs": [
    {
     "data": {
      "text/plain": [
       "0     8.0\n",
       "1     1.0\n",
       "2     2.5\n",
       "3     NaN\n",
       "4     4.0\n",
       "5    28.0\n",
       "dtype: float64"
      ]
     },
     "execution_count": 21,
     "metadata": {},
     "output_type": "execute_result"
    }
   ],
   "source": [
    "z_with_nan"
   ]
  },
  {
   "cell_type": "markdown",
   "id": "751a00e7-dc44-4b20-91b0-891e199752b9",
   "metadata": {},
   "source": [
    "## weighted mean\n",
    "yaitu rata rata dg menghitung pembobotan (w/weigh)"
   ]
  },
  {
   "cell_type": "code",
   "execution_count": 22,
   "id": "eacc16c5-f141-4430-98ff-a428c45f204c",
   "metadata": {},
   "outputs": [
    {
     "name": "stdout",
     "output_type": "stream",
     "text": [
      "6.95\n"
     ]
    }
   ],
   "source": [
    "x = [8, 1, 2.5, 4, 28] #metrik\n",
    "w = [0.1,0.2,0.3,0.25,0.15] # weightages\n",
    "\n",
    "#convert jdi array\n",
    "y,z,w = np.array(x),pd.Series(x),np.array(w)\n",
    "\n",
    "wmean = np.average(y , weights=w)\n",
    "print(wmean)"
   ]
  },
  {
   "cell_type": "code",
   "execution_count": 23,
   "id": "ee4840bc-7e7f-48dc-99e1-3c5a940eda88",
   "metadata": {},
   "outputs": [
    {
     "data": {
      "text/plain": [
       "8.7"
      ]
     },
     "execution_count": 23,
     "metadata": {},
     "output_type": "execute_result"
    }
   ],
   "source": [
    "np.mean(x)"
   ]
  },
  {
   "cell_type": "code",
   "execution_count": 24,
   "id": "b485c219-455f-427d-a2ef-4f38b755ecbb",
   "metadata": {},
   "outputs": [
    {
     "name": "stdout",
     "output_type": "stream",
     "text": [
      "6.95\n"
     ]
    }
   ],
   "source": [
    "# manual calculation\n",
    "wmean_manual = sum(w[i]*x[i] for i in range(len(x)))/sum(w)\n",
    "print(wmean)"
   ]
  },
  {
   "cell_type": "code",
   "execution_count": 25,
   "id": "f121537b-0e4b-4c2f-9cb5-918af33b6220",
   "metadata": {},
   "outputs": [
    {
     "data": {
      "text/plain": [
       "1.0"
      ]
     },
     "execution_count": 25,
     "metadata": {},
     "output_type": "execute_result"
    }
   ],
   "source": [
    "sum(w)"
   ]
  },
  {
   "cell_type": "markdown",
   "id": "2c92ff14-42c7-4b0d-9170-621f10040081",
   "metadata": {},
   "source": [
    "## harmonic mean"
   ]
  },
  {
   "cell_type": "markdown",
   "id": "c73ab389-cceb-41c1-92a1-06b96d4dcb77",
   "metadata": {},
   "source": [
    "sering dipakai untuk rata rata rate contohnya 10km/jam, 100kg/hari, 100000orang/th"
   ]
  },
  {
   "cell_type": "markdown",
   "id": "7599407d-a84b-4f1c-8219-35691b96c627",
   "metadata": {},
   "source": [
    "conto punya 10km at 60 km/h"
   ]
  },
  {
   "cell_type": "code",
   "execution_count": 26,
   "id": "23d8ae62-d9e7-4140-b0ee-0b4dd7a89968",
   "metadata": {},
   "outputs": [
    {
     "data": {
      "text/plain": [
       "30.0"
      ]
     },
     "execution_count": 26,
     "metadata": {},
     "output_type": "execute_result"
    }
   ],
   "source": [
    "speed = [60,20]\n",
    "hmean_speed = len(speed)/sum(1/item for item in speed)\n",
    "hmean_speed"
   ]
  },
  {
   "cell_type": "code",
   "execution_count": 27,
   "id": "94070277-0e9f-4656-baf1-bb70fe4bd49b",
   "metadata": {},
   "outputs": [
    {
     "data": {
      "text/plain": [
       "2.7613412228796843"
      ]
     },
     "execution_count": 27,
     "metadata": {},
     "output_type": "execute_result"
    }
   ],
   "source": [
    "hmean = len(x) / sum(1 / item for item in x)\n",
    "hmean"
   ]
  },
  {
   "cell_type": "code",
   "execution_count": 28,
   "id": "071d0bc4-0935-4543-9d10-825ebf071184",
   "metadata": {},
   "outputs": [
    {
     "data": {
      "text/plain": [
       "8.7"
      ]
     },
     "execution_count": 28,
     "metadata": {},
     "output_type": "execute_result"
    }
   ],
   "source": [
    "arit_mean = np.mean(x)\n",
    "arit_mean"
   ]
  },
  {
   "cell_type": "code",
   "execution_count": 29,
   "id": "1b7c298e-beaa-4996-ab04-c9124602a8a5",
   "metadata": {},
   "outputs": [
    {
     "data": {
      "text/plain": [
       "[8, 1, 2.5, 4, 28]"
      ]
     },
     "execution_count": 29,
     "metadata": {},
     "output_type": "execute_result"
    }
   ],
   "source": [
    "x"
   ]
  },
  {
   "cell_type": "code",
   "execution_count": 30,
   "id": "cd463549-e504-4150-9480-30e166ff8579",
   "metadata": {},
   "outputs": [
    {
     "name": "stdout",
     "output_type": "stream",
     "text": [
      "0.125\n",
      "1.0\n",
      "0.4\n",
      "0.25\n",
      "0.03571428571428571\n"
     ]
    }
   ],
   "source": [
    "for item in x :\n",
    "    print(1/item)"
   ]
  },
  {
   "cell_type": "code",
   "execution_count": 31,
   "id": "1c0584b2-98c9-47f2-b16f-0c8280dc572c",
   "metadata": {},
   "outputs": [
    {
     "data": {
      "text/plain": [
       "1.8107142857142857"
      ]
     },
     "execution_count": 31,
     "metadata": {},
     "output_type": "execute_result"
    }
   ],
   "source": [
    "sum (1/item for item in x)"
   ]
  },
  {
   "cell_type": "code",
   "execution_count": 32,
   "id": "b0b7be76-4ccc-403d-950b-131a293ddf1b",
   "metadata": {},
   "outputs": [
    {
     "data": {
      "text/plain": [
       "[0.125, 1.0, 0.4, 0.25, 0.03571428571428571]"
      ]
     },
     "execution_count": 32,
     "metadata": {},
     "output_type": "execute_result"
    }
   ],
   "source": [
    "list (1/item for item in x)"
   ]
  },
  {
   "cell_type": "code",
   "execution_count": 33,
   "id": "8ad53912-50bc-4190-9f78-f43e3f7f0f85",
   "metadata": {},
   "outputs": [
    {
     "data": {
      "text/plain": [
       "30.0"
      ]
     },
     "execution_count": 33,
     "metadata": {},
     "output_type": "execute_result"
    }
   ],
   "source": [
    "hmean_speed_stats = statistics.harmonic_mean(speed)\n",
    "hmean_speed_stats"
   ]
  },
  {
   "cell_type": "code",
   "execution_count": 34,
   "id": "b1123050-dba3-41e9-a197-a231fcde793b",
   "metadata": {},
   "outputs": [
    {
     "data": {
      "text/plain": [
       "2.7613412228796843"
      ]
     },
     "execution_count": 34,
     "metadata": {},
     "output_type": "execute_result"
    }
   ],
   "source": [
    "# hmean dg library\n",
    "hmean_stats = statistics.harmonic_mean(x)\n",
    "hmean_stats"
   ]
  },
  {
   "cell_type": "markdown",
   "id": "926ca41c-f775-4373-9639-7a6997b8de2e",
   "metadata": {},
   "source": [
    "## geometric mean"
   ]
  },
  {
   "cell_type": "markdown",
   "id": "54719cfb-ed25-4007-8820-b074b01e5454",
   "metadata": {},
   "source": [
    "perhitungannya misal ada data 5 x1 dikali x5 dikali akar pangkat 5.\n",
    "\n",
    "- perusahaan terdiri pd th 2017 \n",
    "- di th 2017 omsetnya 1000\n",
    "- di th 2018 naik 30%\n",
    "- di th 2019 naik 50%\n",
    "- di th 2020 naik 40%"
   ]
  },
  {
   "cell_type": "code",
   "execution_count": 35,
   "id": "0fbe433d-f04e-49c6-be6d-22ca2b144da7",
   "metadata": {},
   "outputs": [
    {
     "data": {
      "text/plain": [
       "2730.0"
      ]
     },
     "execution_count": 35,
     "metadata": {},
     "output_type": "execute_result"
    }
   ],
   "source": [
    "x = 1000\n",
    "x*=1.3 #1300\n",
    "x*=1.5\n",
    "x*=1.4\n",
    "x"
   ]
  },
  {
   "cell_type": "code",
   "execution_count": 36,
   "id": "b6ee763c-815c-4811-a18c-b28a17cbd96c",
   "metadata": {},
   "outputs": [
    {
     "data": {
      "text/plain": [
       "1950.0"
      ]
     },
     "execution_count": 36,
     "metadata": {},
     "output_type": "execute_result"
    }
   ],
   "source": [
    "1300 * 1.5"
   ]
  },
  {
   "cell_type": "code",
   "execution_count": 37,
   "id": "77a1ea3d-8cce-4ea2-9ccb-c3ae7994b6eb",
   "metadata": {},
   "outputs": [
    {
     "data": {
      "text/plain": [
       "30.0"
      ]
     },
     "execution_count": 37,
     "metadata": {},
     "output_type": "execute_result"
    }
   ],
   "source": [
    "(30+50+40)/4 # aritmatic mean"
   ]
  },
  {
   "cell_type": "code",
   "execution_count": 38,
   "id": "1b2a937b-6497-4909-a758-0c521df31fc7",
   "metadata": {},
   "outputs": [
    {
     "data": {
      "text/plain": [
       "2743.9999999999995"
      ]
     },
     "execution_count": 38,
     "metadata": {},
     "output_type": "execute_result"
    }
   ],
   "source": [
    "x = 1000\n",
    "x*=1.4 \n",
    "x*=1.4\n",
    "x*=1.4\n",
    "x"
   ]
  },
  {
   "cell_type": "code",
   "execution_count": 39,
   "id": "ff9e4918-c75e-4b58-b0fa-1fd7158a0842",
   "metadata": {},
   "outputs": [
    {
     "data": {
      "text/plain": [
       "39.148676411688626"
      ]
     },
     "execution_count": 39,
     "metadata": {},
     "output_type": "execute_result"
    }
   ],
   "source": [
    "# geometric mean\n",
    "gmean = ((30*50*40)**(1/3))\n",
    "gmean"
   ]
  },
  {
   "cell_type": "code",
   "execution_count": 40,
   "id": "a1d20247-6dc3-4e31-bc0f-14b62a32b860",
   "metadata": {},
   "outputs": [
    {
     "data": {
      "text/plain": [
       "2694.322835875"
      ]
     },
     "execution_count": 40,
     "metadata": {},
     "output_type": "execute_result"
    }
   ],
   "source": [
    "x = 1000\n",
    "x*=1.3915\n",
    "x*=1.3915\n",
    "x*=1.3915\n",
    "x"
   ]
  },
  {
   "cell_type": "code",
   "execution_count": 41,
   "id": "21b8bda2-52b6-4dee-b6ff-8a43d5932e1c",
   "metadata": {},
   "outputs": [
    {
     "data": {
      "text/plain": [
       "39.14867641168864"
      ]
     },
     "execution_count": 41,
     "metadata": {},
     "output_type": "execute_result"
    }
   ],
   "source": [
    "scipy.stats.gmean([30,50,40]) # geometric mean menggunakan library scipy"
   ]
  },
  {
   "cell_type": "markdown",
   "id": "388f9c6e-53f1-4c7e-9b38-16aabd121ceb",
   "metadata": {},
   "source": [
    "## median"
   ]
  },
  {
   "cell_type": "markdown",
   "id": "36ad9d07-2deb-44d7-98a2-63e5cf4d5ebd",
   "metadata": {},
   "source": [
    "[1,2,4,8,9]\n",
    "\n",
    "median = 4\n",
    "\n",
    "n = 5\n"
   ]
  },
  {
   "cell_type": "code",
   "execution_count": 42,
   "id": "a5da4693-1a87-4e57-aa4c-0008049ab922",
   "metadata": {},
   "outputs": [
    {
     "data": {
      "text/plain": [
       "4"
      ]
     },
     "execution_count": 42,
     "metadata": {},
     "output_type": "execute_result"
    }
   ],
   "source": [
    "# ganjil\n",
    "a = [1,2,4,8,9]\n",
    "n = len(a)\n",
    "median = a[2]\n",
    "median"
   ]
  },
  {
   "cell_type": "code",
   "execution_count": 43,
   "id": "9ba49d3c-d0f3-4241-9a93-35634fe83aff",
   "metadata": {},
   "outputs": [
    {
     "data": {
      "text/plain": [
       "4"
      ]
     },
     "execution_count": 43,
     "metadata": {},
     "output_type": "execute_result"
    }
   ],
   "source": [
    "a = [1,2,4,8]\n",
    "len(a)"
   ]
  },
  {
   "cell_type": "code",
   "execution_count": 44,
   "id": "66366381-8ee2-4cb0-858e-22f05252f0b1",
   "metadata": {},
   "outputs": [
    {
     "data": {
      "text/plain": [
       "3.0"
      ]
     },
     "execution_count": 44,
     "metadata": {},
     "output_type": "execute_result"
    }
   ],
   "source": [
    "# genap\n",
    "a = [1,2,4,8]\n",
    "n = len(a)\n",
    "(n+1)/2\n",
    "median = (2+4)/2\n",
    "median"
   ]
  },
  {
   "cell_type": "code",
   "execution_count": 154,
   "id": "deb11025-3cda-487f-890d-bfe480168d25",
   "metadata": {},
   "outputs": [
    {
     "data": {
      "text/plain": [
       "3.5"
      ]
     },
     "execution_count": 154,
     "metadata": {},
     "output_type": "execute_result"
    }
   ],
   "source": [
    "# Menggunakan numpy\n",
    "x = [8, 1, 2.5, 4, 28]\n",
    "c = [2,3,4,5]\n",
    "np.median(c)"
   ]
  },
  {
   "cell_type": "code",
   "execution_count": 155,
   "id": "3120a17c-e5ed-4ab0-acd1-e29ebcc6a6a2",
   "metadata": {},
   "outputs": [],
   "source": [
    "# manual pembuktian\n",
    "def median_function(x):\n",
    "    n = len(x)\n",
    "    if n%2 == 1: #pengecekan apk jml data ganjil atau genap\n",
    "        median_ = sorted(x)[round(0.5*(n-1))] # ambil median\n",
    "    else: #genap\n",
    "        x_ord, index = sorted(x) , round(0.5*n)\n",
    "        median_ = 0.5 * (x_ord[index-1]+x_ord[index])\n",
    "    return median_"
   ]
  },
  {
   "cell_type": "code",
   "execution_count": 156,
   "id": "67bb1e69-9227-4a1a-a1ee-eb36e1eb541a",
   "metadata": {},
   "outputs": [
    {
     "data": {
      "text/plain": [
       "4"
      ]
     },
     "execution_count": 156,
     "metadata": {},
     "output_type": "execute_result"
    }
   ],
   "source": [
    "median_function(x)"
   ]
  },
  {
   "cell_type": "code",
   "execution_count": 157,
   "id": "7505954a-4b86-4456-8703-348b2e90cc21",
   "metadata": {},
   "outputs": [
    {
     "data": {
      "text/plain": [
       "3.5"
      ]
     },
     "execution_count": 157,
     "metadata": {},
     "output_type": "execute_result"
    }
   ],
   "source": [
    "median_function(c)"
   ]
  },
  {
   "cell_type": "code",
   "execution_count": 158,
   "id": "a705f2d2-ec44-4c79-8045-c54376432647",
   "metadata": {},
   "outputs": [
    {
     "data": {
      "text/plain": [
       "[1, 2.5, 4, 8, 28]"
      ]
     },
     "execution_count": 158,
     "metadata": {},
     "output_type": "execute_result"
    }
   ],
   "source": [
    "sorted(x)"
   ]
  },
  {
   "cell_type": "code",
   "execution_count": 159,
   "id": "cf6deb97-a37b-4358-8e7e-236a00b42392",
   "metadata": {},
   "outputs": [
    {
     "data": {
      "text/plain": [
       "2"
      ]
     },
     "execution_count": 159,
     "metadata": {},
     "output_type": "execute_result"
    }
   ],
   "source": [
    "n = len(x)\n",
    "round(0.5*(n-1))"
   ]
  },
  {
   "cell_type": "code",
   "execution_count": 160,
   "id": "440dd7cb-7ac8-44f4-817c-a77ae8d6f1bb",
   "metadata": {},
   "outputs": [
    {
     "data": {
      "text/plain": [
       "5"
      ]
     },
     "execution_count": 160,
     "metadata": {},
     "output_type": "execute_result"
    }
   ],
   "source": [
    "n"
   ]
  },
  {
   "cell_type": "markdown",
   "id": "5af5de97-e2db-4c6f-a98b-eefa7ac06aff",
   "metadata": {},
   "source": [
    "# mode/modus"
   ]
  },
  {
   "cell_type": "markdown",
   "id": "5015fdd9-41e0-4076-8213-b55651c0bebd",
   "metadata": {},
   "source": [
    "nilai yng paling banyak muncul atau frekuensi pling tinggi"
   ]
  },
  {
   "cell_type": "code",
   "execution_count": 140,
   "id": "8a6b452d-e62b-4a14-ab2d-d150981ad2d1",
   "metadata": {},
   "outputs": [],
   "source": [
    "u = [2,3,2,8,12]\n",
    "\n",
    "mode_ = max((u.count(i),i)for i in set(u))[1]"
   ]
  },
  {
   "cell_type": "code",
   "execution_count": 141,
   "id": "98c36325-769e-44fd-9cb8-e7f356cac809",
   "metadata": {},
   "outputs": [
    {
     "data": {
      "text/plain": [
       "2"
      ]
     },
     "execution_count": 141,
     "metadata": {},
     "output_type": "execute_result"
    }
   ],
   "source": [
    "max([(u.count(i),i)for i in set(u)])[1]"
   ]
  },
  {
   "cell_type": "code",
   "execution_count": 142,
   "id": "a917f19d-8d76-49ec-8bb4-616657747b2c",
   "metadata": {},
   "outputs": [
    {
     "data": {
      "text/plain": [
       "[(1, 8), (2, 2), (1, 3), (1, 12)]"
      ]
     },
     "execution_count": 142,
     "metadata": {},
     "output_type": "execute_result"
    }
   ],
   "source": [
    "[(u.count(i),i)for i in set(u)]"
   ]
  },
  {
   "cell_type": "code",
   "execution_count": 143,
   "id": "e72a9a68-b507-4d06-9035-b4c129ab5ebc",
   "metadata": {},
   "outputs": [
    {
     "data": {
      "text/plain": [
       "{2, 3, 8, 12}"
      ]
     },
     "execution_count": 143,
     "metadata": {},
     "output_type": "execute_result"
    }
   ],
   "source": [
    "set(u)"
   ]
  },
  {
   "cell_type": "code",
   "execution_count": 144,
   "id": "b4113a30-f48c-4577-b398-8108415dcea1",
   "metadata": {},
   "outputs": [
    {
     "data": {
      "text/plain": [
       "2"
      ]
     },
     "execution_count": 144,
     "metadata": {},
     "output_type": "execute_result"
    }
   ],
   "source": [
    "u.count(2)"
   ]
  },
  {
   "cell_type": "code",
   "execution_count": 145,
   "id": "a441cf12-8899-4221-adb9-2c208ad92363",
   "metadata": {},
   "outputs": [
    {
     "data": {
      "text/plain": [
       "2"
      ]
     },
     "execution_count": 145,
     "metadata": {},
     "output_type": "execute_result"
    }
   ],
   "source": [
    "statistics.mode(u)"
   ]
  },
  {
   "cell_type": "code",
   "execution_count": 146,
   "id": "7a06340f-3a9c-45a2-949c-96d0aad47e67",
   "metadata": {},
   "outputs": [
    {
     "name": "stderr",
     "output_type": "stream",
     "text": [
      "C:\\Users\\ACER\\AppData\\Local\\Temp\\ipykernel_5588\\4097402543.py:1: FutureWarning: Unlike other reduction functions (e.g. `skew`, `kurtosis`), the default behavior of `mode` typically preserves the axis it acts along. In SciPy 1.11.0, this behavior will change: the default value of `keepdims` will become False, the `axis` over which the statistic is taken will be eliminated, and the value None will no longer be accepted. Set `keepdims` to True or False to avoid this warning.\n",
      "  scipy.stats.mode(u)[0][0]\n"
     ]
    },
    {
     "data": {
      "text/plain": [
       "2"
      ]
     },
     "execution_count": 146,
     "metadata": {},
     "output_type": "execute_result"
    }
   ],
   "source": [
    "scipy.stats.mode(u)[0][0]"
   ]
  },
  {
   "cell_type": "code",
   "execution_count": 147,
   "id": "c6d7de3e-5bb1-40d1-b7b5-8f8593bfc71e",
   "metadata": {},
   "outputs": [
    {
     "name": "stderr",
     "output_type": "stream",
     "text": [
      "C:\\Users\\ACER\\AppData\\Local\\Temp\\ipykernel_5588\\1318742610.py:1: FutureWarning: Unlike other reduction functions (e.g. `skew`, `kurtosis`), the default behavior of `mode` typically preserves the axis it acts along. In SciPy 1.11.0, this behavior will change: the default value of `keepdims` will become False, the `axis` over which the statistic is taken will be eliminated, and the value None will no longer be accepted. Set `keepdims` to True or False to avoid this warning.\n",
      "  mode_lib = scipy.stats.mode(u)\n"
     ]
    }
   ],
   "source": [
    "mode_lib = scipy.stats.mode(u)"
   ]
  },
  {
   "cell_type": "code",
   "execution_count": 148,
   "id": "5475d2a9-75d3-4892-9ff1-ba6090c800c7",
   "metadata": {},
   "outputs": [
    {
     "data": {
      "text/plain": [
       "[2, 3, 2, 8, 12]"
      ]
     },
     "execution_count": 148,
     "metadata": {},
     "output_type": "execute_result"
    }
   ],
   "source": [
    "u"
   ]
  },
  {
   "cell_type": "code",
   "execution_count": 149,
   "id": "b7ee7783-bc75-41fd-8057-00a181ece0b9",
   "metadata": {},
   "outputs": [
    {
     "data": {
      "text/plain": [
       "0    2\n",
       "dtype: int64"
      ]
     },
     "execution_count": 149,
     "metadata": {},
     "output_type": "execute_result"
    }
   ],
   "source": [
    "u_series = pd.Series(u)\n",
    "u_series.mode()"
   ]
  },
  {
   "cell_type": "code",
   "execution_count": 150,
   "id": "290f1d9f-b540-4ac3-a9b0-992f68555c4f",
   "metadata": {},
   "outputs": [
    {
     "data": {
      "text/plain": [
       "2"
      ]
     },
     "execution_count": 150,
     "metadata": {},
     "output_type": "execute_result"
    }
   ],
   "source": [
    "u_array = np.array(u)\n",
    "statistics.mode(u_array)"
   ]
  },
  {
   "cell_type": "code",
   "execution_count": 151,
   "id": "560116e1-e5a3-4e44-ae15-599bcc8978fd",
   "metadata": {},
   "outputs": [
    {
     "data": {
      "text/plain": [
       "0    3.0\n",
       "dtype: float64"
      ]
     },
     "execution_count": 151,
     "metadata": {},
     "output_type": "execute_result"
    }
   ],
   "source": [
    "v = pd.Series([1,2,3,3,3,np.nan])\n",
    "v.mode()"
   ]
  },
  {
   "cell_type": "code",
   "execution_count": 152,
   "id": "737fcf94-2592-4fe2-b517-e85af17683f0",
   "metadata": {},
   "outputs": [
    {
     "data": {
      "text/plain": [
       "3.0"
      ]
     },
     "execution_count": 152,
     "metadata": {},
     "output_type": "execute_result"
    }
   ],
   "source": [
    "statistics.mode(v)"
   ]
  },
  {
   "cell_type": "code",
   "execution_count": 153,
   "id": "d28c8ae9-698c-49c9-b0b5-35392fb6b201",
   "metadata": {},
   "outputs": [
    {
     "data": {
      "text/plain": [
       "nan"
      ]
     },
     "execution_count": 153,
     "metadata": {},
     "output_type": "execute_result"
    }
   ],
   "source": [
    "h = [1,2,3,3,3,np.nan,np.nan,np.nan,np.nan]\n",
    "statistics.mode(h)"
   ]
  },
  {
   "cell_type": "markdown",
   "id": "2f9b51f7-b65a-49e0-b852-211f7c1aa45c",
   "metadata": {},
   "source": [
    "- series akan mengabaikan nan dan list akan mempertimbangkan nan"
   ]
  },
  {
   "cell_type": "markdown",
   "id": "58921208-6fbc-4543-96ca-45c8c080b126",
   "metadata": {},
   "source": [
    "# measures of variability"
   ]
  },
  {
   "cell_type": "markdown",
   "id": "5adc3b64-ec8b-4c16-9eec-d4c3418b494e",
   "metadata": {},
   "source": [
    "# variance"
   ]
  },
  {
   "cell_type": "code",
   "execution_count": 64,
   "id": "7e368ade-a6cb-48cb-b86e-a7c9d0909e80",
   "metadata": {},
   "outputs": [
    {
     "data": {
      "text/plain": [
       "[8, 1, 2.5, 4, 28]"
      ]
     },
     "execution_count": 64,
     "metadata": {},
     "output_type": "execute_result"
    }
   ],
   "source": [
    "x"
   ]
  },
  {
   "cell_type": "code",
   "execution_count": 65,
   "id": "51e2e658-306d-435c-8ed2-979aaab6b176",
   "metadata": {},
   "outputs": [
    {
     "data": {
      "text/plain": [
       "123.19999999999999"
      ]
     },
     "execution_count": 65,
     "metadata": {},
     "output_type": "execute_result"
    }
   ],
   "source": [
    "n = len(x)\n",
    "mean_var = np.mean(x)\n",
    "var_ = sum((item-mean_var)**2 for item in x ) / (n-1)\n",
    "var_"
   ]
  },
  {
   "cell_type": "code",
   "execution_count": 66,
   "id": "d43ee94b-a37e-4384-9da9-86640af3da4a",
   "metadata": {},
   "outputs": [
    {
     "data": {
      "text/plain": [
       "123.2"
      ]
     },
     "execution_count": 66,
     "metadata": {},
     "output_type": "execute_result"
    }
   ],
   "source": [
    "# menggunakan variance w/ statistic library\n",
    "var_stat = statistics.variance(x)\n",
    "var_stat"
   ]
  },
  {
   "cell_type": "code",
   "execution_count": 67,
   "id": "81e4cd08-ab8d-4153-9661-dc2ab1257fb3",
   "metadata": {},
   "outputs": [
    {
     "data": {
      "text/plain": [
       "123.19999999999999"
      ]
     },
     "execution_count": 67,
     "metadata": {},
     "output_type": "execute_result"
    }
   ],
   "source": [
    "var_np = np.var(x,ddof=1)\n",
    "var_np"
   ]
  },
  {
   "cell_type": "code",
   "execution_count": 68,
   "id": "e18983c9-32aa-4ea3-8ef5-082dd4c13b57",
   "metadata": {},
   "outputs": [
    {
     "data": {
      "text/plain": [
       "123.19999999999999"
      ]
     },
     "execution_count": 68,
     "metadata": {},
     "output_type": "execute_result"
    }
   ],
   "source": [
    "z = pd.Series(x)\n",
    "z.var()"
   ]
  },
  {
   "cell_type": "markdown",
   "id": "8d7e40be-a0f4-4a23-9db3-a7e9b7583dd9",
   "metadata": {},
   "source": [
    "# standard deviasi"
   ]
  },
  {
   "cell_type": "markdown",
   "id": "656f986a-bfdc-4caf-a2a9-bdb707c5c849",
   "metadata": {},
   "source": [
    "# quiz\n",
    "- hitung variance\n",
    "- standart deviasi"
   ]
  },
  {
   "cell_type": "code",
   "execution_count": 69,
   "id": "89803334-21d6-4b64-a8a9-629b2278a780",
   "metadata": {},
   "outputs": [
    {
     "name": "stdout",
     "output_type": "stream",
     "text": [
      "Standar Deviasi dari x adalah: 18.58090417606205\n",
      "Variansi dari x adalah: 345.25000000000006\n"
     ]
    }
   ],
   "source": [
    "x = [1,2,3,6,7,8,30,40,50]\n",
    "\n",
    "std_dev = statistics.stdev(x)\n",
    "print(\"Standar Deviasi dari x adalah:\", std_dev)\n",
    "\n",
    "variance = statistics.variance(x)\n",
    "print(\"Variansi dari x adalah:\", variance)\n"
   ]
  },
  {
   "cell_type": "code",
   "execution_count": 70,
   "id": "d5500cb9-e19e-44cf-bc49-e83ab58a8f1c",
   "metadata": {},
   "outputs": [
    {
     "name": "stdout",
     "output_type": "stream",
     "text": [
      "345.25000000000006\n",
      "18.58090417606205\n"
     ]
    }
   ],
   "source": [
    "# secara manual\n",
    "x = [1,2,3,6,7,8,30,40,50]\n",
    "n = len(x)\n",
    "mean = sum(x)/n\n",
    "var_ = sum((item - mean)**2 for item in x)/(n-1)\n",
    "Sd_ = var_**(1/2)\n",
    "\n",
    "print(var_)\n",
    "print(Sd_)"
   ]
  },
  {
   "cell_type": "code",
   "execution_count": 71,
   "id": "1c3e6a52-c553-4565-86ae-bb44d8377a22",
   "metadata": {},
   "outputs": [
    {
     "data": {
      "text/plain": [
       "123.19999999999999"
      ]
     },
     "execution_count": 71,
     "metadata": {},
     "output_type": "execute_result"
    }
   ],
   "source": [
    "var_np"
   ]
  },
  {
   "cell_type": "code",
   "execution_count": 72,
   "id": "4ce274f1-0592-44d8-9a14-268d28c64b6f",
   "metadata": {},
   "outputs": [],
   "source": [
    "stdev = var_np**(1/2)"
   ]
  },
  {
   "cell_type": "code",
   "execution_count": 73,
   "id": "27c0e4a2-23a8-4915-8778-905c93f9c2a0",
   "metadata": {},
   "outputs": [
    {
     "data": {
      "text/plain": [
       "11.099549540409285"
      ]
     },
     "execution_count": 73,
     "metadata": {},
     "output_type": "execute_result"
    }
   ],
   "source": [
    "stdev"
   ]
  },
  {
   "cell_type": "code",
   "execution_count": 74,
   "id": "d6d1212b-d5f6-42da-b7c6-eed826a5ba74",
   "metadata": {},
   "outputs": [
    {
     "data": {
      "text/plain": [
       "11.099549540409285"
      ]
     },
     "execution_count": 74,
     "metadata": {},
     "output_type": "execute_result"
    }
   ],
   "source": [
    "stdev = np.sqrt(var_np)\n",
    "stdev"
   ]
  },
  {
   "cell_type": "code",
   "execution_count": 75,
   "id": "c975dfb4-c14b-4812-918a-45ad8d70cdf5",
   "metadata": {},
   "outputs": [],
   "source": [
    "x = [8, 1, 2.5, 4, 28]"
   ]
  },
  {
   "cell_type": "code",
   "execution_count": 76,
   "id": "f3b915da-48a2-4955-965d-e1eb642cec53",
   "metadata": {},
   "outputs": [
    {
     "data": {
      "text/plain": [
       "[8, 1, 2.5, 4, 28]"
      ]
     },
     "execution_count": 76,
     "metadata": {},
     "output_type": "execute_result"
    }
   ],
   "source": [
    "x"
   ]
  },
  {
   "cell_type": "code",
   "execution_count": 77,
   "id": "56d3b04b-db9d-4cc0-a65b-6d645be4abca",
   "metadata": {},
   "outputs": [
    {
     "data": {
      "text/plain": [
       "11.099549540409287"
      ]
     },
     "execution_count": 77,
     "metadata": {},
     "output_type": "execute_result"
    }
   ],
   "source": [
    "stdev = statistics.stdev(x)\n",
    "stdev"
   ]
  },
  {
   "cell_type": "code",
   "execution_count": 78,
   "id": "9739e178-0946-4feb-8f4d-23ef3da60296",
   "metadata": {},
   "outputs": [
    {
     "data": {
      "text/plain": [
       "11.099549540409285"
      ]
     },
     "execution_count": 78,
     "metadata": {},
     "output_type": "execute_result"
    }
   ],
   "source": [
    "stdev = np.std(x,ddof=1)\n",
    "stdev"
   ]
  },
  {
   "cell_type": "markdown",
   "id": "f84397dc-ed4c-4157-a52e-da6b0d91143f",
   "metadata": {},
   "source": [
    "# skewness"
   ]
  },
  {
   "cell_type": "markdown",
   "id": "d82a493b-9d62-4aa5-a602-940801bcb857",
   "metadata": {},
   "source": [
    "kita dpt positif skiw atau negatif skiw\n",
    "- positif di kiri\n",
    "- negatif kanan"
   ]
  },
  {
   "cell_type": "code",
   "execution_count": 79,
   "id": "589281e5-b21c-42dc-8bda-cc440264e17b",
   "metadata": {},
   "outputs": [
    {
     "data": {
      "text/plain": [
       "[8, 1, 2.5, 4, 28]"
      ]
     },
     "execution_count": 79,
     "metadata": {},
     "output_type": "execute_result"
    }
   ],
   "source": [
    "x"
   ]
  },
  {
   "cell_type": "code",
   "execution_count": 80,
   "id": "68dac71b-6811-4ba0-a169-a6a3822a8426",
   "metadata": {},
   "outputs": [
    {
     "data": {
      "text/plain": [
       "1.947043227390592"
      ]
     },
     "execution_count": 80,
     "metadata": {},
     "output_type": "execute_result"
    }
   ],
   "source": [
    "n = len(x)\n",
    "\n",
    "mean = np.mean(x)\n",
    "stdev = statistics.stdev(x)\n",
    "skew_ = (sum((item - mean)**3 for item in x))*n /((n-1) * (n-2) *(stdev**3))\n",
    "skew_"
   ]
  },
  {
   "cell_type": "code",
   "execution_count": 81,
   "id": "4c73863b-b248-4cd5-9905-4de86e9fdf38",
   "metadata": {},
   "outputs": [
    {
     "data": {
      "text/plain": [
       "1.9470432273905927"
      ]
     },
     "execution_count": 81,
     "metadata": {},
     "output_type": "execute_result"
    }
   ],
   "source": [
    "scipy.stats.skew(x,bias=False)"
   ]
  },
  {
   "cell_type": "code",
   "execution_count": 82,
   "id": "e7ef312d-a57f-4786-ade7-66bb42609f9c",
   "metadata": {},
   "outputs": [
    {
     "data": {
      "text/plain": [
       "1.9470432273905924"
      ]
     },
     "execution_count": 82,
     "metadata": {},
     "output_type": "execute_result"
    }
   ],
   "source": [
    "z = pd.Series(x)\n",
    "z.skew()"
   ]
  },
  {
   "cell_type": "code",
   "execution_count": 83,
   "id": "b8f9127b-8bdb-42f5-b33a-590a50214d2d",
   "metadata": {},
   "outputs": [
    {
     "data": {
      "text/plain": [
       "nan"
      ]
     },
     "execution_count": 83,
     "metadata": {},
     "output_type": "execute_result"
    }
   ],
   "source": [
    "scipy.stats.skew(x_with_nan)"
   ]
  },
  {
   "cell_type": "code",
   "execution_count": 84,
   "id": "6fb08b54-adc8-4ad5-a051-6da1202e744a",
   "metadata": {},
   "outputs": [
    {
     "data": {
      "text/plain": [
       "1.9470432273905924"
      ]
     },
     "execution_count": 84,
     "metadata": {},
     "output_type": "execute_result"
    }
   ],
   "source": [
    "z_with_nan = pd.Series(x_with_nan)\n",
    "z_with_nan.skew()"
   ]
  },
  {
   "cell_type": "code",
   "execution_count": 85,
   "id": "4617bffb-ebc4-4400-88b8-2cf13656b176",
   "metadata": {},
   "outputs": [
    {
     "data": {
      "text/plain": [
       "nan"
      ]
     },
     "execution_count": 85,
     "metadata": {},
     "output_type": "execute_result"
    }
   ],
   "source": [
    "scipy.stats.skew(z_with_nan)"
   ]
  },
  {
   "cell_type": "markdown",
   "id": "ed21c4ec-7d3c-4915-8924-ee29086396c2",
   "metadata": {},
   "source": [
    "# percentiles"
   ]
  },
  {
   "cell_type": "markdown",
   "id": "6e49e0c9-b805-4411-89b9-6b4cdf53948f",
   "metadata": {},
   "source": [
    "- pembagian data menjadi 100 bagian, misal 1 persentil itu adl satu bagian dr 100 data.\n",
    "- masing masing bagian data persensinya 1/100\n",
    "- kuartil angka terbesat di 4"
   ]
  },
  {
   "cell_type": "code",
   "execution_count": 86,
   "id": "98c2a3e8-2353-42e1-93ed-2c9ade5c8b6b",
   "metadata": {},
   "outputs": [
    {
     "data": {
      "text/plain": [
       "-3.44"
      ]
     },
     "execution_count": 86,
     "metadata": {},
     "output_type": "execute_result"
    }
   ],
   "source": [
    "x =[-5,-1.1,0.1,2,8,12.8,21,25.8,41]\n",
    "np.percentile(x,5) # percentil 5"
   ]
  },
  {
   "cell_type": "code",
   "execution_count": 87,
   "id": "12a02100-a00c-4e0e-aae6-e5842feea0ea",
   "metadata": {},
   "outputs": [
    {
     "data": {
      "text/plain": [
       "-5.0"
      ]
     },
     "execution_count": 87,
     "metadata": {},
     "output_type": "execute_result"
    }
   ],
   "source": [
    "np.percentile(x,0)"
   ]
  },
  {
   "cell_type": "code",
   "execution_count": 88,
   "id": "92b9533e-173f-42c9-9167-b8dfa7d39ce0",
   "metadata": {},
   "outputs": [
    {
     "data": {
      "text/plain": [
       "41.0"
      ]
     },
     "execution_count": 88,
     "metadata": {},
     "output_type": "execute_result"
    }
   ],
   "source": [
    "np.percentile(x,100)"
   ]
  },
  {
   "cell_type": "code",
   "execution_count": 89,
   "id": "daab2be1-c609-4d0a-9280-f28aa311aa67",
   "metadata": {},
   "outputs": [
    {
     "data": {
      "text/plain": [
       "28.840000000000003"
      ]
     },
     "execution_count": 89,
     "metadata": {},
     "output_type": "execute_result"
    }
   ],
   "source": [
    "np.percentile(x,90)"
   ]
  },
  {
   "cell_type": "code",
   "execution_count": 90,
   "id": "7cccd268-8553-453b-a1ea-25d38a83c3df",
   "metadata": {},
   "outputs": [
    {
     "data": {
      "text/plain": [
       "[8.0]"
      ]
     },
     "execution_count": 90,
     "metadata": {},
     "output_type": "execute_result"
    }
   ],
   "source": [
    "statistics.quantiles(x,n=2)"
   ]
  },
  {
   "cell_type": "code",
   "execution_count": 91,
   "id": "cf144515-fab3-4aa7-be32-7b6417808392",
   "metadata": {},
   "outputs": [
    {
     "data": {
      "text/plain": [
       "[-0.5, 8.0, 23.4]"
      ]
     },
     "execution_count": 91,
     "metadata": {},
     "output_type": "execute_result"
    }
   ],
   "source": [
    "statistics.quantiles(x,n=4)"
   ]
  },
  {
   "cell_type": "code",
   "execution_count": 92,
   "id": "9e5f1902-0e69-4d4c-9921-d78c5cc238c2",
   "metadata": {},
   "outputs": [
    {
     "data": {
      "text/plain": [
       "[0.1, 8.0, 21.0]"
      ]
     },
     "execution_count": 92,
     "metadata": {},
     "output_type": "execute_result"
    }
   ],
   "source": [
    "statistics.quantiles(x,n=4,method='inclusive')"
   ]
  },
  {
   "cell_type": "code",
   "execution_count": 93,
   "id": "5edb8af6-0255-4f5b-8c20-0ed07fe8169b",
   "metadata": {},
   "outputs": [
    {
     "data": {
      "text/plain": [
       "-5.0"
      ]
     },
     "execution_count": 93,
     "metadata": {},
     "output_type": "execute_result"
    }
   ],
   "source": [
    "np.quantile(x,0)"
   ]
  },
  {
   "cell_type": "code",
   "execution_count": 94,
   "id": "c105dedd-40a6-4a77-aa19-edac7ffeed68",
   "metadata": {},
   "outputs": [
    {
     "data": {
      "text/plain": [
       "41.0"
      ]
     },
     "execution_count": 94,
     "metadata": {},
     "output_type": "execute_result"
    }
   ],
   "source": [
    "np.quantile(x,1)"
   ]
  },
  {
   "cell_type": "code",
   "execution_count": 95,
   "id": "b729bc62-2c05-475c-85bb-c3e79542c509",
   "metadata": {},
   "outputs": [
    {
     "data": {
      "text/plain": [
       "-4.688"
      ]
     },
     "execution_count": 95,
     "metadata": {},
     "output_type": "execute_result"
    }
   ],
   "source": [
    "np.quantile(x,0.01)"
   ]
  },
  {
   "cell_type": "code",
   "execution_count": 96,
   "id": "5bbfa701-7e3c-42a8-a594-c8ec23aad7ba",
   "metadata": {},
   "outputs": [
    {
     "data": {
      "text/plain": [
       "8.0"
      ]
     },
     "execution_count": 96,
     "metadata": {},
     "output_type": "execute_result"
    }
   ],
   "source": [
    "np.quantile(x,0.5)"
   ]
  },
  {
   "cell_type": "code",
   "execution_count": 97,
   "id": "0030eefd-6cae-493f-8877-3c118d33fda7",
   "metadata": {},
   "outputs": [
    {
     "data": {
      "text/plain": [
       "[-5, -1.1, 0.1, 2, 8, 12.8, 21, 25.8, 41]"
      ]
     },
     "execution_count": 97,
     "metadata": {},
     "output_type": "execute_result"
    }
   ],
   "source": [
    "x "
   ]
  },
  {
   "cell_type": "code",
   "execution_count": 98,
   "id": "4fece01c-0263-4881-9791-ecf44418bceb",
   "metadata": {},
   "outputs": [
    {
     "data": {
      "text/plain": [
       "[-5, -1.1, nan, 0.1, 2, 8, 12.8, 21, 25.8, 41]"
      ]
     },
     "execution_count": 98,
     "metadata": {},
     "output_type": "execute_result"
    }
   ],
   "source": [
    "x_with_nan = [-5, -1.1,np.nan, 0.1, 2, 8, 12.8, 21, 25.8, 41]\n",
    "x_with_nan"
   ]
  },
  {
   "cell_type": "code",
   "execution_count": 99,
   "id": "9933dc1c-f622-4ba8-a549-4238829b7e21",
   "metadata": {},
   "outputs": [
    {
     "data": {
      "text/plain": [
       "nan"
      ]
     },
     "execution_count": 99,
     "metadata": {},
     "output_type": "execute_result"
    }
   ],
   "source": [
    "np.quantile(x_with_nan,0)"
   ]
  },
  {
   "cell_type": "code",
   "execution_count": 100,
   "id": "72ae7b8e-b67e-4121-aebe-3d95bc7169e5",
   "metadata": {},
   "outputs": [
    {
     "data": {
      "text/plain": [
       "8.0"
      ]
     },
     "execution_count": 100,
     "metadata": {},
     "output_type": "execute_result"
    }
   ],
   "source": [
    "np.nanquantile(x_with_nan,0.5)"
   ]
  },
  {
   "cell_type": "code",
   "execution_count": 101,
   "id": "7911fd2d-5c08-47b8-bdae-969cf527617b",
   "metadata": {},
   "outputs": [
    {
     "data": {
      "text/plain": [
       "[-5, -1.1, 0.1, 2, 8, 12.8, 21, 25.8, 41]"
      ]
     },
     "execution_count": 101,
     "metadata": {},
     "output_type": "execute_result"
    }
   ],
   "source": [
    "x"
   ]
  },
  {
   "cell_type": "code",
   "execution_count": null,
   "id": "e70fef0d-537e-454e-b4ee-95fd37890a18",
   "metadata": {},
   "outputs": [],
   "source": []
  },
  {
   "cell_type": "code",
   "execution_count": null,
   "id": "59f1c332-d301-459b-8154-5409e1304c18",
   "metadata": {},
   "outputs": [],
   "source": []
  },
  {
   "cell_type": "markdown",
   "id": "8dc4bcb1-bce0-49fb-9db3-e4d9eb5cae84",
   "metadata": {},
   "source": [
    "# ranges"
   ]
  },
  {
   "cell_type": "code",
   "execution_count": 102,
   "id": "621c78d5-ea88-44b3-9340-b794ebbffe17",
   "metadata": {},
   "outputs": [
    {
     "data": {
      "text/plain": [
       "[-5, -1.1, 0.1, 2, 8, 12.8, 21, 25.8, 41]"
      ]
     },
     "execution_count": 102,
     "metadata": {},
     "output_type": "execute_result"
    }
   ],
   "source": [
    "x # range = 41 - (-5) = 46"
   ]
  },
  {
   "cell_type": "code",
   "execution_count": 103,
   "id": "e61f3c35-37bd-4726-9610-2338b4dbccb1",
   "metadata": {},
   "outputs": [
    {
     "data": {
      "text/plain": [
       "46.0"
      ]
     },
     "execution_count": 103,
     "metadata": {},
     "output_type": "execute_result"
    }
   ],
   "source": [
    "# np.ptp untuk menghitung range\n",
    "np.ptp(x)"
   ]
  },
  {
   "cell_type": "code",
   "execution_count": 104,
   "id": "6dd80893-3862-49e5-b9fe-912fa0e6762a",
   "metadata": {},
   "outputs": [
    {
     "data": {
      "text/plain": [
       "46.0"
      ]
     },
     "execution_count": 104,
     "metadata": {},
     "output_type": "execute_result"
    }
   ],
   "source": [
    "np.amax(x) - np.amin(x)"
   ]
  },
  {
   "cell_type": "code",
   "execution_count": 105,
   "id": "95bbaec9-f28d-4199-a433-09da8c861ca6",
   "metadata": {},
   "outputs": [
    {
     "data": {
      "text/plain": [
       "-5.0"
      ]
     },
     "execution_count": 105,
     "metadata": {},
     "output_type": "execute_result"
    }
   ],
   "source": [
    "np.amin(x)"
   ]
  },
  {
   "cell_type": "code",
   "execution_count": 106,
   "id": "51c49d92-1964-493f-a4e6-b2ed80ee34e3",
   "metadata": {},
   "outputs": [
    {
     "data": {
      "text/plain": [
       "41.0"
      ]
     },
     "execution_count": 106,
     "metadata": {},
     "output_type": "execute_result"
    }
   ],
   "source": [
    "np.amax(x)"
   ]
  },
  {
   "cell_type": "markdown",
   "id": "909a7f3d-d490-4989-b49b-523ba2d63662",
   "metadata": {},
   "source": [
    "# interquartile range (q3-q1) biasanya digunakan u' mendeteksi outlier)"
   ]
  },
  {
   "cell_type": "code",
   "execution_count": 107,
   "id": "1834d89c-8a48-4b71-aec2-660d11da4dfe",
   "metadata": {},
   "outputs": [
    {
     "data": {
      "text/plain": [
       "[-5, -1.1, 0.1, 2, 8, 12.8, 21, 25.8, 41]"
      ]
     },
     "execution_count": 107,
     "metadata": {},
     "output_type": "execute_result"
    }
   ],
   "source": [
    "x"
   ]
  },
  {
   "cell_type": "code",
   "execution_count": 124,
   "id": "e0f5ed72-cc68-4bae-b947-4c31d667946a",
   "metadata": {},
   "outputs": [
    {
     "data": {
      "text/plain": [
       "10.0"
      ]
     },
     "execution_count": 124,
     "metadata": {},
     "output_type": "execute_result"
    }
   ],
   "source": [
    "quartiles = np.quantile(x,[0.25,0.75])\n",
    "IQR = quartiles[1] - quartiles[0]\n",
    "IQR"
   ]
  },
  {
   "cell_type": "markdown",
   "id": "17aca014-0a05-4e36-a62d-01bbb9462f0b",
   "metadata": {},
   "source": [
    "# SUMMARY OF DESC, STATS"
   ]
  },
  {
   "cell_type": "code",
   "execution_count": 165,
   "id": "01164256-0fd6-4bce-af1c-18943fb7a173",
   "metadata": {},
   "outputs": [
    {
     "data": {
      "text/plain": [
       "[-5, -1.1, 0.1, 2, 8, 12.8, 21, 25.8, 41]"
      ]
     },
     "execution_count": 165,
     "metadata": {},
     "output_type": "execute_result"
    }
   ],
   "source": [
    "x"
   ]
  },
  {
   "cell_type": "code",
   "execution_count": 166,
   "id": "0add9d5b-c2be-43b2-b570-ed90a751a0ba",
   "metadata": {},
   "outputs": [
    {
     "data": {
      "text/plain": [
       "DescribeResult(nobs=9, minmax=(-5.0, 41.0), mean=11.622222222222222, variance=228.75194444444446, skewness=0.9249043136685094, kurtosis=0.14770623629658886)"
      ]
     },
     "execution_count": 166,
     "metadata": {},
     "output_type": "execute_result"
    }
   ],
   "source": [
    "result = scipy.stats.describe(x,ddof=1,bias=False)\n",
    "result"
   ]
  },
  {
   "cell_type": "code",
   "execution_count": 167,
   "id": "2dd65517-5258-42e3-afa6-d92f0cbbb9e7",
   "metadata": {},
   "outputs": [
    {
     "data": {
      "text/plain": [
       "15.12454774346805"
      ]
     },
     "execution_count": 167,
     "metadata": {},
     "output_type": "execute_result"
    }
   ],
   "source": [
    "(result.variance)**(1/2)"
   ]
  },
  {
   "cell_type": "code",
   "execution_count": 168,
   "id": "7d91997f-6b83-4001-a314-5607ddf1d349",
   "metadata": {},
   "outputs": [
    {
     "data": {
      "text/plain": [
       "46.0"
      ]
     },
     "execution_count": 168,
     "metadata": {},
     "output_type": "execute_result"
    }
   ],
   "source": [
    "result.minmax[1]-result.minmax[0]"
   ]
  },
  {
   "cell_type": "code",
   "execution_count": 169,
   "id": "78b5f654-5844-471f-9904-b371eff1c0db",
   "metadata": {},
   "outputs": [
    {
     "data": {
      "text/plain": [
       "0.9249043136685094"
      ]
     },
     "execution_count": 169,
     "metadata": {},
     "output_type": "execute_result"
    }
   ],
   "source": [
    "result.skewness"
   ]
  },
  {
   "cell_type": "code",
   "execution_count": 170,
   "id": "ecda2476-dd16-44e4-86fd-b8fecbcad477",
   "metadata": {},
   "outputs": [
    {
     "data": {
      "text/plain": [
       "0    -5.0\n",
       "1    -1.1\n",
       "2     0.1\n",
       "3     2.0\n",
       "4     8.0\n",
       "5    12.8\n",
       "6    21.0\n",
       "7    25.8\n",
       "8    41.0\n",
       "dtype: float64"
      ]
     },
     "execution_count": 170,
     "metadata": {},
     "output_type": "execute_result"
    }
   ],
   "source": [
    "z = pd.Series(x)\n",
    "z"
   ]
  },
  {
   "cell_type": "code",
   "execution_count": 171,
   "id": "d4571ff9-1a4e-456b-9957-d18168470b4f",
   "metadata": {},
   "outputs": [
    {
     "data": {
      "text/plain": [
       "count     9.000000\n",
       "mean     11.622222\n",
       "std      15.124548\n",
       "min      -5.000000\n",
       "25%       0.100000\n",
       "50%       8.000000\n",
       "75%      21.000000\n",
       "max      41.000000\n",
       "dtype: float64"
      ]
     },
     "execution_count": 171,
     "metadata": {},
     "output_type": "execute_result"
    }
   ],
   "source": [
    "z.describe()"
   ]
  },
  {
   "cell_type": "markdown",
   "id": "88affe31-28c4-456f-93c4-a7b1793818f5",
   "metadata": {},
   "source": [
    "# correlation"
   ]
  },
  {
   "cell_type": "code",
   "execution_count": 113,
   "id": "1f5d0e22-d96e-4228-a9ac-2ffdcd849547",
   "metadata": {},
   "outputs": [],
   "source": [
    "x = list(range(-10,11))\n",
    "y = [0, 2, 2, 2, 2, 3, 3, 6, 7, 4, 7, 6, 6, 9, 4, 5, 5, 10, 11, 12, 14]\n",
    "x_ar, y_ar = np.array(x),np.array(y)\n",
    "x_s,y_s = pd.Series(x),pd.Series(y)"
   ]
  },
  {
   "cell_type": "code",
   "execution_count": 131,
   "id": "7e382c02-e32a-498b-9a79-c6e253747a62",
   "metadata": {},
   "outputs": [
    {
     "data": {
      "text/plain": [
       "True"
      ]
     },
     "execution_count": 131,
     "metadata": {},
     "output_type": "execute_result"
    }
   ],
   "source": [
    "len(x)==len(y)"
   ]
  },
  {
   "cell_type": "markdown",
   "id": "44e3c581-8300-4bb0-8ae9-c713e9e8f9a0",
   "metadata": {},
   "source": [
    "# covariance"
   ]
  },
  {
   "cell_type": "markdown",
   "id": "a23a3569-6482-4b16-adff-d5f47bbc62f3",
   "metadata": {},
   "source": [
    "n = len(x)\n",
    "mean_x = np.mean(x)\n",
    "mean(y) = np.mean(y)\n",
    "\n",
    "cov_xy = (sum((x[item]-mean_x)*(y[item]-mean_y) for item in range(n)))/(n-1)\n",
    "cov_xy"
   ]
  },
  {
   "cell_type": "code",
   "execution_count": 176,
   "id": "f033b8d2-f45e-4971-ab2d-61c757e30fda",
   "metadata": {},
   "outputs": [
    {
     "data": {
      "text/plain": [
       "30.925"
      ]
     },
     "execution_count": 176,
     "metadata": {},
     "output_type": "execute_result"
    }
   ],
   "source": [
    "n = len(x)\n",
    "mean_x = np.mean(x)\n",
    "mean_y = np.mean(y)\n",
    "\n",
    "cov_xy = (sum((x[item]-mean_x)*(y[item]-mean_y) for item in range(n)))/(n-1)\n",
    "cov_xy"
   ]
  },
  {
   "cell_type": "code",
   "execution_count": 133,
   "id": "899c1aeb-be8a-4ec4-b5e2-3a5a3ac10709",
   "metadata": {},
   "outputs": [
    {
     "data": {
      "text/plain": [
       "array([[38.5       , 19.95      ],\n",
       "       [19.95      , 13.91428571]])"
      ]
     },
     "execution_count": 133,
     "metadata": {},
     "output_type": "execute_result"
    }
   ],
   "source": [
    "cov_matrix = np.cov(x,y)\n",
    "cov_matrix"
   ]
  },
  {
   "cell_type": "code",
   "execution_count": 116,
   "id": "a397b5bf-b1e9-481d-9dac-bd655981f42b",
   "metadata": {},
   "outputs": [
    {
     "data": {
      "text/plain": [
       "38.5"
      ]
     },
     "execution_count": 116,
     "metadata": {},
     "output_type": "execute_result"
    }
   ],
   "source": [
    "np.var(x,ddof=1)"
   ]
  },
  {
   "cell_type": "code",
   "execution_count": 117,
   "id": "2dd87f64-fbde-4a9f-991b-4613a5c1be31",
   "metadata": {},
   "outputs": [
    {
     "data": {
      "text/plain": [
       "13.914285714285711"
      ]
     },
     "execution_count": 117,
     "metadata": {},
     "output_type": "execute_result"
    }
   ],
   "source": [
    "np.var(y,ddof=1)"
   ]
  },
  {
   "cell_type": "code",
   "execution_count": 134,
   "id": "29f402f5-64b4-459d-bc48-b184dd957b46",
   "metadata": {},
   "outputs": [
    {
     "data": {
      "text/plain": [
       "19.95"
      ]
     },
     "execution_count": 134,
     "metadata": {},
     "output_type": "execute_result"
    }
   ],
   "source": [
    "cov_xy = cov_matrix[0,1]\n",
    "cov_xy"
   ]
  },
  {
   "cell_type": "code",
   "execution_count": 135,
   "id": "2734c568-f58f-48a2-8f7a-dfbe418513b8",
   "metadata": {},
   "outputs": [
    {
     "data": {
      "text/plain": [
       "19.95"
      ]
     },
     "execution_count": 135,
     "metadata": {},
     "output_type": "execute_result"
    }
   ],
   "source": [
    "cov_xy = cov_matrix[1,0]\n",
    "cov_xy"
   ]
  },
  {
   "cell_type": "markdown",
   "id": "3e6abaaf-bce9-4510-9c7c-e9311fba0a79",
   "metadata": {},
   "source": [
    "# correlation coefficient"
   ]
  },
  {
   "cell_type": "markdown",
   "id": "6eab9af9-220b-404a-a715-6cd3da1cd56f",
   "metadata": {},
   "source": [
    "r = 1 / r = -1 atau mendekati merupakan tanda kedua variabel mengalami multicollinarily"
   ]
  },
  {
   "cell_type": "code",
   "execution_count": 136,
   "id": "6db642be-3311-4342-9a00-ecf53c6a92e9",
   "metadata": {},
   "outputs": [
    {
     "data": {
      "text/plain": [
       "0.861950005631606"
      ]
     },
     "execution_count": 136,
     "metadata": {},
     "output_type": "execute_result"
    }
   ],
   "source": [
    "var_x = np.var(x,ddof=1)\n",
    "var_y = np.var(y,ddof=1)\n",
    "cov_xy\n",
    "std_x = var_x**(1/2)\n",
    "std_y = var_y**(1/2)\n",
    "r = cov_xy / (std_x*std_y)\n",
    "r"
   ]
  },
  {
   "cell_type": "markdown",
   "id": "d5757555-e2b5-48e1-93ac-904f1637c83f",
   "metadata": {},
   "source": [
    "korelasi positif sangat kuat karena mendekati 1"
   ]
  },
  {
   "cell_type": "code",
   "execution_count": 138,
   "id": "14a1b7b0-3617-4d5f-9ea0-e1ef5aad38dd",
   "metadata": {},
   "outputs": [
    {
     "data": {
      "text/plain": [
       "0.8619500056316058"
      ]
     },
     "execution_count": 138,
     "metadata": {},
     "output_type": "execute_result"
    }
   ],
   "source": [
    "r , p = scipy.stats.pearsonr(x,y)\n",
    "r"
   ]
  },
  {
   "cell_type": "code",
   "execution_count": 137,
   "id": "36c0c73e-ffc5-4d2c-96ea-fd67aa5ea0d5",
   "metadata": {},
   "outputs": [
    {
     "data": {
      "text/plain": [
       "19.95"
      ]
     },
     "execution_count": 137,
     "metadata": {},
     "output_type": "execute_result"
    }
   ],
   "source": [
    "cov_xy"
   ]
  },
  {
   "cell_type": "code",
   "execution_count": 121,
   "id": "84654d6e-a2e8-4560-96ad-23b25deb1ba6",
   "metadata": {},
   "outputs": [
    {
     "data": {
      "text/plain": [
       "38.5"
      ]
     },
     "execution_count": 121,
     "metadata": {},
     "output_type": "execute_result"
    }
   ],
   "source": [
    "var_x"
   ]
  },
  {
   "cell_type": "code",
   "execution_count": 139,
   "id": "ba50369d-fb7c-40d7-94fc-e2ff31f45392",
   "metadata": {},
   "outputs": [
    {
     "data": {
      "text/plain": [
       "6.2048368229954285"
      ]
     },
     "execution_count": 139,
     "metadata": {},
     "output_type": "execute_result"
    }
   ],
   "source": [
    "std_x"
   ]
  },
  {
   "cell_type": "code",
   "execution_count": 177,
   "id": "0fabc0f0-7e96-40e5-80f6-72c6eedb6626",
   "metadata": {},
   "outputs": [
    {
     "data": {
      "text/plain": [
       "5.122760847201207e-07"
      ]
     },
     "execution_count": 177,
     "metadata": {},
     "output_type": "execute_result"
    }
   ],
   "source": [
    "p"
   ]
  },
  {
   "cell_type": "code",
   "execution_count": 180,
   "id": "3a9e7608-c62f-4268-a4a7-382d6a2a2759",
   "metadata": {},
   "outputs": [
    {
     "ename": "ValueError",
     "evalue": "x and y must have the same length.",
     "output_type": "error",
     "traceback": [
      "\u001b[1;31m---------------------------------------------------------------------------\u001b[0m",
      "\u001b[1;31mValueError\u001b[0m                                Traceback (most recent call last)",
      "\u001b[1;32m~\\AppData\\Local\\Temp\\ipykernel_5588\\597332890.py\u001b[0m in \u001b[0;36m<module>\u001b[1;34m\u001b[0m\n\u001b[1;32m----> 1\u001b[1;33m \u001b[0mxy_corr\u001b[0m \u001b[1;33m=\u001b[0m \u001b[0mscipy\u001b[0m\u001b[1;33m.\u001b[0m\u001b[0mstats\u001b[0m\u001b[1;33m.\u001b[0m\u001b[0mpearsonr\u001b[0m\u001b[1;33m(\u001b[0m\u001b[0mx\u001b[0m\u001b[1;33m,\u001b[0m\u001b[0my\u001b[0m\u001b[1;33m)\u001b[0m\u001b[1;33m.\u001b[0m\u001b[0mstatistics\u001b[0m\u001b[1;33m\u001b[0m\u001b[1;33m\u001b[0m\u001b[0m\n\u001b[0m\u001b[0;32m      2\u001b[0m \u001b[0mxy_corr\u001b[0m\u001b[1;33m\u001b[0m\u001b[1;33m\u001b[0m\u001b[0m\n",
      "\u001b[1;32m~\\anaconda3\\lib\\site-packages\\scipy\\stats\\_stats_py.py\u001b[0m in \u001b[0;36mpearsonr\u001b[1;34m(x, y, alternative)\u001b[0m\n\u001b[0;32m   4410\u001b[0m     \u001b[0mn\u001b[0m \u001b[1;33m=\u001b[0m \u001b[0mlen\u001b[0m\u001b[1;33m(\u001b[0m\u001b[0mx\u001b[0m\u001b[1;33m)\u001b[0m\u001b[1;33m\u001b[0m\u001b[1;33m\u001b[0m\u001b[0m\n\u001b[0;32m   4411\u001b[0m     \u001b[1;32mif\u001b[0m \u001b[0mn\u001b[0m \u001b[1;33m!=\u001b[0m \u001b[0mlen\u001b[0m\u001b[1;33m(\u001b[0m\u001b[0my\u001b[0m\u001b[1;33m)\u001b[0m\u001b[1;33m:\u001b[0m\u001b[1;33m\u001b[0m\u001b[1;33m\u001b[0m\u001b[0m\n\u001b[1;32m-> 4412\u001b[1;33m         \u001b[1;32mraise\u001b[0m \u001b[0mValueError\u001b[0m\u001b[1;33m(\u001b[0m\u001b[1;34m'x and y must have the same length.'\u001b[0m\u001b[1;33m)\u001b[0m\u001b[1;33m\u001b[0m\u001b[1;33m\u001b[0m\u001b[0m\n\u001b[0m\u001b[0;32m   4413\u001b[0m \u001b[1;33m\u001b[0m\u001b[0m\n\u001b[0;32m   4414\u001b[0m     \u001b[1;32mif\u001b[0m \u001b[0mn\u001b[0m \u001b[1;33m<\u001b[0m \u001b[1;36m2\u001b[0m\u001b[1;33m:\u001b[0m\u001b[1;33m\u001b[0m\u001b[1;33m\u001b[0m\u001b[0m\n",
      "\u001b[1;31mValueError\u001b[0m: x and y must have the same length."
     ]
    }
   ],
   "source": [
    "xy_corr = scipy.stats.pearsonr(x,y).statistics\n",
    "xy_corr"
   ]
  },
  {
   "cell_type": "code",
   "execution_count": 181,
   "id": "00ea090a-db39-4e39-9db3-f711d112eb68",
   "metadata": {},
   "outputs": [
    {
     "ename": "ValueError",
     "evalue": "all the input array dimensions for the concatenation axis must match exactly, but along dimension 1, the array at index 0 has size 9 and the array at index 1 has size 21",
     "output_type": "error",
     "traceback": [
      "\u001b[1;31m---------------------------------------------------------------------------\u001b[0m",
      "\u001b[1;31mValueError\u001b[0m                                Traceback (most recent call last)",
      "\u001b[1;32m~\\AppData\\Local\\Temp\\ipykernel_5588\\3469919048.py\u001b[0m in \u001b[0;36m<module>\u001b[1;34m\u001b[0m\n\u001b[1;32m----> 1\u001b[1;33m \u001b[0mcorr_matrix\u001b[0m \u001b[1;33m=\u001b[0m \u001b[0mnp\u001b[0m\u001b[1;33m.\u001b[0m\u001b[0mcorrcoef\u001b[0m\u001b[1;33m(\u001b[0m\u001b[0mx\u001b[0m\u001b[1;33m,\u001b[0m\u001b[0my\u001b[0m\u001b[1;33m)\u001b[0m\u001b[1;33m\u001b[0m\u001b[1;33m\u001b[0m\u001b[0m\n\u001b[0m\u001b[0;32m      2\u001b[0m \u001b[0mcorr_matrix\u001b[0m\u001b[1;33m\u001b[0m\u001b[1;33m\u001b[0m\u001b[0m\n",
      "\u001b[1;32m<__array_function__ internals>\u001b[0m in \u001b[0;36mcorrcoef\u001b[1;34m(*args, **kwargs)\u001b[0m\n",
      "\u001b[1;32m~\\anaconda3\\lib\\site-packages\\numpy\\lib\\function_base.py\u001b[0m in \u001b[0;36mcorrcoef\u001b[1;34m(x, y, rowvar, bias, ddof, dtype)\u001b[0m\n\u001b[0;32m   2681\u001b[0m         warnings.warn('bias and ddof have no effect and are deprecated',\n\u001b[0;32m   2682\u001b[0m                       DeprecationWarning, stacklevel=3)\n\u001b[1;32m-> 2683\u001b[1;33m     \u001b[0mc\u001b[0m \u001b[1;33m=\u001b[0m \u001b[0mcov\u001b[0m\u001b[1;33m(\u001b[0m\u001b[0mx\u001b[0m\u001b[1;33m,\u001b[0m \u001b[0my\u001b[0m\u001b[1;33m,\u001b[0m \u001b[0mrowvar\u001b[0m\u001b[1;33m,\u001b[0m \u001b[0mdtype\u001b[0m\u001b[1;33m=\u001b[0m\u001b[0mdtype\u001b[0m\u001b[1;33m)\u001b[0m\u001b[1;33m\u001b[0m\u001b[1;33m\u001b[0m\u001b[0m\n\u001b[0m\u001b[0;32m   2684\u001b[0m     \u001b[1;32mtry\u001b[0m\u001b[1;33m:\u001b[0m\u001b[1;33m\u001b[0m\u001b[1;33m\u001b[0m\u001b[0m\n\u001b[0;32m   2685\u001b[0m         \u001b[0md\u001b[0m \u001b[1;33m=\u001b[0m \u001b[0mdiag\u001b[0m\u001b[1;33m(\u001b[0m\u001b[0mc\u001b[0m\u001b[1;33m)\u001b[0m\u001b[1;33m\u001b[0m\u001b[1;33m\u001b[0m\u001b[0m\n",
      "\u001b[1;32m<__array_function__ internals>\u001b[0m in \u001b[0;36mcov\u001b[1;34m(*args, **kwargs)\u001b[0m\n",
      "\u001b[1;32m~\\anaconda3\\lib\\site-packages\\numpy\\lib\\function_base.py\u001b[0m in \u001b[0;36mcov\u001b[1;34m(m, y, rowvar, bias, ddof, fweights, aweights, dtype)\u001b[0m\n\u001b[0;32m   2475\u001b[0m         \u001b[1;32mif\u001b[0m \u001b[1;32mnot\u001b[0m \u001b[0mrowvar\u001b[0m \u001b[1;32mand\u001b[0m \u001b[0my\u001b[0m\u001b[1;33m.\u001b[0m\u001b[0mshape\u001b[0m\u001b[1;33m[\u001b[0m\u001b[1;36m0\u001b[0m\u001b[1;33m]\u001b[0m \u001b[1;33m!=\u001b[0m \u001b[1;36m1\u001b[0m\u001b[1;33m:\u001b[0m\u001b[1;33m\u001b[0m\u001b[1;33m\u001b[0m\u001b[0m\n\u001b[0;32m   2476\u001b[0m             \u001b[0my\u001b[0m \u001b[1;33m=\u001b[0m \u001b[0my\u001b[0m\u001b[1;33m.\u001b[0m\u001b[0mT\u001b[0m\u001b[1;33m\u001b[0m\u001b[1;33m\u001b[0m\u001b[0m\n\u001b[1;32m-> 2477\u001b[1;33m         \u001b[0mX\u001b[0m \u001b[1;33m=\u001b[0m \u001b[0mnp\u001b[0m\u001b[1;33m.\u001b[0m\u001b[0mconcatenate\u001b[0m\u001b[1;33m(\u001b[0m\u001b[1;33m(\u001b[0m\u001b[0mX\u001b[0m\u001b[1;33m,\u001b[0m \u001b[0my\u001b[0m\u001b[1;33m)\u001b[0m\u001b[1;33m,\u001b[0m \u001b[0maxis\u001b[0m\u001b[1;33m=\u001b[0m\u001b[1;36m0\u001b[0m\u001b[1;33m)\u001b[0m\u001b[1;33m\u001b[0m\u001b[1;33m\u001b[0m\u001b[0m\n\u001b[0m\u001b[0;32m   2478\u001b[0m \u001b[1;33m\u001b[0m\u001b[0m\n\u001b[0;32m   2479\u001b[0m     \u001b[1;32mif\u001b[0m \u001b[0mddof\u001b[0m \u001b[1;32mis\u001b[0m \u001b[1;32mNone\u001b[0m\u001b[1;33m:\u001b[0m\u001b[1;33m\u001b[0m\u001b[1;33m\u001b[0m\u001b[0m\n",
      "\u001b[1;32m<__array_function__ internals>\u001b[0m in \u001b[0;36mconcatenate\u001b[1;34m(*args, **kwargs)\u001b[0m\n",
      "\u001b[1;31mValueError\u001b[0m: all the input array dimensions for the concatenation axis must match exactly, but along dimension 1, the array at index 0 has size 9 and the array at index 1 has size 21"
     ]
    }
   ],
   "source": [
    "corr_matrix = np.corrcoef(x,y)\n",
    "corr_matrix"
   ]
  },
  {
   "cell_type": "markdown",
   "id": "40e8c3cf-990e-4810-a85d-1217b0bc9f38",
   "metadata": {},
   "source": [
    "## pada 2D array"
   ]
  },
  {
   "cell_type": "code",
   "execution_count": 183,
   "id": "08ef7d20-8649-464a-a615-1951b8117ac7",
   "metadata": {},
   "outputs": [],
   "source": [
    "a = np.array([[1,1,1],\n",
    "             [2,3,1],\n",
    "             [4,9,2],\n",
    "             [8,27,4],\n",
    "             [16,1,1]])"
   ]
  },
  {
   "cell_type": "code",
   "execution_count": 184,
   "id": "79cc6696-2ae7-4df3-a41f-17fee0040f3a",
   "metadata": {},
   "outputs": [
    {
     "data": {
      "text/plain": [
       "5.4"
      ]
     },
     "execution_count": 184,
     "metadata": {},
     "output_type": "execute_result"
    }
   ],
   "source": [
    "np.mean(a)"
   ]
  },
  {
   "cell_type": "code",
   "execution_count": 185,
   "id": "dbe41871-3ca2-4d89-988e-a974c771014b",
   "metadata": {},
   "outputs": [
    {
     "data": {
      "text/plain": [
       "2.0"
      ]
     },
     "execution_count": 185,
     "metadata": {},
     "output_type": "execute_result"
    }
   ],
   "source": [
    "np.median(a)"
   ]
  },
  {
   "cell_type": "code",
   "execution_count": 186,
   "id": "b6445bb5-3742-4b64-87f2-7de62f99e8f0",
   "metadata": {},
   "outputs": [
    {
     "data": {
      "text/plain": [
       "array([6.2, 8.2, 1.8])"
      ]
     },
     "execution_count": 186,
     "metadata": {},
     "output_type": "execute_result"
    }
   ],
   "source": [
    "np.mean(a,axis=0)"
   ]
  },
  {
   "cell_type": "code",
   "execution_count": 187,
   "id": "01a50919-666a-4bc5-b006-cbf59bd43598",
   "metadata": {},
   "outputs": [
    {
     "data": {
      "text/plain": [
       "array([ 1.,  2.,  5., 13.,  6.])"
      ]
     },
     "execution_count": 187,
     "metadata": {},
     "output_type": "execute_result"
    }
   ],
   "source": [
    "np.mean(a,axis=1)"
   ]
  },
  {
   "cell_type": "code",
   "execution_count": 188,
   "id": "4713fd9a-4597-4e4a-bcdc-7643cd220214",
   "metadata": {},
   "outputs": [
    {
     "data": {
      "text/plain": [
       "53.40000000000001"
      ]
     },
     "execution_count": 188,
     "metadata": {},
     "output_type": "execute_result"
    }
   ],
   "source": [
    "np.var(a,ddof=1)"
   ]
  },
  {
   "cell_type": "code",
   "execution_count": null,
   "id": "51865376-30ed-4401-aee0-2a749dbf2254",
   "metadata": {},
   "outputs": [],
   "source": [
    "np.var(a,ddof=1"
   ]
  },
  {
   "cell_type": "code",
   "execution_count": null,
   "id": "c924f949-0b2a-4f6b-a494-cc77a08c13c0",
   "metadata": {},
   "outputs": [],
   "source": [
    "# pada dataframe"
   ]
  },
  {
   "cell_type": "code",
   "execution_count": 189,
   "id": "4f446fc3-b27f-4808-8982-e3ba3131cc63",
   "metadata": {},
   "outputs": [
    {
     "data": {
      "text/html": [
       "<div>\n",
       "<style scoped>\n",
       "    .dataframe tbody tr th:only-of-type {\n",
       "        vertical-align: middle;\n",
       "    }\n",
       "\n",
       "    .dataframe tbody tr th {\n",
       "        vertical-align: top;\n",
       "    }\n",
       "\n",
       "    .dataframe thead th {\n",
       "        text-align: right;\n",
       "    }\n",
       "</style>\n",
       "<table border=\"1\" class=\"dataframe\">\n",
       "  <thead>\n",
       "    <tr style=\"text-align: right;\">\n",
       "      <th></th>\n",
       "      <th>A</th>\n",
       "      <th>B</th>\n",
       "      <th>C</th>\n",
       "    </tr>\n",
       "  </thead>\n",
       "  <tbody>\n",
       "    <tr>\n",
       "      <th>first</th>\n",
       "      <td>1</td>\n",
       "      <td>1</td>\n",
       "      <td>1</td>\n",
       "    </tr>\n",
       "    <tr>\n",
       "      <th>second</th>\n",
       "      <td>2</td>\n",
       "      <td>3</td>\n",
       "      <td>1</td>\n",
       "    </tr>\n",
       "    <tr>\n",
       "      <th>third</th>\n",
       "      <td>4</td>\n",
       "      <td>9</td>\n",
       "      <td>2</td>\n",
       "    </tr>\n",
       "    <tr>\n",
       "      <th>fourth</th>\n",
       "      <td>8</td>\n",
       "      <td>27</td>\n",
       "      <td>4</td>\n",
       "    </tr>\n",
       "    <tr>\n",
       "      <th>fifth</th>\n",
       "      <td>16</td>\n",
       "      <td>1</td>\n",
       "      <td>1</td>\n",
       "    </tr>\n",
       "  </tbody>\n",
       "</table>\n",
       "</div>"
      ],
      "text/plain": [
       "         A   B  C\n",
       "first    1   1  1\n",
       "second   2   3  1\n",
       "third    4   9  2\n",
       "fourth   8  27  4\n",
       "fifth   16   1  1"
      ]
     },
     "execution_count": 189,
     "metadata": {},
     "output_type": "execute_result"
    }
   ],
   "source": [
    "row_names = ['first','second','third','fourth','fifth']\n",
    "col_names=['A','B','C']\n",
    "df = pd.DataFrame(a,index=row_names,columns=col_names)\n",
    "df"
   ]
  },
  {
   "cell_type": "code",
   "execution_count": 190,
   "id": "ca816e3c-e6fe-46c5-8cab-8febcd484a76",
   "metadata": {},
   "outputs": [
    {
     "data": {
      "text/plain": [
       "6.2"
      ]
     },
     "execution_count": 190,
     "metadata": {},
     "output_type": "execute_result"
    }
   ],
   "source": [
    "np.mean(df.A)"
   ]
  },
  {
   "cell_type": "code",
   "execution_count": 192,
   "id": "1dedd451-c716-42b5-b90a-e45efff389fb",
   "metadata": {},
   "outputs": [
    {
     "data": {
      "text/plain": [
       "6.2"
      ]
     },
     "execution_count": 192,
     "metadata": {},
     "output_type": "execute_result"
    }
   ],
   "source": [
    "df['A'].mean()"
   ]
  },
  {
   "cell_type": "code",
   "execution_count": 193,
   "id": "1500929f-47e7-4c13-a749-379d5c940c1b",
   "metadata": {},
   "outputs": [
    {
     "data": {
      "text/plain": [
       "A     37.2\n",
       "B    121.2\n",
       "C      1.7\n",
       "dtype: float64"
      ]
     },
     "execution_count": 193,
     "metadata": {},
     "output_type": "execute_result"
    }
   ],
   "source": [
    "np.var(df,ddof=1)"
   ]
  },
  {
   "cell_type": "code",
   "execution_count": 194,
   "id": "048ec41d-01ed-4570-86c8-36caf0520db3",
   "metadata": {},
   "outputs": [
    {
     "data": {
      "text/plain": [
       "A     37.2\n",
       "B    121.2\n",
       "C      1.7\n",
       "dtype: float64"
      ]
     },
     "execution_count": 194,
     "metadata": {},
     "output_type": "execute_result"
    }
   ],
   "source": [
    "df.var()"
   ]
  },
  {
   "cell_type": "code",
   "execution_count": 196,
   "id": "6cc8b908-fc47-42c0-9b94-bd02fcd92b80",
   "metadata": {},
   "outputs": [
    {
     "data": {
      "text/plain": [
       "A    6.2\n",
       "B    8.2\n",
       "C    1.8\n",
       "dtype: float64"
      ]
     },
     "execution_count": 196,
     "metadata": {},
     "output_type": "execute_result"
    }
   ],
   "source": [
    "df.mean(axis=0)"
   ]
  },
  {
   "cell_type": "code",
   "execution_count": 197,
   "id": "91f2553c-f142-4f65-9666-b75904fae8bd",
   "metadata": {},
   "outputs": [
    {
     "data": {
      "text/plain": [
       "first      1.0\n",
       "second     2.0\n",
       "third      5.0\n",
       "fourth    13.0\n",
       "fifth      6.0\n",
       "dtype: float64"
      ]
     },
     "execution_count": 197,
     "metadata": {},
     "output_type": "execute_result"
    }
   ],
   "source": [
    "df.mean(axis=1)"
   ]
  },
  {
   "cell_type": "code",
   "execution_count": null,
   "id": "3f479655-3f4a-4925-8d06-1d27300f8c7c",
   "metadata": {},
   "outputs": [],
   "source": []
  },
  {
   "cell_type": "markdown",
   "id": "c99652b0-ede9-4def-ad75-4cb98fe9f401",
   "metadata": {},
   "source": []
  }
 ],
 "metadata": {
  "kernelspec": {
   "display_name": "Python 3 (ipykernel)",
   "language": "python",
   "name": "python3"
  },
  "language_info": {
   "codemirror_mode": {
    "name": "ipython",
    "version": 3
   },
   "file_extension": ".py",
   "mimetype": "text/x-python",
   "name": "python",
   "nbconvert_exporter": "python",
   "pygments_lexer": "ipython3",
   "version": "3.9.13"
  }
 },
 "nbformat": 4,
 "nbformat_minor": 5
}
