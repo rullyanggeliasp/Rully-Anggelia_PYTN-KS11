{
 "cells": [
  {
   "cell_type": "markdown",
   "id": "fa24a9eb-5ef7-4450-be97-3798f747b070",
   "metadata": {},
   "source": [
    "# Assigment 2"
   ]
  },
  {
   "cell_type": "markdown",
   "id": "1089e2a3-0b6b-4777-a519-8bc59c3059d7",
   "metadata": {},
   "source": [
    "## Mengimport Library, Package"
   ]
  },
  {
   "cell_type": "code",
   "execution_count": 4,
   "id": "0da5769e-4447-45be-8b28-27697a95d337",
   "metadata": {},
   "outputs": [],
   "source": [
    "import numpy as np\n",
    "import pandas as pd\n",
    "import seaborn as sns\n",
    "\n",
    "%matplotlib inline\n",
    "import matplotlib as mpl\n",
    "import matplotlib.pyplot as plt\n",
    "mpl.style.use('ggplot')\n",
    "\n",
    "import math\n",
    "import statistics\n",
    "import scipy.stats"
   ]
  },
  {
   "cell_type": "markdown",
   "id": "b4a723ce-02b5-48e1-8bc2-cf9812a340a4",
   "metadata": {},
   "source": [
    "### Import Dataset"
   ]
  },
  {
   "cell_type": "code",
   "execution_count": 2,
   "id": "eec88cec-927b-4be4-8575-f86b21588b24",
   "metadata": {},
   "outputs": [
    {
     "data": {
      "text/html": [
       "<div>\n",
       "<style scoped>\n",
       "    .dataframe tbody tr th:only-of-type {\n",
       "        vertical-align: middle;\n",
       "    }\n",
       "\n",
       "    .dataframe tbody tr th {\n",
       "        vertical-align: top;\n",
       "    }\n",
       "\n",
       "    .dataframe thead th {\n",
       "        text-align: right;\n",
       "    }\n",
       "</style>\n",
       "<table border=\"1\" class=\"dataframe\">\n",
       "  <thead>\n",
       "    <tr style=\"text-align: right;\">\n",
       "      <th></th>\n",
       "      <th>Unnamed: 0</th>\n",
       "      <th>BOROUGH</th>\n",
       "      <th>NEIGHBORHOOD</th>\n",
       "      <th>BUILDING CLASS CATEGORY</th>\n",
       "      <th>TAX CLASS AT PRESENT</th>\n",
       "      <th>BLOCK</th>\n",
       "      <th>LOT</th>\n",
       "      <th>EASE-MENT</th>\n",
       "      <th>BUILDING CLASS AT PRESENT</th>\n",
       "      <th>ADDRESS</th>\n",
       "      <th>...</th>\n",
       "      <th>RESIDENTIAL UNITS</th>\n",
       "      <th>COMMERCIAL UNITS</th>\n",
       "      <th>TOTAL UNITS</th>\n",
       "      <th>LAND SQUARE FEET</th>\n",
       "      <th>GROSS SQUARE FEET</th>\n",
       "      <th>YEAR BUILT</th>\n",
       "      <th>TAX CLASS AT TIME OF SALE</th>\n",
       "      <th>BUILDING CLASS AT TIME OF SALE</th>\n",
       "      <th>SALE PRICE</th>\n",
       "      <th>SALE DATE</th>\n",
       "    </tr>\n",
       "  </thead>\n",
       "  <tbody>\n",
       "    <tr>\n",
       "      <th>0</th>\n",
       "      <td>4</td>\n",
       "      <td>1</td>\n",
       "      <td>ALPHABET CITY</td>\n",
       "      <td>07 RENTALS - WALKUP APARTMENTS</td>\n",
       "      <td>2A</td>\n",
       "      <td>392</td>\n",
       "      <td>6</td>\n",
       "      <td></td>\n",
       "      <td>C2</td>\n",
       "      <td>153 AVENUE B</td>\n",
       "      <td>...</td>\n",
       "      <td>5</td>\n",
       "      <td>0</td>\n",
       "      <td>5</td>\n",
       "      <td>1633</td>\n",
       "      <td>6440</td>\n",
       "      <td>1900</td>\n",
       "      <td>2</td>\n",
       "      <td>C2</td>\n",
       "      <td>6625000</td>\n",
       "      <td>2017-07-19 00:00:00</td>\n",
       "    </tr>\n",
       "    <tr>\n",
       "      <th>1</th>\n",
       "      <td>5</td>\n",
       "      <td>1</td>\n",
       "      <td>ALPHABET CITY</td>\n",
       "      <td>07 RENTALS - WALKUP APARTMENTS</td>\n",
       "      <td>2</td>\n",
       "      <td>399</td>\n",
       "      <td>26</td>\n",
       "      <td></td>\n",
       "      <td>C7</td>\n",
       "      <td>234 EAST 4TH   STREET</td>\n",
       "      <td>...</td>\n",
       "      <td>28</td>\n",
       "      <td>3</td>\n",
       "      <td>31</td>\n",
       "      <td>4616</td>\n",
       "      <td>18690</td>\n",
       "      <td>1900</td>\n",
       "      <td>2</td>\n",
       "      <td>C7</td>\n",
       "      <td>-</td>\n",
       "      <td>2016-12-14 00:00:00</td>\n",
       "    </tr>\n",
       "    <tr>\n",
       "      <th>2</th>\n",
       "      <td>6</td>\n",
       "      <td>1</td>\n",
       "      <td>ALPHABET CITY</td>\n",
       "      <td>07 RENTALS - WALKUP APARTMENTS</td>\n",
       "      <td>2</td>\n",
       "      <td>399</td>\n",
       "      <td>39</td>\n",
       "      <td></td>\n",
       "      <td>C7</td>\n",
       "      <td>197 EAST 3RD   STREET</td>\n",
       "      <td>...</td>\n",
       "      <td>16</td>\n",
       "      <td>1</td>\n",
       "      <td>17</td>\n",
       "      <td>2212</td>\n",
       "      <td>7803</td>\n",
       "      <td>1900</td>\n",
       "      <td>2</td>\n",
       "      <td>C7</td>\n",
       "      <td>-</td>\n",
       "      <td>2016-12-09 00:00:00</td>\n",
       "    </tr>\n",
       "    <tr>\n",
       "      <th>3</th>\n",
       "      <td>7</td>\n",
       "      <td>1</td>\n",
       "      <td>ALPHABET CITY</td>\n",
       "      <td>07 RENTALS - WALKUP APARTMENTS</td>\n",
       "      <td>2B</td>\n",
       "      <td>402</td>\n",
       "      <td>21</td>\n",
       "      <td></td>\n",
       "      <td>C4</td>\n",
       "      <td>154 EAST 7TH STREET</td>\n",
       "      <td>...</td>\n",
       "      <td>10</td>\n",
       "      <td>0</td>\n",
       "      <td>10</td>\n",
       "      <td>2272</td>\n",
       "      <td>6794</td>\n",
       "      <td>1913</td>\n",
       "      <td>2</td>\n",
       "      <td>C4</td>\n",
       "      <td>3936272</td>\n",
       "      <td>2016-09-23 00:00:00</td>\n",
       "    </tr>\n",
       "    <tr>\n",
       "      <th>4</th>\n",
       "      <td>8</td>\n",
       "      <td>1</td>\n",
       "      <td>ALPHABET CITY</td>\n",
       "      <td>07 RENTALS - WALKUP APARTMENTS</td>\n",
       "      <td>2A</td>\n",
       "      <td>404</td>\n",
       "      <td>55</td>\n",
       "      <td></td>\n",
       "      <td>C2</td>\n",
       "      <td>301 EAST 10TH   STREET</td>\n",
       "      <td>...</td>\n",
       "      <td>6</td>\n",
       "      <td>0</td>\n",
       "      <td>6</td>\n",
       "      <td>2369</td>\n",
       "      <td>4615</td>\n",
       "      <td>1900</td>\n",
       "      <td>2</td>\n",
       "      <td>C2</td>\n",
       "      <td>8000000</td>\n",
       "      <td>2016-11-17 00:00:00</td>\n",
       "    </tr>\n",
       "    <tr>\n",
       "      <th>...</th>\n",
       "      <td>...</td>\n",
       "      <td>...</td>\n",
       "      <td>...</td>\n",
       "      <td>...</td>\n",
       "      <td>...</td>\n",
       "      <td>...</td>\n",
       "      <td>...</td>\n",
       "      <td>...</td>\n",
       "      <td>...</td>\n",
       "      <td>...</td>\n",
       "      <td>...</td>\n",
       "      <td>...</td>\n",
       "      <td>...</td>\n",
       "      <td>...</td>\n",
       "      <td>...</td>\n",
       "      <td>...</td>\n",
       "      <td>...</td>\n",
       "      <td>...</td>\n",
       "      <td>...</td>\n",
       "      <td>...</td>\n",
       "      <td>...</td>\n",
       "    </tr>\n",
       "    <tr>\n",
       "      <th>84543</th>\n",
       "      <td>8409</td>\n",
       "      <td>5</td>\n",
       "      <td>WOODROW</td>\n",
       "      <td>02 TWO FAMILY DWELLINGS</td>\n",
       "      <td>1</td>\n",
       "      <td>7349</td>\n",
       "      <td>34</td>\n",
       "      <td></td>\n",
       "      <td>B9</td>\n",
       "      <td>37 QUAIL LANE</td>\n",
       "      <td>...</td>\n",
       "      <td>2</td>\n",
       "      <td>0</td>\n",
       "      <td>2</td>\n",
       "      <td>2400</td>\n",
       "      <td>2575</td>\n",
       "      <td>1998</td>\n",
       "      <td>1</td>\n",
       "      <td>B9</td>\n",
       "      <td>450000</td>\n",
       "      <td>2016-11-28 00:00:00</td>\n",
       "    </tr>\n",
       "    <tr>\n",
       "      <th>84544</th>\n",
       "      <td>8410</td>\n",
       "      <td>5</td>\n",
       "      <td>WOODROW</td>\n",
       "      <td>02 TWO FAMILY DWELLINGS</td>\n",
       "      <td>1</td>\n",
       "      <td>7349</td>\n",
       "      <td>78</td>\n",
       "      <td></td>\n",
       "      <td>B9</td>\n",
       "      <td>32 PHEASANT LANE</td>\n",
       "      <td>...</td>\n",
       "      <td>2</td>\n",
       "      <td>0</td>\n",
       "      <td>2</td>\n",
       "      <td>2498</td>\n",
       "      <td>2377</td>\n",
       "      <td>1998</td>\n",
       "      <td>1</td>\n",
       "      <td>B9</td>\n",
       "      <td>550000</td>\n",
       "      <td>2017-04-21 00:00:00</td>\n",
       "    </tr>\n",
       "    <tr>\n",
       "      <th>84545</th>\n",
       "      <td>8411</td>\n",
       "      <td>5</td>\n",
       "      <td>WOODROW</td>\n",
       "      <td>02 TWO FAMILY DWELLINGS</td>\n",
       "      <td>1</td>\n",
       "      <td>7351</td>\n",
       "      <td>60</td>\n",
       "      <td></td>\n",
       "      <td>B2</td>\n",
       "      <td>49 PITNEY AVENUE</td>\n",
       "      <td>...</td>\n",
       "      <td>2</td>\n",
       "      <td>0</td>\n",
       "      <td>2</td>\n",
       "      <td>4000</td>\n",
       "      <td>1496</td>\n",
       "      <td>1925</td>\n",
       "      <td>1</td>\n",
       "      <td>B2</td>\n",
       "      <td>460000</td>\n",
       "      <td>2017-07-05 00:00:00</td>\n",
       "    </tr>\n",
       "    <tr>\n",
       "      <th>84546</th>\n",
       "      <td>8412</td>\n",
       "      <td>5</td>\n",
       "      <td>WOODROW</td>\n",
       "      <td>22 STORE BUILDINGS</td>\n",
       "      <td>4</td>\n",
       "      <td>7100</td>\n",
       "      <td>28</td>\n",
       "      <td></td>\n",
       "      <td>K6</td>\n",
       "      <td>2730 ARTHUR KILL ROAD</td>\n",
       "      <td>...</td>\n",
       "      <td>0</td>\n",
       "      <td>7</td>\n",
       "      <td>7</td>\n",
       "      <td>208033</td>\n",
       "      <td>64117</td>\n",
       "      <td>2001</td>\n",
       "      <td>4</td>\n",
       "      <td>K6</td>\n",
       "      <td>11693337</td>\n",
       "      <td>2016-12-21 00:00:00</td>\n",
       "    </tr>\n",
       "    <tr>\n",
       "      <th>84547</th>\n",
       "      <td>8413</td>\n",
       "      <td>5</td>\n",
       "      <td>WOODROW</td>\n",
       "      <td>35 INDOOR PUBLIC AND CULTURAL FACILITIES</td>\n",
       "      <td>4</td>\n",
       "      <td>7105</td>\n",
       "      <td>679</td>\n",
       "      <td></td>\n",
       "      <td>P9</td>\n",
       "      <td>155 CLAY PIT ROAD</td>\n",
       "      <td>...</td>\n",
       "      <td>0</td>\n",
       "      <td>1</td>\n",
       "      <td>1</td>\n",
       "      <td>10796</td>\n",
       "      <td>2400</td>\n",
       "      <td>2006</td>\n",
       "      <td>4</td>\n",
       "      <td>P9</td>\n",
       "      <td>69300</td>\n",
       "      <td>2016-10-27 00:00:00</td>\n",
       "    </tr>\n",
       "  </tbody>\n",
       "</table>\n",
       "<p>84548 rows × 22 columns</p>\n",
       "</div>"
      ],
      "text/plain": [
       "       Unnamed: 0  BOROUGH   NEIGHBORHOOD  \\\n",
       "0               4        1  ALPHABET CITY   \n",
       "1               5        1  ALPHABET CITY   \n",
       "2               6        1  ALPHABET CITY   \n",
       "3               7        1  ALPHABET CITY   \n",
       "4               8        1  ALPHABET CITY   \n",
       "...           ...      ...            ...   \n",
       "84543        8409        5        WOODROW   \n",
       "84544        8410        5        WOODROW   \n",
       "84545        8411        5        WOODROW   \n",
       "84546        8412        5        WOODROW   \n",
       "84547        8413        5        WOODROW   \n",
       "\n",
       "                           BUILDING CLASS CATEGORY TAX CLASS AT PRESENT  \\\n",
       "0      07 RENTALS - WALKUP APARTMENTS                                2A   \n",
       "1      07 RENTALS - WALKUP APARTMENTS                                 2   \n",
       "2      07 RENTALS - WALKUP APARTMENTS                                 2   \n",
       "3      07 RENTALS - WALKUP APARTMENTS                                2B   \n",
       "4      07 RENTALS - WALKUP APARTMENTS                                2A   \n",
       "...                                            ...                  ...   \n",
       "84543  02 TWO FAMILY DWELLINGS                                        1   \n",
       "84544  02 TWO FAMILY DWELLINGS                                        1   \n",
       "84545  02 TWO FAMILY DWELLINGS                                        1   \n",
       "84546  22 STORE BUILDINGS                                             4   \n",
       "84547  35 INDOOR PUBLIC AND CULTURAL FACILITIES                       4   \n",
       "\n",
       "       BLOCK  LOT EASE-MENT BUILDING CLASS AT PRESENT                 ADDRESS  \\\n",
       "0        392    6                                  C2            153 AVENUE B   \n",
       "1        399   26                                  C7   234 EAST 4TH   STREET   \n",
       "2        399   39                                  C7   197 EAST 3RD   STREET   \n",
       "3        402   21                                  C4     154 EAST 7TH STREET   \n",
       "4        404   55                                  C2  301 EAST 10TH   STREET   \n",
       "...      ...  ...       ...                       ...                     ...   \n",
       "84543   7349   34                                  B9           37 QUAIL LANE   \n",
       "84544   7349   78                                  B9        32 PHEASANT LANE   \n",
       "84545   7351   60                                  B2        49 PITNEY AVENUE   \n",
       "84546   7100   28                                  K6   2730 ARTHUR KILL ROAD   \n",
       "84547   7105  679                                  P9       155 CLAY PIT ROAD   \n",
       "\n",
       "       ... RESIDENTIAL UNITS  COMMERCIAL UNITS  TOTAL UNITS  LAND SQUARE FEET  \\\n",
       "0      ...                 5                 0            5              1633   \n",
       "1      ...                28                 3           31              4616   \n",
       "2      ...                16                 1           17              2212   \n",
       "3      ...                10                 0           10              2272   \n",
       "4      ...                 6                 0            6              2369   \n",
       "...    ...               ...               ...          ...               ...   \n",
       "84543  ...                 2                 0            2              2400   \n",
       "84544  ...                 2                 0            2              2498   \n",
       "84545  ...                 2                 0            2              4000   \n",
       "84546  ...                 0                 7            7            208033   \n",
       "84547  ...                 0                 1            1             10796   \n",
       "\n",
       "       GROSS SQUARE FEET YEAR BUILT TAX CLASS AT TIME OF SALE  \\\n",
       "0                   6440       1900                         2   \n",
       "1                  18690       1900                         2   \n",
       "2                   7803       1900                         2   \n",
       "3                   6794       1913                         2   \n",
       "4                   4615       1900                         2   \n",
       "...                  ...        ...                       ...   \n",
       "84543               2575       1998                         1   \n",
       "84544               2377       1998                         1   \n",
       "84545               1496       1925                         1   \n",
       "84546              64117       2001                         4   \n",
       "84547               2400       2006                         4   \n",
       "\n",
       "       BUILDING CLASS AT TIME OF SALE  SALE PRICE            SALE DATE  \n",
       "0                                  C2     6625000  2017-07-19 00:00:00  \n",
       "1                                  C7         -    2016-12-14 00:00:00  \n",
       "2                                  C7         -    2016-12-09 00:00:00  \n",
       "3                                  C4     3936272  2016-09-23 00:00:00  \n",
       "4                                  C2     8000000  2016-11-17 00:00:00  \n",
       "...                               ...         ...                  ...  \n",
       "84543                              B9      450000  2016-11-28 00:00:00  \n",
       "84544                              B9      550000  2017-04-21 00:00:00  \n",
       "84545                              B2      460000  2017-07-05 00:00:00  \n",
       "84546                              K6    11693337  2016-12-21 00:00:00  \n",
       "84547                              P9       69300  2016-10-27 00:00:00  \n",
       "\n",
       "[84548 rows x 22 columns]"
      ]
     },
     "execution_count": 2,
     "metadata": {},
     "output_type": "execute_result"
    }
   ],
   "source": [
    "df = pd.read_csv(\"nyc-rolling-sales.csv\")\n",
    "df"
   ]
  },
  {
   "cell_type": "code",
   "execution_count": 5,
   "id": "c5ba9c1c-2510-4577-b171-00b3bff9903b",
   "metadata": {},
   "outputs": [
    {
     "data": {
      "text/html": [
       "<div>\n",
       "<style scoped>\n",
       "    .dataframe tbody tr th:only-of-type {\n",
       "        vertical-align: middle;\n",
       "    }\n",
       "\n",
       "    .dataframe tbody tr th {\n",
       "        vertical-align: top;\n",
       "    }\n",
       "\n",
       "    .dataframe thead th {\n",
       "        text-align: right;\n",
       "    }\n",
       "</style>\n",
       "<table border=\"1\" class=\"dataframe\">\n",
       "  <thead>\n",
       "    <tr style=\"text-align: right;\">\n",
       "      <th></th>\n",
       "      <th>Unnamed: 0</th>\n",
       "      <th>BOROUGH</th>\n",
       "      <th>NEIGHBORHOOD</th>\n",
       "      <th>BUILDING CLASS CATEGORY</th>\n",
       "      <th>TAX CLASS AT PRESENT</th>\n",
       "      <th>BLOCK</th>\n",
       "      <th>LOT</th>\n",
       "      <th>EASE-MENT</th>\n",
       "      <th>BUILDING CLASS AT PRESENT</th>\n",
       "      <th>ADDRESS</th>\n",
       "      <th>...</th>\n",
       "      <th>RESIDENTIAL UNITS</th>\n",
       "      <th>COMMERCIAL UNITS</th>\n",
       "      <th>TOTAL UNITS</th>\n",
       "      <th>LAND SQUARE FEET</th>\n",
       "      <th>GROSS SQUARE FEET</th>\n",
       "      <th>YEAR BUILT</th>\n",
       "      <th>TAX CLASS AT TIME OF SALE</th>\n",
       "      <th>BUILDING CLASS AT TIME OF SALE</th>\n",
       "      <th>SALE PRICE</th>\n",
       "      <th>SALE DATE</th>\n",
       "    </tr>\n",
       "  </thead>\n",
       "  <tbody>\n",
       "    <tr>\n",
       "      <th>0</th>\n",
       "      <td>4</td>\n",
       "      <td>1</td>\n",
       "      <td>ALPHABET CITY</td>\n",
       "      <td>07 RENTALS - WALKUP APARTMENTS</td>\n",
       "      <td>2A</td>\n",
       "      <td>392</td>\n",
       "      <td>6</td>\n",
       "      <td></td>\n",
       "      <td>C2</td>\n",
       "      <td>153 AVENUE B</td>\n",
       "      <td>...</td>\n",
       "      <td>5</td>\n",
       "      <td>0</td>\n",
       "      <td>5</td>\n",
       "      <td>1633</td>\n",
       "      <td>6440</td>\n",
       "      <td>1900</td>\n",
       "      <td>2</td>\n",
       "      <td>C2</td>\n",
       "      <td>6625000</td>\n",
       "      <td>2017-07-19 00:00:00</td>\n",
       "    </tr>\n",
       "    <tr>\n",
       "      <th>1</th>\n",
       "      <td>5</td>\n",
       "      <td>1</td>\n",
       "      <td>ALPHABET CITY</td>\n",
       "      <td>07 RENTALS - WALKUP APARTMENTS</td>\n",
       "      <td>2</td>\n",
       "      <td>399</td>\n",
       "      <td>26</td>\n",
       "      <td></td>\n",
       "      <td>C7</td>\n",
       "      <td>234 EAST 4TH   STREET</td>\n",
       "      <td>...</td>\n",
       "      <td>28</td>\n",
       "      <td>3</td>\n",
       "      <td>31</td>\n",
       "      <td>4616</td>\n",
       "      <td>18690</td>\n",
       "      <td>1900</td>\n",
       "      <td>2</td>\n",
       "      <td>C7</td>\n",
       "      <td>-</td>\n",
       "      <td>2016-12-14 00:00:00</td>\n",
       "    </tr>\n",
       "    <tr>\n",
       "      <th>2</th>\n",
       "      <td>6</td>\n",
       "      <td>1</td>\n",
       "      <td>ALPHABET CITY</td>\n",
       "      <td>07 RENTALS - WALKUP APARTMENTS</td>\n",
       "      <td>2</td>\n",
       "      <td>399</td>\n",
       "      <td>39</td>\n",
       "      <td></td>\n",
       "      <td>C7</td>\n",
       "      <td>197 EAST 3RD   STREET</td>\n",
       "      <td>...</td>\n",
       "      <td>16</td>\n",
       "      <td>1</td>\n",
       "      <td>17</td>\n",
       "      <td>2212</td>\n",
       "      <td>7803</td>\n",
       "      <td>1900</td>\n",
       "      <td>2</td>\n",
       "      <td>C7</td>\n",
       "      <td>-</td>\n",
       "      <td>2016-12-09 00:00:00</td>\n",
       "    </tr>\n",
       "    <tr>\n",
       "      <th>3</th>\n",
       "      <td>7</td>\n",
       "      <td>1</td>\n",
       "      <td>ALPHABET CITY</td>\n",
       "      <td>07 RENTALS - WALKUP APARTMENTS</td>\n",
       "      <td>2B</td>\n",
       "      <td>402</td>\n",
       "      <td>21</td>\n",
       "      <td></td>\n",
       "      <td>C4</td>\n",
       "      <td>154 EAST 7TH STREET</td>\n",
       "      <td>...</td>\n",
       "      <td>10</td>\n",
       "      <td>0</td>\n",
       "      <td>10</td>\n",
       "      <td>2272</td>\n",
       "      <td>6794</td>\n",
       "      <td>1913</td>\n",
       "      <td>2</td>\n",
       "      <td>C4</td>\n",
       "      <td>3936272</td>\n",
       "      <td>2016-09-23 00:00:00</td>\n",
       "    </tr>\n",
       "    <tr>\n",
       "      <th>4</th>\n",
       "      <td>8</td>\n",
       "      <td>1</td>\n",
       "      <td>ALPHABET CITY</td>\n",
       "      <td>07 RENTALS - WALKUP APARTMENTS</td>\n",
       "      <td>2A</td>\n",
       "      <td>404</td>\n",
       "      <td>55</td>\n",
       "      <td></td>\n",
       "      <td>C2</td>\n",
       "      <td>301 EAST 10TH   STREET</td>\n",
       "      <td>...</td>\n",
       "      <td>6</td>\n",
       "      <td>0</td>\n",
       "      <td>6</td>\n",
       "      <td>2369</td>\n",
       "      <td>4615</td>\n",
       "      <td>1900</td>\n",
       "      <td>2</td>\n",
       "      <td>C2</td>\n",
       "      <td>8000000</td>\n",
       "      <td>2016-11-17 00:00:00</td>\n",
       "    </tr>\n",
       "  </tbody>\n",
       "</table>\n",
       "<p>5 rows × 22 columns</p>\n",
       "</div>"
      ],
      "text/plain": [
       "   Unnamed: 0  BOROUGH   NEIGHBORHOOD  \\\n",
       "0           4        1  ALPHABET CITY   \n",
       "1           5        1  ALPHABET CITY   \n",
       "2           6        1  ALPHABET CITY   \n",
       "3           7        1  ALPHABET CITY   \n",
       "4           8        1  ALPHABET CITY   \n",
       "\n",
       "                       BUILDING CLASS CATEGORY TAX CLASS AT PRESENT  BLOCK  \\\n",
       "0  07 RENTALS - WALKUP APARTMENTS                                2A    392   \n",
       "1  07 RENTALS - WALKUP APARTMENTS                                 2    399   \n",
       "2  07 RENTALS - WALKUP APARTMENTS                                 2    399   \n",
       "3  07 RENTALS - WALKUP APARTMENTS                                2B    402   \n",
       "4  07 RENTALS - WALKUP APARTMENTS                                2A    404   \n",
       "\n",
       "   LOT EASE-MENT BUILDING CLASS AT PRESENT                 ADDRESS  ...  \\\n",
       "0    6                                  C2            153 AVENUE B  ...   \n",
       "1   26                                  C7   234 EAST 4TH   STREET  ...   \n",
       "2   39                                  C7   197 EAST 3RD   STREET  ...   \n",
       "3   21                                  C4     154 EAST 7TH STREET  ...   \n",
       "4   55                                  C2  301 EAST 10TH   STREET  ...   \n",
       "\n",
       "  RESIDENTIAL UNITS  COMMERCIAL UNITS  TOTAL UNITS  LAND SQUARE FEET  \\\n",
       "0                 5                 0            5              1633   \n",
       "1                28                 3           31              4616   \n",
       "2                16                 1           17              2212   \n",
       "3                10                 0           10              2272   \n",
       "4                 6                 0            6              2369   \n",
       "\n",
       "   GROSS SQUARE FEET YEAR BUILT TAX CLASS AT TIME OF SALE  \\\n",
       "0               6440       1900                         2   \n",
       "1              18690       1900                         2   \n",
       "2               7803       1900                         2   \n",
       "3               6794       1913                         2   \n",
       "4               4615       1900                         2   \n",
       "\n",
       "   BUILDING CLASS AT TIME OF SALE  SALE PRICE            SALE DATE  \n",
       "0                              C2     6625000  2017-07-19 00:00:00  \n",
       "1                              C7         -    2016-12-14 00:00:00  \n",
       "2                              C7         -    2016-12-09 00:00:00  \n",
       "3                              C4     3936272  2016-09-23 00:00:00  \n",
       "4                              C2     8000000  2016-11-17 00:00:00  \n",
       "\n",
       "[5 rows x 22 columns]"
      ]
     },
     "execution_count": 5,
     "metadata": {},
     "output_type": "execute_result"
    }
   ],
   "source": [
    "df.head()"
   ]
  },
  {
   "cell_type": "code",
   "execution_count": 6,
   "id": "d9eb3d34-af6a-4571-b809-ddbdeecb208f",
   "metadata": {},
   "outputs": [
    {
     "data": {
      "text/plain": [
       "(84548, 22)"
      ]
     },
     "execution_count": 6,
     "metadata": {},
     "output_type": "execute_result"
    }
   ],
   "source": [
    "df.shape"
   ]
  },
  {
   "cell_type": "markdown",
   "id": "f554fb80-6144-4054-a723-d577ae69dd41",
   "metadata": {},
   "source": [
    "- Dataset tersebut terdiri dari 84548 baris dan 22 kolom"
   ]
  },
  {
   "cell_type": "code",
   "execution_count": 7,
   "id": "aa0a8535-3141-41d6-8ca7-f071ccbad69b",
   "metadata": {},
   "outputs": [
    {
     "name": "stdout",
     "output_type": "stream",
     "text": [
      "<class 'pandas.core.frame.DataFrame'>\n",
      "RangeIndex: 84548 entries, 0 to 84547\n",
      "Data columns (total 22 columns):\n",
      " #   Column                          Non-Null Count  Dtype \n",
      "---  ------                          --------------  ----- \n",
      " 0   Unnamed: 0                      84548 non-null  int64 \n",
      " 1   BOROUGH                         84548 non-null  int64 \n",
      " 2   NEIGHBORHOOD                    84548 non-null  object\n",
      " 3   BUILDING CLASS CATEGORY         84548 non-null  object\n",
      " 4   TAX CLASS AT PRESENT            84548 non-null  object\n",
      " 5   BLOCK                           84548 non-null  int64 \n",
      " 6   LOT                             84548 non-null  int64 \n",
      " 7   EASE-MENT                       84548 non-null  object\n",
      " 8   BUILDING CLASS AT PRESENT       84548 non-null  object\n",
      " 9   ADDRESS                         84548 non-null  object\n",
      " 10  APARTMENT NUMBER                84548 non-null  object\n",
      " 11  ZIP CODE                        84548 non-null  int64 \n",
      " 12  RESIDENTIAL UNITS               84548 non-null  int64 \n",
      " 13  COMMERCIAL UNITS                84548 non-null  int64 \n",
      " 14  TOTAL UNITS                     84548 non-null  int64 \n",
      " 15  LAND SQUARE FEET                84548 non-null  object\n",
      " 16  GROSS SQUARE FEET               84548 non-null  object\n",
      " 17  YEAR BUILT                      84548 non-null  int64 \n",
      " 18  TAX CLASS AT TIME OF SALE       84548 non-null  int64 \n",
      " 19  BUILDING CLASS AT TIME OF SALE  84548 non-null  object\n",
      " 20  SALE PRICE                      84548 non-null  object\n",
      " 21  SALE DATE                       84548 non-null  object\n",
      "dtypes: int64(10), object(12)\n",
      "memory usage: 14.2+ MB\n"
     ]
    }
   ],
   "source": [
    "#Melihat tipe objek masing-masing kolom\n",
    "df.info()"
   ]
  },
  {
   "cell_type": "code",
   "execution_count": 8,
   "id": "74884ec2-49d7-4428-b6fd-54f2113157b5",
   "metadata": {},
   "outputs": [],
   "source": [
    "df.drop([\"Unnamed: 0\"], axis=1, inplace=True)"
   ]
  },
  {
   "cell_type": "code",
   "execution_count": 9,
   "id": "083a1076-d46d-4742-8521-bbe983c581ec",
   "metadata": {},
   "outputs": [],
   "source": [
    "df['SALE DATE']= pd.to_datetime(df['SALE DATE'], errors='coerce')"
   ]
  },
  {
   "cell_type": "code",
   "execution_count": 10,
   "id": "f9ad4972-9d43-45cd-a61e-e81b69d6cc9c",
   "metadata": {},
   "outputs": [],
   "source": [
    "#Ubah Type data menjadi numeric\n",
    "numeric = [\"RESIDENTIAL UNITS\",\"COMMERCIAL UNITS\",\"TOTAL UNITS\", \"LAND SQUARE FEET\" , \"GROSS SQUARE FEET\",\"SALE PRICE\" ]\n",
    "\n",
    "for col in numeric: \n",
    "    df[col] = pd.to_numeric(df[col], errors='coerce')"
   ]
  },
  {
   "cell_type": "code",
   "execution_count": 11,
   "id": "65909dd9-73bc-48e1-ba4b-b4dbe6f4ed70",
   "metadata": {},
   "outputs": [],
   "source": [
    "#Ubah type data menjadi categorical\n",
    "categorical = [\"BOROUGH\",\"NEIGHBORHOOD\",'BUILDING CLASS CATEGORY', 'TAX CLASS AT PRESENT', 'BUILDING CLASS AT PRESENT','ZIP CODE', 'YEAR BUILT', 'BUILDING CLASS AT TIME OF SALE', 'TAX CLASS AT TIME OF SALE']\n",
    "\n",
    "for col in categorical: \n",
    "    df[col] = df[col].astype(\"category\")"
   ]
  },
  {
   "cell_type": "code",
   "execution_count": 13,
   "id": "57d1effc-5273-4b50-9129-c6c7b09512a6",
   "metadata": {},
   "outputs": [
    {
     "name": "stdout",
     "output_type": "stream",
     "text": [
      "<class 'pandas.core.frame.DataFrame'>\n",
      "RangeIndex: 84548 entries, 0 to 84547\n",
      "Data columns (total 21 columns):\n",
      " #   Column                          Non-Null Count  Dtype         \n",
      "---  ------                          --------------  -----         \n",
      " 0   BOROUGH                         84548 non-null  category      \n",
      " 1   NEIGHBORHOOD                    84548 non-null  category      \n",
      " 2   BUILDING CLASS CATEGORY         84548 non-null  category      \n",
      " 3   TAX CLASS AT PRESENT            84548 non-null  category      \n",
      " 4   BLOCK                           84548 non-null  int64         \n",
      " 5   LOT                             84548 non-null  int64         \n",
      " 6   EASE-MENT                       84548 non-null  object        \n",
      " 7   BUILDING CLASS AT PRESENT       84548 non-null  category      \n",
      " 8   ADDRESS                         84548 non-null  object        \n",
      " 9   APARTMENT NUMBER                84548 non-null  object        \n",
      " 10  ZIP CODE                        84548 non-null  category      \n",
      " 11  RESIDENTIAL UNITS               84548 non-null  int64         \n",
      " 12  COMMERCIAL UNITS                84548 non-null  int64         \n",
      " 13  TOTAL UNITS                     84548 non-null  int64         \n",
      " 14  LAND SQUARE FEET                58296 non-null  float64       \n",
      " 15  GROSS SQUARE FEET               56936 non-null  float64       \n",
      " 16  YEAR BUILT                      84548 non-null  category      \n",
      " 17  TAX CLASS AT TIME OF SALE       84548 non-null  category      \n",
      " 18  BUILDING CLASS AT TIME OF SALE  84548 non-null  category      \n",
      " 19  SALE PRICE                      69987 non-null  float64       \n",
      " 20  SALE DATE                       84548 non-null  datetime64[ns]\n",
      "dtypes: category(9), datetime64[ns](1), float64(3), int64(5), object(3)\n",
      "memory usage: 8.9+ MB\n"
     ]
    }
   ],
   "source": [
    "#lihat Kembali Type Data\n",
    "df.info()"
   ]
  },
  {
   "cell_type": "code",
   "execution_count": 14,
   "id": "78d3ebe3-c075-4024-8cee-a7345483137c",
   "metadata": {},
   "outputs": [
    {
     "data": {
      "text/plain": [
       "BOROUGH                               5\n",
       "NEIGHBORHOOD                        254\n",
       "BUILDING CLASS CATEGORY              47\n",
       "TAX CLASS AT PRESENT                 11\n",
       "BLOCK                             11566\n",
       "LOT                                2627\n",
       "EASE-MENT                             1\n",
       "BUILDING CLASS AT PRESENT           167\n",
       "ADDRESS                           67563\n",
       "APARTMENT NUMBER                   3989\n",
       "ZIP CODE                            186\n",
       "RESIDENTIAL UNITS                   176\n",
       "COMMERCIAL UNITS                     55\n",
       "TOTAL UNITS                         192\n",
       "LAND SQUARE FEET                   6061\n",
       "GROSS SQUARE FEET                  5690\n",
       "YEAR BUILT                          158\n",
       "TAX CLASS AT TIME OF SALE             4\n",
       "BUILDING CLASS AT TIME OF SALE      166\n",
       "SALE PRICE                        10007\n",
       "SALE DATE                           364\n",
       "dtype: int64"
      ]
     },
     "execution_count": 14,
     "metadata": {},
     "output_type": "execute_result"
    }
   ],
   "source": [
    "counts = df.nunique()\n",
    "counts"
   ]
  },
  {
   "cell_type": "markdown",
   "id": "85710699-e24a-44b6-bcf6-2cc8688173be",
   "metadata": {},
   "source": [
    "- Terdapat kolom dengan nilai tunggal yaitu kolom EASE-MENT"
   ]
  },
  {
   "cell_type": "code",
   "execution_count": 15,
   "id": "ecd08721-7224-4dac-8e47-d14eb1768316",
   "metadata": {},
   "outputs": [],
   "source": [
    "#Drop kolom EASE-MENT\n",
    "df.drop([\"EASE-MENT\"], axis=1, inplace=True)"
   ]
  },
  {
   "cell_type": "markdown",
   "id": "88a4a4d9-ba23-4f7b-b656-3c6cfeb93f8c",
   "metadata": {},
   "source": [
    "### mengidentifikasi duplikasi data"
   ]
  },
  {
   "cell_type": "code",
   "execution_count": 16,
   "id": "568dae78-f6e0-42de-8049-0847dd865f0f",
   "metadata": {},
   "outputs": [
    {
     "name": "stdout",
     "output_type": "stream",
     "text": [
      "True\n"
     ]
    }
   ],
   "source": [
    "dups = df.duplicated()\n",
    "print(dups.any())"
   ]
  },
  {
   "cell_type": "markdown",
   "id": "61efd323-b175-433d-bf34-b2c21618647f",
   "metadata": {},
   "source": [
    "- Setelah di cek mengenai duplikasi data, hasilnya \"True\" yang artinya terdapat duplikasi data pada dataset."
   ]
  },
  {
   "cell_type": "code",
   "execution_count": 17,
   "id": "50b5dc1f-9564-48b1-b971-569bf995bf65",
   "metadata": {},
   "outputs": [
    {
     "data": {
      "text/plain": [
       "765"
      ]
     },
     "execution_count": 17,
     "metadata": {},
     "output_type": "execute_result"
    }
   ],
   "source": [
    "df.duplicated().sum()"
   ]
  },
  {
   "cell_type": "markdown",
   "id": "fb754146-3f99-4178-9c47-b1e7d478bfae",
   "metadata": {},
   "source": [
    "- Data terduplikasi sebanyak 765 data"
   ]
  },
  {
   "cell_type": "code",
   "execution_count": 18,
   "id": "4300fc03-d17f-4e9c-82df-d7391f547817",
   "metadata": {},
   "outputs": [
    {
     "data": {
      "text/html": [
       "<div>\n",
       "<style scoped>\n",
       "    .dataframe tbody tr th:only-of-type {\n",
       "        vertical-align: middle;\n",
       "    }\n",
       "\n",
       "    .dataframe tbody tr th {\n",
       "        vertical-align: top;\n",
       "    }\n",
       "\n",
       "    .dataframe thead th {\n",
       "        text-align: right;\n",
       "    }\n",
       "</style>\n",
       "<table border=\"1\" class=\"dataframe\">\n",
       "  <thead>\n",
       "    <tr style=\"text-align: right;\">\n",
       "      <th></th>\n",
       "      <th>BOROUGH</th>\n",
       "      <th>NEIGHBORHOOD</th>\n",
       "      <th>BUILDING CLASS CATEGORY</th>\n",
       "      <th>TAX CLASS AT PRESENT</th>\n",
       "      <th>BLOCK</th>\n",
       "      <th>LOT</th>\n",
       "      <th>BUILDING CLASS AT PRESENT</th>\n",
       "      <th>ADDRESS</th>\n",
       "      <th>APARTMENT NUMBER</th>\n",
       "      <th>ZIP CODE</th>\n",
       "      <th>RESIDENTIAL UNITS</th>\n",
       "      <th>COMMERCIAL UNITS</th>\n",
       "      <th>TOTAL UNITS</th>\n",
       "      <th>LAND SQUARE FEET</th>\n",
       "      <th>GROSS SQUARE FEET</th>\n",
       "      <th>YEAR BUILT</th>\n",
       "      <th>TAX CLASS AT TIME OF SALE</th>\n",
       "      <th>BUILDING CLASS AT TIME OF SALE</th>\n",
       "      <th>SALE PRICE</th>\n",
       "      <th>SALE DATE</th>\n",
       "    </tr>\n",
       "  </thead>\n",
       "  <tbody>\n",
       "    <tr>\n",
       "      <th>0</th>\n",
       "      <td>1</td>\n",
       "      <td>ALPHABET CITY</td>\n",
       "      <td>07 RENTALS - WALKUP APARTMENTS</td>\n",
       "      <td>2A</td>\n",
       "      <td>392</td>\n",
       "      <td>6</td>\n",
       "      <td>C2</td>\n",
       "      <td>153 AVENUE B</td>\n",
       "      <td></td>\n",
       "      <td>10009</td>\n",
       "      <td>5</td>\n",
       "      <td>0</td>\n",
       "      <td>5</td>\n",
       "      <td>1633.0</td>\n",
       "      <td>6440.0</td>\n",
       "      <td>1900</td>\n",
       "      <td>2</td>\n",
       "      <td>C2</td>\n",
       "      <td>6625000.0</td>\n",
       "      <td>2017-07-19</td>\n",
       "    </tr>\n",
       "    <tr>\n",
       "      <th>1</th>\n",
       "      <td>1</td>\n",
       "      <td>ALPHABET CITY</td>\n",
       "      <td>07 RENTALS - WALKUP APARTMENTS</td>\n",
       "      <td>2</td>\n",
       "      <td>399</td>\n",
       "      <td>26</td>\n",
       "      <td>C7</td>\n",
       "      <td>234 EAST 4TH   STREET</td>\n",
       "      <td></td>\n",
       "      <td>10009</td>\n",
       "      <td>28</td>\n",
       "      <td>3</td>\n",
       "      <td>31</td>\n",
       "      <td>4616.0</td>\n",
       "      <td>18690.0</td>\n",
       "      <td>1900</td>\n",
       "      <td>2</td>\n",
       "      <td>C7</td>\n",
       "      <td>NaN</td>\n",
       "      <td>2016-12-14</td>\n",
       "    </tr>\n",
       "    <tr>\n",
       "      <th>2</th>\n",
       "      <td>1</td>\n",
       "      <td>ALPHABET CITY</td>\n",
       "      <td>07 RENTALS - WALKUP APARTMENTS</td>\n",
       "      <td>2</td>\n",
       "      <td>399</td>\n",
       "      <td>39</td>\n",
       "      <td>C7</td>\n",
       "      <td>197 EAST 3RD   STREET</td>\n",
       "      <td></td>\n",
       "      <td>10009</td>\n",
       "      <td>16</td>\n",
       "      <td>1</td>\n",
       "      <td>17</td>\n",
       "      <td>2212.0</td>\n",
       "      <td>7803.0</td>\n",
       "      <td>1900</td>\n",
       "      <td>2</td>\n",
       "      <td>C7</td>\n",
       "      <td>NaN</td>\n",
       "      <td>2016-12-09</td>\n",
       "    </tr>\n",
       "    <tr>\n",
       "      <th>3</th>\n",
       "      <td>1</td>\n",
       "      <td>ALPHABET CITY</td>\n",
       "      <td>07 RENTALS - WALKUP APARTMENTS</td>\n",
       "      <td>2B</td>\n",
       "      <td>402</td>\n",
       "      <td>21</td>\n",
       "      <td>C4</td>\n",
       "      <td>154 EAST 7TH STREET</td>\n",
       "      <td></td>\n",
       "      <td>10009</td>\n",
       "      <td>10</td>\n",
       "      <td>0</td>\n",
       "      <td>10</td>\n",
       "      <td>2272.0</td>\n",
       "      <td>6794.0</td>\n",
       "      <td>1913</td>\n",
       "      <td>2</td>\n",
       "      <td>C4</td>\n",
       "      <td>3936272.0</td>\n",
       "      <td>2016-09-23</td>\n",
       "    </tr>\n",
       "    <tr>\n",
       "      <th>4</th>\n",
       "      <td>1</td>\n",
       "      <td>ALPHABET CITY</td>\n",
       "      <td>07 RENTALS - WALKUP APARTMENTS</td>\n",
       "      <td>2A</td>\n",
       "      <td>404</td>\n",
       "      <td>55</td>\n",
       "      <td>C2</td>\n",
       "      <td>301 EAST 10TH   STREET</td>\n",
       "      <td></td>\n",
       "      <td>10009</td>\n",
       "      <td>6</td>\n",
       "      <td>0</td>\n",
       "      <td>6</td>\n",
       "      <td>2369.0</td>\n",
       "      <td>4615.0</td>\n",
       "      <td>1900</td>\n",
       "      <td>2</td>\n",
       "      <td>C2</td>\n",
       "      <td>8000000.0</td>\n",
       "      <td>2016-11-17</td>\n",
       "    </tr>\n",
       "    <tr>\n",
       "      <th>...</th>\n",
       "      <td>...</td>\n",
       "      <td>...</td>\n",
       "      <td>...</td>\n",
       "      <td>...</td>\n",
       "      <td>...</td>\n",
       "      <td>...</td>\n",
       "      <td>...</td>\n",
       "      <td>...</td>\n",
       "      <td>...</td>\n",
       "      <td>...</td>\n",
       "      <td>...</td>\n",
       "      <td>...</td>\n",
       "      <td>...</td>\n",
       "      <td>...</td>\n",
       "      <td>...</td>\n",
       "      <td>...</td>\n",
       "      <td>...</td>\n",
       "      <td>...</td>\n",
       "      <td>...</td>\n",
       "      <td>...</td>\n",
       "    </tr>\n",
       "    <tr>\n",
       "      <th>84543</th>\n",
       "      <td>5</td>\n",
       "      <td>WOODROW</td>\n",
       "      <td>02 TWO FAMILY DWELLINGS</td>\n",
       "      <td>1</td>\n",
       "      <td>7349</td>\n",
       "      <td>34</td>\n",
       "      <td>B9</td>\n",
       "      <td>37 QUAIL LANE</td>\n",
       "      <td></td>\n",
       "      <td>10309</td>\n",
       "      <td>2</td>\n",
       "      <td>0</td>\n",
       "      <td>2</td>\n",
       "      <td>2400.0</td>\n",
       "      <td>2575.0</td>\n",
       "      <td>1998</td>\n",
       "      <td>1</td>\n",
       "      <td>B9</td>\n",
       "      <td>450000.0</td>\n",
       "      <td>2016-11-28</td>\n",
       "    </tr>\n",
       "    <tr>\n",
       "      <th>84544</th>\n",
       "      <td>5</td>\n",
       "      <td>WOODROW</td>\n",
       "      <td>02 TWO FAMILY DWELLINGS</td>\n",
       "      <td>1</td>\n",
       "      <td>7349</td>\n",
       "      <td>78</td>\n",
       "      <td>B9</td>\n",
       "      <td>32 PHEASANT LANE</td>\n",
       "      <td></td>\n",
       "      <td>10309</td>\n",
       "      <td>2</td>\n",
       "      <td>0</td>\n",
       "      <td>2</td>\n",
       "      <td>2498.0</td>\n",
       "      <td>2377.0</td>\n",
       "      <td>1998</td>\n",
       "      <td>1</td>\n",
       "      <td>B9</td>\n",
       "      <td>550000.0</td>\n",
       "      <td>2017-04-21</td>\n",
       "    </tr>\n",
       "    <tr>\n",
       "      <th>84545</th>\n",
       "      <td>5</td>\n",
       "      <td>WOODROW</td>\n",
       "      <td>02 TWO FAMILY DWELLINGS</td>\n",
       "      <td>1</td>\n",
       "      <td>7351</td>\n",
       "      <td>60</td>\n",
       "      <td>B2</td>\n",
       "      <td>49 PITNEY AVENUE</td>\n",
       "      <td></td>\n",
       "      <td>10309</td>\n",
       "      <td>2</td>\n",
       "      <td>0</td>\n",
       "      <td>2</td>\n",
       "      <td>4000.0</td>\n",
       "      <td>1496.0</td>\n",
       "      <td>1925</td>\n",
       "      <td>1</td>\n",
       "      <td>B2</td>\n",
       "      <td>460000.0</td>\n",
       "      <td>2017-07-05</td>\n",
       "    </tr>\n",
       "    <tr>\n",
       "      <th>84546</th>\n",
       "      <td>5</td>\n",
       "      <td>WOODROW</td>\n",
       "      <td>22 STORE BUILDINGS</td>\n",
       "      <td>4</td>\n",
       "      <td>7100</td>\n",
       "      <td>28</td>\n",
       "      <td>K6</td>\n",
       "      <td>2730 ARTHUR KILL ROAD</td>\n",
       "      <td></td>\n",
       "      <td>10309</td>\n",
       "      <td>0</td>\n",
       "      <td>7</td>\n",
       "      <td>7</td>\n",
       "      <td>208033.0</td>\n",
       "      <td>64117.0</td>\n",
       "      <td>2001</td>\n",
       "      <td>4</td>\n",
       "      <td>K6</td>\n",
       "      <td>11693337.0</td>\n",
       "      <td>2016-12-21</td>\n",
       "    </tr>\n",
       "    <tr>\n",
       "      <th>84547</th>\n",
       "      <td>5</td>\n",
       "      <td>WOODROW</td>\n",
       "      <td>35 INDOOR PUBLIC AND CULTURAL FACILITIES</td>\n",
       "      <td>4</td>\n",
       "      <td>7105</td>\n",
       "      <td>679</td>\n",
       "      <td>P9</td>\n",
       "      <td>155 CLAY PIT ROAD</td>\n",
       "      <td></td>\n",
       "      <td>10309</td>\n",
       "      <td>0</td>\n",
       "      <td>1</td>\n",
       "      <td>1</td>\n",
       "      <td>10796.0</td>\n",
       "      <td>2400.0</td>\n",
       "      <td>2006</td>\n",
       "      <td>4</td>\n",
       "      <td>P9</td>\n",
       "      <td>69300.0</td>\n",
       "      <td>2016-10-27</td>\n",
       "    </tr>\n",
       "  </tbody>\n",
       "</table>\n",
       "<p>83783 rows × 20 columns</p>\n",
       "</div>"
      ],
      "text/plain": [
       "      BOROUGH   NEIGHBORHOOD                      BUILDING CLASS CATEGORY  \\\n",
       "0           1  ALPHABET CITY  07 RENTALS - WALKUP APARTMENTS                \n",
       "1           1  ALPHABET CITY  07 RENTALS - WALKUP APARTMENTS                \n",
       "2           1  ALPHABET CITY  07 RENTALS - WALKUP APARTMENTS                \n",
       "3           1  ALPHABET CITY  07 RENTALS - WALKUP APARTMENTS                \n",
       "4           1  ALPHABET CITY  07 RENTALS - WALKUP APARTMENTS                \n",
       "...       ...            ...                                          ...   \n",
       "84543       5        WOODROW  02 TWO FAMILY DWELLINGS                       \n",
       "84544       5        WOODROW  02 TWO FAMILY DWELLINGS                       \n",
       "84545       5        WOODROW  02 TWO FAMILY DWELLINGS                       \n",
       "84546       5        WOODROW  22 STORE BUILDINGS                            \n",
       "84547       5        WOODROW  35 INDOOR PUBLIC AND CULTURAL FACILITIES      \n",
       "\n",
       "      TAX CLASS AT PRESENT  BLOCK  LOT BUILDING CLASS AT PRESENT  \\\n",
       "0                       2A    392    6                        C2   \n",
       "1                        2    399   26                        C7   \n",
       "2                        2    399   39                        C7   \n",
       "3                       2B    402   21                        C4   \n",
       "4                       2A    404   55                        C2   \n",
       "...                    ...    ...  ...                       ...   \n",
       "84543                    1   7349   34                        B9   \n",
       "84544                    1   7349   78                        B9   \n",
       "84545                    1   7351   60                        B2   \n",
       "84546                    4   7100   28                        K6   \n",
       "84547                    4   7105  679                        P9   \n",
       "\n",
       "                      ADDRESS APARTMENT NUMBER ZIP CODE  RESIDENTIAL UNITS  \\\n",
       "0                153 AVENUE B                     10009                  5   \n",
       "1       234 EAST 4TH   STREET                     10009                 28   \n",
       "2       197 EAST 3RD   STREET                     10009                 16   \n",
       "3         154 EAST 7TH STREET                     10009                 10   \n",
       "4      301 EAST 10TH   STREET                     10009                  6   \n",
       "...                       ...              ...      ...                ...   \n",
       "84543           37 QUAIL LANE                     10309                  2   \n",
       "84544        32 PHEASANT LANE                     10309                  2   \n",
       "84545        49 PITNEY AVENUE                     10309                  2   \n",
       "84546   2730 ARTHUR KILL ROAD                     10309                  0   \n",
       "84547       155 CLAY PIT ROAD                     10309                  0   \n",
       "\n",
       "       COMMERCIAL UNITS  TOTAL UNITS  LAND SQUARE FEET  GROSS SQUARE FEET  \\\n",
       "0                     0            5            1633.0             6440.0   \n",
       "1                     3           31            4616.0            18690.0   \n",
       "2                     1           17            2212.0             7803.0   \n",
       "3                     0           10            2272.0             6794.0   \n",
       "4                     0            6            2369.0             4615.0   \n",
       "...                 ...          ...               ...                ...   \n",
       "84543                 0            2            2400.0             2575.0   \n",
       "84544                 0            2            2498.0             2377.0   \n",
       "84545                 0            2            4000.0             1496.0   \n",
       "84546                 7            7          208033.0            64117.0   \n",
       "84547                 1            1           10796.0             2400.0   \n",
       "\n",
       "      YEAR BUILT TAX CLASS AT TIME OF SALE BUILDING CLASS AT TIME OF SALE  \\\n",
       "0           1900                         2                             C2   \n",
       "1           1900                         2                             C7   \n",
       "2           1900                         2                             C7   \n",
       "3           1913                         2                             C4   \n",
       "4           1900                         2                             C2   \n",
       "...          ...                       ...                            ...   \n",
       "84543       1998                         1                             B9   \n",
       "84544       1998                         1                             B9   \n",
       "84545       1925                         1                             B2   \n",
       "84546       2001                         4                             K6   \n",
       "84547       2006                         4                             P9   \n",
       "\n",
       "       SALE PRICE  SALE DATE  \n",
       "0       6625000.0 2017-07-19  \n",
       "1             NaN 2016-12-14  \n",
       "2             NaN 2016-12-09  \n",
       "3       3936272.0 2016-09-23  \n",
       "4       8000000.0 2016-11-17  \n",
       "...           ...        ...  \n",
       "84543    450000.0 2016-11-28  \n",
       "84544    550000.0 2017-04-21  \n",
       "84545    460000.0 2017-07-05  \n",
       "84546  11693337.0 2016-12-21  \n",
       "84547     69300.0 2016-10-27  \n",
       "\n",
       "[83783 rows x 20 columns]"
      ]
     },
     "execution_count": 18,
     "metadata": {},
     "output_type": "execute_result"
    }
   ],
   "source": [
    "df.drop_duplicates()"
   ]
  },
  {
   "cell_type": "code",
   "execution_count": 19,
   "id": "f2a01435-59a2-4873-ae71-eb3f47775573",
   "metadata": {},
   "outputs": [
    {
     "data": {
      "text/html": [
       "<div>\n",
       "<style scoped>\n",
       "    .dataframe tbody tr th:only-of-type {\n",
       "        vertical-align: middle;\n",
       "    }\n",
       "\n",
       "    .dataframe tbody tr th {\n",
       "        vertical-align: top;\n",
       "    }\n",
       "\n",
       "    .dataframe thead th {\n",
       "        text-align: right;\n",
       "    }\n",
       "</style>\n",
       "<table border=\"1\" class=\"dataframe\">\n",
       "  <thead>\n",
       "    <tr style=\"text-align: right;\">\n",
       "      <th></th>\n",
       "      <th>index</th>\n",
       "      <th>BOROUGH</th>\n",
       "      <th>NEIGHBORHOOD</th>\n",
       "      <th>BUILDING CLASS CATEGORY</th>\n",
       "      <th>TAX CLASS AT PRESENT</th>\n",
       "      <th>BLOCK</th>\n",
       "      <th>LOT</th>\n",
       "      <th>BUILDING CLASS AT PRESENT</th>\n",
       "      <th>ADDRESS</th>\n",
       "      <th>APARTMENT NUMBER</th>\n",
       "      <th>...</th>\n",
       "      <th>RESIDENTIAL UNITS</th>\n",
       "      <th>COMMERCIAL UNITS</th>\n",
       "      <th>TOTAL UNITS</th>\n",
       "      <th>LAND SQUARE FEET</th>\n",
       "      <th>GROSS SQUARE FEET</th>\n",
       "      <th>YEAR BUILT</th>\n",
       "      <th>TAX CLASS AT TIME OF SALE</th>\n",
       "      <th>BUILDING CLASS AT TIME OF SALE</th>\n",
       "      <th>SALE PRICE</th>\n",
       "      <th>SALE DATE</th>\n",
       "    </tr>\n",
       "  </thead>\n",
       "  <tbody>\n",
       "    <tr>\n",
       "      <th>0</th>\n",
       "      <td>0</td>\n",
       "      <td>1</td>\n",
       "      <td>ALPHABET CITY</td>\n",
       "      <td>07 RENTALS - WALKUP APARTMENTS</td>\n",
       "      <td>2A</td>\n",
       "      <td>392</td>\n",
       "      <td>6</td>\n",
       "      <td>C2</td>\n",
       "      <td>153 AVENUE B</td>\n",
       "      <td></td>\n",
       "      <td>...</td>\n",
       "      <td>5</td>\n",
       "      <td>0</td>\n",
       "      <td>5</td>\n",
       "      <td>1633.0</td>\n",
       "      <td>6440.0</td>\n",
       "      <td>1900</td>\n",
       "      <td>2</td>\n",
       "      <td>C2</td>\n",
       "      <td>6625000.0</td>\n",
       "      <td>2017-07-19</td>\n",
       "    </tr>\n",
       "    <tr>\n",
       "      <th>1</th>\n",
       "      <td>1</td>\n",
       "      <td>1</td>\n",
       "      <td>ALPHABET CITY</td>\n",
       "      <td>07 RENTALS - WALKUP APARTMENTS</td>\n",
       "      <td>2</td>\n",
       "      <td>399</td>\n",
       "      <td>26</td>\n",
       "      <td>C7</td>\n",
       "      <td>234 EAST 4TH   STREET</td>\n",
       "      <td></td>\n",
       "      <td>...</td>\n",
       "      <td>28</td>\n",
       "      <td>3</td>\n",
       "      <td>31</td>\n",
       "      <td>4616.0</td>\n",
       "      <td>18690.0</td>\n",
       "      <td>1900</td>\n",
       "      <td>2</td>\n",
       "      <td>C7</td>\n",
       "      <td>NaN</td>\n",
       "      <td>2016-12-14</td>\n",
       "    </tr>\n",
       "    <tr>\n",
       "      <th>2</th>\n",
       "      <td>2</td>\n",
       "      <td>1</td>\n",
       "      <td>ALPHABET CITY</td>\n",
       "      <td>07 RENTALS - WALKUP APARTMENTS</td>\n",
       "      <td>2</td>\n",
       "      <td>399</td>\n",
       "      <td>39</td>\n",
       "      <td>C7</td>\n",
       "      <td>197 EAST 3RD   STREET</td>\n",
       "      <td></td>\n",
       "      <td>...</td>\n",
       "      <td>16</td>\n",
       "      <td>1</td>\n",
       "      <td>17</td>\n",
       "      <td>2212.0</td>\n",
       "      <td>7803.0</td>\n",
       "      <td>1900</td>\n",
       "      <td>2</td>\n",
       "      <td>C7</td>\n",
       "      <td>NaN</td>\n",
       "      <td>2016-12-09</td>\n",
       "    </tr>\n",
       "    <tr>\n",
       "      <th>3</th>\n",
       "      <td>3</td>\n",
       "      <td>1</td>\n",
       "      <td>ALPHABET CITY</td>\n",
       "      <td>07 RENTALS - WALKUP APARTMENTS</td>\n",
       "      <td>2B</td>\n",
       "      <td>402</td>\n",
       "      <td>21</td>\n",
       "      <td>C4</td>\n",
       "      <td>154 EAST 7TH STREET</td>\n",
       "      <td></td>\n",
       "      <td>...</td>\n",
       "      <td>10</td>\n",
       "      <td>0</td>\n",
       "      <td>10</td>\n",
       "      <td>2272.0</td>\n",
       "      <td>6794.0</td>\n",
       "      <td>1913</td>\n",
       "      <td>2</td>\n",
       "      <td>C4</td>\n",
       "      <td>3936272.0</td>\n",
       "      <td>2016-09-23</td>\n",
       "    </tr>\n",
       "    <tr>\n",
       "      <th>4</th>\n",
       "      <td>4</td>\n",
       "      <td>1</td>\n",
       "      <td>ALPHABET CITY</td>\n",
       "      <td>07 RENTALS - WALKUP APARTMENTS</td>\n",
       "      <td>2A</td>\n",
       "      <td>404</td>\n",
       "      <td>55</td>\n",
       "      <td>C2</td>\n",
       "      <td>301 EAST 10TH   STREET</td>\n",
       "      <td></td>\n",
       "      <td>...</td>\n",
       "      <td>6</td>\n",
       "      <td>0</td>\n",
       "      <td>6</td>\n",
       "      <td>2369.0</td>\n",
       "      <td>4615.0</td>\n",
       "      <td>1900</td>\n",
       "      <td>2</td>\n",
       "      <td>C2</td>\n",
       "      <td>8000000.0</td>\n",
       "      <td>2016-11-17</td>\n",
       "    </tr>\n",
       "    <tr>\n",
       "      <th>...</th>\n",
       "      <td>...</td>\n",
       "      <td>...</td>\n",
       "      <td>...</td>\n",
       "      <td>...</td>\n",
       "      <td>...</td>\n",
       "      <td>...</td>\n",
       "      <td>...</td>\n",
       "      <td>...</td>\n",
       "      <td>...</td>\n",
       "      <td>...</td>\n",
       "      <td>...</td>\n",
       "      <td>...</td>\n",
       "      <td>...</td>\n",
       "      <td>...</td>\n",
       "      <td>...</td>\n",
       "      <td>...</td>\n",
       "      <td>...</td>\n",
       "      <td>...</td>\n",
       "      <td>...</td>\n",
       "      <td>...</td>\n",
       "      <td>...</td>\n",
       "    </tr>\n",
       "    <tr>\n",
       "      <th>83778</th>\n",
       "      <td>84543</td>\n",
       "      <td>5</td>\n",
       "      <td>WOODROW</td>\n",
       "      <td>02 TWO FAMILY DWELLINGS</td>\n",
       "      <td>1</td>\n",
       "      <td>7349</td>\n",
       "      <td>34</td>\n",
       "      <td>B9</td>\n",
       "      <td>37 QUAIL LANE</td>\n",
       "      <td></td>\n",
       "      <td>...</td>\n",
       "      <td>2</td>\n",
       "      <td>0</td>\n",
       "      <td>2</td>\n",
       "      <td>2400.0</td>\n",
       "      <td>2575.0</td>\n",
       "      <td>1998</td>\n",
       "      <td>1</td>\n",
       "      <td>B9</td>\n",
       "      <td>450000.0</td>\n",
       "      <td>2016-11-28</td>\n",
       "    </tr>\n",
       "    <tr>\n",
       "      <th>83779</th>\n",
       "      <td>84544</td>\n",
       "      <td>5</td>\n",
       "      <td>WOODROW</td>\n",
       "      <td>02 TWO FAMILY DWELLINGS</td>\n",
       "      <td>1</td>\n",
       "      <td>7349</td>\n",
       "      <td>78</td>\n",
       "      <td>B9</td>\n",
       "      <td>32 PHEASANT LANE</td>\n",
       "      <td></td>\n",
       "      <td>...</td>\n",
       "      <td>2</td>\n",
       "      <td>0</td>\n",
       "      <td>2</td>\n",
       "      <td>2498.0</td>\n",
       "      <td>2377.0</td>\n",
       "      <td>1998</td>\n",
       "      <td>1</td>\n",
       "      <td>B9</td>\n",
       "      <td>550000.0</td>\n",
       "      <td>2017-04-21</td>\n",
       "    </tr>\n",
       "    <tr>\n",
       "      <th>83780</th>\n",
       "      <td>84545</td>\n",
       "      <td>5</td>\n",
       "      <td>WOODROW</td>\n",
       "      <td>02 TWO FAMILY DWELLINGS</td>\n",
       "      <td>1</td>\n",
       "      <td>7351</td>\n",
       "      <td>60</td>\n",
       "      <td>B2</td>\n",
       "      <td>49 PITNEY AVENUE</td>\n",
       "      <td></td>\n",
       "      <td>...</td>\n",
       "      <td>2</td>\n",
       "      <td>0</td>\n",
       "      <td>2</td>\n",
       "      <td>4000.0</td>\n",
       "      <td>1496.0</td>\n",
       "      <td>1925</td>\n",
       "      <td>1</td>\n",
       "      <td>B2</td>\n",
       "      <td>460000.0</td>\n",
       "      <td>2017-07-05</td>\n",
       "    </tr>\n",
       "    <tr>\n",
       "      <th>83781</th>\n",
       "      <td>84546</td>\n",
       "      <td>5</td>\n",
       "      <td>WOODROW</td>\n",
       "      <td>22 STORE BUILDINGS</td>\n",
       "      <td>4</td>\n",
       "      <td>7100</td>\n",
       "      <td>28</td>\n",
       "      <td>K6</td>\n",
       "      <td>2730 ARTHUR KILL ROAD</td>\n",
       "      <td></td>\n",
       "      <td>...</td>\n",
       "      <td>0</td>\n",
       "      <td>7</td>\n",
       "      <td>7</td>\n",
       "      <td>208033.0</td>\n",
       "      <td>64117.0</td>\n",
       "      <td>2001</td>\n",
       "      <td>4</td>\n",
       "      <td>K6</td>\n",
       "      <td>11693337.0</td>\n",
       "      <td>2016-12-21</td>\n",
       "    </tr>\n",
       "    <tr>\n",
       "      <th>83782</th>\n",
       "      <td>84547</td>\n",
       "      <td>5</td>\n",
       "      <td>WOODROW</td>\n",
       "      <td>35 INDOOR PUBLIC AND CULTURAL FACILITIES</td>\n",
       "      <td>4</td>\n",
       "      <td>7105</td>\n",
       "      <td>679</td>\n",
       "      <td>P9</td>\n",
       "      <td>155 CLAY PIT ROAD</td>\n",
       "      <td></td>\n",
       "      <td>...</td>\n",
       "      <td>0</td>\n",
       "      <td>1</td>\n",
       "      <td>1</td>\n",
       "      <td>10796.0</td>\n",
       "      <td>2400.0</td>\n",
       "      <td>2006</td>\n",
       "      <td>4</td>\n",
       "      <td>P9</td>\n",
       "      <td>69300.0</td>\n",
       "      <td>2016-10-27</td>\n",
       "    </tr>\n",
       "  </tbody>\n",
       "</table>\n",
       "<p>83783 rows × 21 columns</p>\n",
       "</div>"
      ],
      "text/plain": [
       "       index BOROUGH   NEIGHBORHOOD  \\\n",
       "0          0       1  ALPHABET CITY   \n",
       "1          1       1  ALPHABET CITY   \n",
       "2          2       1  ALPHABET CITY   \n",
       "3          3       1  ALPHABET CITY   \n",
       "4          4       1  ALPHABET CITY   \n",
       "...      ...     ...            ...   \n",
       "83778  84543       5        WOODROW   \n",
       "83779  84544       5        WOODROW   \n",
       "83780  84545       5        WOODROW   \n",
       "83781  84546       5        WOODROW   \n",
       "83782  84547       5        WOODROW   \n",
       "\n",
       "                           BUILDING CLASS CATEGORY TAX CLASS AT PRESENT  \\\n",
       "0      07 RENTALS - WALKUP APARTMENTS                                2A   \n",
       "1      07 RENTALS - WALKUP APARTMENTS                                 2   \n",
       "2      07 RENTALS - WALKUP APARTMENTS                                 2   \n",
       "3      07 RENTALS - WALKUP APARTMENTS                                2B   \n",
       "4      07 RENTALS - WALKUP APARTMENTS                                2A   \n",
       "...                                            ...                  ...   \n",
       "83778  02 TWO FAMILY DWELLINGS                                        1   \n",
       "83779  02 TWO FAMILY DWELLINGS                                        1   \n",
       "83780  02 TWO FAMILY DWELLINGS                                        1   \n",
       "83781  22 STORE BUILDINGS                                             4   \n",
       "83782  35 INDOOR PUBLIC AND CULTURAL FACILITIES                       4   \n",
       "\n",
       "       BLOCK  LOT BUILDING CLASS AT PRESENT                 ADDRESS  \\\n",
       "0        392    6                        C2            153 AVENUE B   \n",
       "1        399   26                        C7   234 EAST 4TH   STREET   \n",
       "2        399   39                        C7   197 EAST 3RD   STREET   \n",
       "3        402   21                        C4     154 EAST 7TH STREET   \n",
       "4        404   55                        C2  301 EAST 10TH   STREET   \n",
       "...      ...  ...                       ...                     ...   \n",
       "83778   7349   34                        B9           37 QUAIL LANE   \n",
       "83779   7349   78                        B9        32 PHEASANT LANE   \n",
       "83780   7351   60                        B2        49 PITNEY AVENUE   \n",
       "83781   7100   28                        K6   2730 ARTHUR KILL ROAD   \n",
       "83782   7105  679                        P9       155 CLAY PIT ROAD   \n",
       "\n",
       "      APARTMENT NUMBER  ... RESIDENTIAL UNITS  COMMERCIAL UNITS  TOTAL UNITS  \\\n",
       "0                       ...                 5                 0            5   \n",
       "1                       ...                28                 3           31   \n",
       "2                       ...                16                 1           17   \n",
       "3                       ...                10                 0           10   \n",
       "4                       ...                 6                 0            6   \n",
       "...                ...  ...               ...               ...          ...   \n",
       "83778                   ...                 2                 0            2   \n",
       "83779                   ...                 2                 0            2   \n",
       "83780                   ...                 2                 0            2   \n",
       "83781                   ...                 0                 7            7   \n",
       "83782                   ...                 0                 1            1   \n",
       "\n",
       "       LAND SQUARE FEET  GROSS SQUARE FEET  YEAR BUILT  \\\n",
       "0                1633.0             6440.0        1900   \n",
       "1                4616.0            18690.0        1900   \n",
       "2                2212.0             7803.0        1900   \n",
       "3                2272.0             6794.0        1913   \n",
       "4                2369.0             4615.0        1900   \n",
       "...                 ...                ...         ...   \n",
       "83778            2400.0             2575.0        1998   \n",
       "83779            2498.0             2377.0        1998   \n",
       "83780            4000.0             1496.0        1925   \n",
       "83781          208033.0            64117.0        2001   \n",
       "83782           10796.0             2400.0        2006   \n",
       "\n",
       "      TAX CLASS AT TIME OF SALE BUILDING CLASS AT TIME OF SALE  SALE PRICE  \\\n",
       "0                             2                             C2   6625000.0   \n",
       "1                             2                             C7         NaN   \n",
       "2                             2                             C7         NaN   \n",
       "3                             2                             C4   3936272.0   \n",
       "4                             2                             C2   8000000.0   \n",
       "...                         ...                            ...         ...   \n",
       "83778                         1                             B9    450000.0   \n",
       "83779                         1                             B9    550000.0   \n",
       "83780                         1                             B2    460000.0   \n",
       "83781                         4                             K6  11693337.0   \n",
       "83782                         4                             P9     69300.0   \n",
       "\n",
       "       SALE DATE  \n",
       "0     2017-07-19  \n",
       "1     2016-12-14  \n",
       "2     2016-12-09  \n",
       "3     2016-09-23  \n",
       "4     2016-11-17  \n",
       "...          ...  \n",
       "83778 2016-11-28  \n",
       "83779 2017-04-21  \n",
       "83780 2017-07-05  \n",
       "83781 2016-12-21  \n",
       "83782 2016-10-27  \n",
       "\n",
       "[83783 rows x 21 columns]"
      ]
     },
     "execution_count": 19,
     "metadata": {},
     "output_type": "execute_result"
    }
   ],
   "source": [
    "df.drop_duplicates().reset_index()"
   ]
  },
  {
   "cell_type": "code",
   "execution_count": 20,
   "id": "ed013fad-d043-4d78-99a0-aee1d710ad5a",
   "metadata": {},
   "outputs": [],
   "source": [
    "df = df.drop_duplicates().reset_index(drop=True)"
   ]
  },
  {
   "cell_type": "code",
   "execution_count": 21,
   "id": "fe992308-559a-40ad-9aa2-5883ef572e42",
   "metadata": {},
   "outputs": [
    {
     "data": {
      "text/html": [
       "<div>\n",
       "<style scoped>\n",
       "    .dataframe tbody tr th:only-of-type {\n",
       "        vertical-align: middle;\n",
       "    }\n",
       "\n",
       "    .dataframe tbody tr th {\n",
       "        vertical-align: top;\n",
       "    }\n",
       "\n",
       "    .dataframe thead th {\n",
       "        text-align: right;\n",
       "    }\n",
       "</style>\n",
       "<table border=\"1\" class=\"dataframe\">\n",
       "  <thead>\n",
       "    <tr style=\"text-align: right;\">\n",
       "      <th></th>\n",
       "      <th>BOROUGH</th>\n",
       "      <th>NEIGHBORHOOD</th>\n",
       "      <th>BUILDING CLASS CATEGORY</th>\n",
       "      <th>TAX CLASS AT PRESENT</th>\n",
       "      <th>BLOCK</th>\n",
       "      <th>LOT</th>\n",
       "      <th>BUILDING CLASS AT PRESENT</th>\n",
       "      <th>ADDRESS</th>\n",
       "      <th>APARTMENT NUMBER</th>\n",
       "      <th>ZIP CODE</th>\n",
       "      <th>RESIDENTIAL UNITS</th>\n",
       "      <th>COMMERCIAL UNITS</th>\n",
       "      <th>TOTAL UNITS</th>\n",
       "      <th>LAND SQUARE FEET</th>\n",
       "      <th>GROSS SQUARE FEET</th>\n",
       "      <th>YEAR BUILT</th>\n",
       "      <th>TAX CLASS AT TIME OF SALE</th>\n",
       "      <th>BUILDING CLASS AT TIME OF SALE</th>\n",
       "      <th>SALE PRICE</th>\n",
       "      <th>SALE DATE</th>\n",
       "    </tr>\n",
       "  </thead>\n",
       "  <tbody>\n",
       "    <tr>\n",
       "      <th>0</th>\n",
       "      <td>1</td>\n",
       "      <td>ALPHABET CITY</td>\n",
       "      <td>07 RENTALS - WALKUP APARTMENTS</td>\n",
       "      <td>2A</td>\n",
       "      <td>392</td>\n",
       "      <td>6</td>\n",
       "      <td>C2</td>\n",
       "      <td>153 AVENUE B</td>\n",
       "      <td></td>\n",
       "      <td>10009</td>\n",
       "      <td>5</td>\n",
       "      <td>0</td>\n",
       "      <td>5</td>\n",
       "      <td>1633.0</td>\n",
       "      <td>6440.0</td>\n",
       "      <td>1900</td>\n",
       "      <td>2</td>\n",
       "      <td>C2</td>\n",
       "      <td>6625000.0</td>\n",
       "      <td>2017-07-19</td>\n",
       "    </tr>\n",
       "    <tr>\n",
       "      <th>1</th>\n",
       "      <td>1</td>\n",
       "      <td>ALPHABET CITY</td>\n",
       "      <td>07 RENTALS - WALKUP APARTMENTS</td>\n",
       "      <td>2</td>\n",
       "      <td>399</td>\n",
       "      <td>26</td>\n",
       "      <td>C7</td>\n",
       "      <td>234 EAST 4TH   STREET</td>\n",
       "      <td></td>\n",
       "      <td>10009</td>\n",
       "      <td>28</td>\n",
       "      <td>3</td>\n",
       "      <td>31</td>\n",
       "      <td>4616.0</td>\n",
       "      <td>18690.0</td>\n",
       "      <td>1900</td>\n",
       "      <td>2</td>\n",
       "      <td>C7</td>\n",
       "      <td>NaN</td>\n",
       "      <td>2016-12-14</td>\n",
       "    </tr>\n",
       "    <tr>\n",
       "      <th>2</th>\n",
       "      <td>1</td>\n",
       "      <td>ALPHABET CITY</td>\n",
       "      <td>07 RENTALS - WALKUP APARTMENTS</td>\n",
       "      <td>2</td>\n",
       "      <td>399</td>\n",
       "      <td>39</td>\n",
       "      <td>C7</td>\n",
       "      <td>197 EAST 3RD   STREET</td>\n",
       "      <td></td>\n",
       "      <td>10009</td>\n",
       "      <td>16</td>\n",
       "      <td>1</td>\n",
       "      <td>17</td>\n",
       "      <td>2212.0</td>\n",
       "      <td>7803.0</td>\n",
       "      <td>1900</td>\n",
       "      <td>2</td>\n",
       "      <td>C7</td>\n",
       "      <td>NaN</td>\n",
       "      <td>2016-12-09</td>\n",
       "    </tr>\n",
       "    <tr>\n",
       "      <th>3</th>\n",
       "      <td>1</td>\n",
       "      <td>ALPHABET CITY</td>\n",
       "      <td>07 RENTALS - WALKUP APARTMENTS</td>\n",
       "      <td>2B</td>\n",
       "      <td>402</td>\n",
       "      <td>21</td>\n",
       "      <td>C4</td>\n",
       "      <td>154 EAST 7TH STREET</td>\n",
       "      <td></td>\n",
       "      <td>10009</td>\n",
       "      <td>10</td>\n",
       "      <td>0</td>\n",
       "      <td>10</td>\n",
       "      <td>2272.0</td>\n",
       "      <td>6794.0</td>\n",
       "      <td>1913</td>\n",
       "      <td>2</td>\n",
       "      <td>C4</td>\n",
       "      <td>3936272.0</td>\n",
       "      <td>2016-09-23</td>\n",
       "    </tr>\n",
       "    <tr>\n",
       "      <th>4</th>\n",
       "      <td>1</td>\n",
       "      <td>ALPHABET CITY</td>\n",
       "      <td>07 RENTALS - WALKUP APARTMENTS</td>\n",
       "      <td>2A</td>\n",
       "      <td>404</td>\n",
       "      <td>55</td>\n",
       "      <td>C2</td>\n",
       "      <td>301 EAST 10TH   STREET</td>\n",
       "      <td></td>\n",
       "      <td>10009</td>\n",
       "      <td>6</td>\n",
       "      <td>0</td>\n",
       "      <td>6</td>\n",
       "      <td>2369.0</td>\n",
       "      <td>4615.0</td>\n",
       "      <td>1900</td>\n",
       "      <td>2</td>\n",
       "      <td>C2</td>\n",
       "      <td>8000000.0</td>\n",
       "      <td>2016-11-17</td>\n",
       "    </tr>\n",
       "  </tbody>\n",
       "</table>\n",
       "</div>"
      ],
      "text/plain": [
       "  BOROUGH   NEIGHBORHOOD                      BUILDING CLASS CATEGORY  \\\n",
       "0       1  ALPHABET CITY  07 RENTALS - WALKUP APARTMENTS                \n",
       "1       1  ALPHABET CITY  07 RENTALS - WALKUP APARTMENTS                \n",
       "2       1  ALPHABET CITY  07 RENTALS - WALKUP APARTMENTS                \n",
       "3       1  ALPHABET CITY  07 RENTALS - WALKUP APARTMENTS                \n",
       "4       1  ALPHABET CITY  07 RENTALS - WALKUP APARTMENTS                \n",
       "\n",
       "  TAX CLASS AT PRESENT  BLOCK  LOT BUILDING CLASS AT PRESENT  \\\n",
       "0                   2A    392    6                        C2   \n",
       "1                    2    399   26                        C7   \n",
       "2                    2    399   39                        C7   \n",
       "3                   2B    402   21                        C4   \n",
       "4                   2A    404   55                        C2   \n",
       "\n",
       "                  ADDRESS APARTMENT NUMBER ZIP CODE  RESIDENTIAL UNITS  \\\n",
       "0            153 AVENUE B                     10009                  5   \n",
       "1   234 EAST 4TH   STREET                     10009                 28   \n",
       "2   197 EAST 3RD   STREET                     10009                 16   \n",
       "3     154 EAST 7TH STREET                     10009                 10   \n",
       "4  301 EAST 10TH   STREET                     10009                  6   \n",
       "\n",
       "   COMMERCIAL UNITS  TOTAL UNITS  LAND SQUARE FEET  GROSS SQUARE FEET  \\\n",
       "0                 0            5            1633.0             6440.0   \n",
       "1                 3           31            4616.0            18690.0   \n",
       "2                 1           17            2212.0             7803.0   \n",
       "3                 0           10            2272.0             6794.0   \n",
       "4                 0            6            2369.0             4615.0   \n",
       "\n",
       "  YEAR BUILT TAX CLASS AT TIME OF SALE BUILDING CLASS AT TIME OF SALE  \\\n",
       "0       1900                         2                             C2   \n",
       "1       1900                         2                             C7   \n",
       "2       1900                         2                             C7   \n",
       "3       1913                         2                             C4   \n",
       "4       1900                         2                             C2   \n",
       "\n",
       "   SALE PRICE  SALE DATE  \n",
       "0   6625000.0 2017-07-19  \n",
       "1         NaN 2016-12-14  \n",
       "2         NaN 2016-12-09  \n",
       "3   3936272.0 2016-09-23  \n",
       "4   8000000.0 2016-11-17  "
      ]
     },
     "execution_count": 21,
     "metadata": {},
     "output_type": "execute_result"
    }
   ],
   "source": [
    "df.head()"
   ]
  },
  {
   "cell_type": "code",
   "execution_count": 22,
   "id": "ee388016-74ed-44fa-984d-96516e734c8b",
   "metadata": {},
   "outputs": [
    {
     "data": {
      "text/plain": [
       "BOROUGH                               0\n",
       "NEIGHBORHOOD                          0\n",
       "BUILDING CLASS CATEGORY               0\n",
       "TAX CLASS AT PRESENT                  0\n",
       "BLOCK                                 0\n",
       "LOT                                   0\n",
       "BUILDING CLASS AT PRESENT             0\n",
       "ADDRESS                               0\n",
       "APARTMENT NUMBER                      0\n",
       "ZIP CODE                              0\n",
       "RESIDENTIAL UNITS                     0\n",
       "COMMERCIAL UNITS                      0\n",
       "TOTAL UNITS                           0\n",
       "LAND SQUARE FEET                  26054\n",
       "GROSS SQUARE FEET                 27385\n",
       "YEAR BUILT                            0\n",
       "TAX CLASS AT TIME OF SALE             0\n",
       "BUILDING CLASS AT TIME OF SALE        0\n",
       "SALE PRICE                        14176\n",
       "SALE DATE                             0\n",
       "dtype: int64"
      ]
     },
     "execution_count": 22,
     "metadata": {},
     "output_type": "execute_result"
    }
   ],
   "source": [
    "#Mengecek missing value dari dataset\n",
    "df.isnull().sum()"
   ]
  },
  {
   "cell_type": "code",
   "execution_count": 23,
   "id": "d9243f94-e205-4ca1-aa58-97c9f3bd7d23",
   "metadata": {},
   "outputs": [],
   "source": [
    "from numpy import nan\n",
    "\n",
    "df = df.replace(' ', nan)"
   ]
  },
  {
   "cell_type": "code",
   "execution_count": 24,
   "id": "73b281da-a0fc-4e32-81bb-28af9c0538a2",
   "metadata": {},
   "outputs": [
    {
     "data": {
      "text/plain": [
       "BOROUGH                               0\n",
       "NEIGHBORHOOD                          0\n",
       "BUILDING CLASS CATEGORY               0\n",
       "TAX CLASS AT PRESENT                738\n",
       "BLOCK                                 0\n",
       "LOT                                   0\n",
       "BUILDING CLASS AT PRESENT           738\n",
       "ADDRESS                               0\n",
       "APARTMENT NUMBER                  64934\n",
       "ZIP CODE                              0\n",
       "RESIDENTIAL UNITS                     0\n",
       "COMMERCIAL UNITS                      0\n",
       "TOTAL UNITS                           0\n",
       "LAND SQUARE FEET                  26054\n",
       "GROSS SQUARE FEET                 27385\n",
       "YEAR BUILT                            0\n",
       "TAX CLASS AT TIME OF SALE             0\n",
       "BUILDING CLASS AT TIME OF SALE        0\n",
       "SALE PRICE                        14176\n",
       "SALE DATE                             0\n",
       "dtype: int64"
      ]
     },
     "execution_count": 24,
     "metadata": {},
     "output_type": "execute_result"
    }
   ],
   "source": [
    "df.isna().sum()"
   ]
  },
  {
   "cell_type": "code",
   "execution_count": 25,
   "id": "35e840c4-18e4-4d9c-977e-721a16f0ab12",
   "metadata": {},
   "outputs": [
    {
     "data": {
      "text/plain": [
       "BOROUGH                            0.000000\n",
       "NEIGHBORHOOD                       0.000000\n",
       "BUILDING CLASS CATEGORY            0.000000\n",
       "TAX CLASS AT PRESENT               0.880847\n",
       "BLOCK                              0.000000\n",
       "LOT                                0.000000\n",
       "BUILDING CLASS AT PRESENT          0.880847\n",
       "ADDRESS                            0.000000\n",
       "APARTMENT NUMBER                  77.502596\n",
       "ZIP CODE                           0.000000\n",
       "RESIDENTIAL UNITS                  0.000000\n",
       "COMMERCIAL UNITS                   0.000000\n",
       "TOTAL UNITS                        0.000000\n",
       "LAND SQUARE FEET                  31.097001\n",
       "GROSS SQUARE FEET                 32.685628\n",
       "YEAR BUILT                         0.000000\n",
       "TAX CLASS AT TIME OF SALE          0.000000\n",
       "BUILDING CLASS AT TIME OF SALE     0.000000\n",
       "SALE PRICE                        16.919900\n",
       "SALE DATE                          0.000000\n",
       "dtype: float64"
      ]
     },
     "execution_count": 25,
     "metadata": {},
     "output_type": "execute_result"
    }
   ],
   "source": [
    "df.isna().sum() /len(df) *100"
   ]
  },
  {
   "cell_type": "markdown",
   "id": "042464d7-bdea-42a1-acdb-4cc57136d086",
   "metadata": {},
   "source": [
    "### Handling Missing Value"
   ]
  },
  {
   "cell_type": "code",
   "execution_count": 26,
   "id": "3873b623-7d8a-42cb-817f-3385ec5a56dd",
   "metadata": {},
   "outputs": [],
   "source": [
    "df.drop(labels=['APARTMENT NUMBER'], axis=1, inplace=True)"
   ]
  },
  {
   "cell_type": "code",
   "execution_count": 27,
   "id": "795b14c6-48a9-4536-9be2-1c7663e016f7",
   "metadata": {},
   "outputs": [],
   "source": [
    "#replacing missing values\n",
    "\n",
    "df['TAX CLASS AT PRESENT'].fillna(df['TAX CLASS AT PRESENT'].mode()[0], inplace=True)\n",
    "df['BUILDING CLASS AT PRESENT'].fillna(df['BUILDING CLASS AT PRESENT'].mode()[0], inplace=True)"
   ]
  },
  {
   "cell_type": "markdown",
   "id": "2a9b450f-e5e3-4592-9052-104ea22ebc8b",
   "metadata": {},
   "source": [
    "- Untuk data int/float seperti \"Sale Price\", \"Land Square Feet\", dan \"Gross Square Feet\" dapat diganti oleh mean atau median"
   ]
  },
  {
   "cell_type": "code",
   "execution_count": 28,
   "id": "874af846-85ee-4a02-a830-62d55cf5222d",
   "metadata": {},
   "outputs": [],
   "source": [
    "df1 = df.dropna()"
   ]
  },
  {
   "cell_type": "code",
   "execution_count": 29,
   "id": "78a8ebb4-a718-467d-a3d4-549d4d3ff155",
   "metadata": {},
   "outputs": [
    {
     "data": {
      "text/plain": [
       "BOROUGH                           0\n",
       "NEIGHBORHOOD                      0\n",
       "BUILDING CLASS CATEGORY           0\n",
       "TAX CLASS AT PRESENT              0\n",
       "BLOCK                             0\n",
       "LOT                               0\n",
       "BUILDING CLASS AT PRESENT         0\n",
       "ADDRESS                           0\n",
       "ZIP CODE                          0\n",
       "RESIDENTIAL UNITS                 0\n",
       "COMMERCIAL UNITS                  0\n",
       "TOTAL UNITS                       0\n",
       "LAND SQUARE FEET                  0\n",
       "GROSS SQUARE FEET                 0\n",
       "YEAR BUILT                        0\n",
       "TAX CLASS AT TIME OF SALE         0\n",
       "BUILDING CLASS AT TIME OF SALE    0\n",
       "SALE PRICE                        0\n",
       "SALE DATE                         0\n",
       "dtype: int64"
      ]
     },
     "execution_count": 29,
     "metadata": {},
     "output_type": "execute_result"
    }
   ],
   "source": [
    "df1.isnull().sum()"
   ]
  },
  {
   "cell_type": "code",
   "execution_count": 30,
   "id": "ea1e7f3c-69b6-42b6-8dbe-532ddf468e28",
   "metadata": {},
   "outputs": [
    {
     "data": {
      "text/html": [
       "<div>\n",
       "<style scoped>\n",
       "    .dataframe tbody tr th:only-of-type {\n",
       "        vertical-align: middle;\n",
       "    }\n",
       "\n",
       "    .dataframe tbody tr th {\n",
       "        vertical-align: top;\n",
       "    }\n",
       "\n",
       "    .dataframe thead th {\n",
       "        text-align: right;\n",
       "    }\n",
       "</style>\n",
       "<table border=\"1\" class=\"dataframe\">\n",
       "  <thead>\n",
       "    <tr style=\"text-align: right;\">\n",
       "      <th></th>\n",
       "      <th>BLOCK</th>\n",
       "      <th>LOT</th>\n",
       "      <th>RESIDENTIAL UNITS</th>\n",
       "      <th>COMMERCIAL UNITS</th>\n",
       "      <th>TOTAL UNITS</th>\n",
       "      <th>LAND SQUARE FEET</th>\n",
       "      <th>GROSS SQUARE FEET</th>\n",
       "      <th>SALE PRICE</th>\n",
       "    </tr>\n",
       "  </thead>\n",
       "  <tbody>\n",
       "    <tr>\n",
       "      <th>count</th>\n",
       "      <td>83783.000000</td>\n",
       "      <td>83783.000000</td>\n",
       "      <td>83783.000000</td>\n",
       "      <td>83783.000000</td>\n",
       "      <td>83783.000000</td>\n",
       "      <td>5.772900e+04</td>\n",
       "      <td>5.639800e+04</td>\n",
       "      <td>6.960700e+04</td>\n",
       "    </tr>\n",
       "    <tr>\n",
       "      <th>mean</th>\n",
       "      <td>4242.903155</td>\n",
       "      <td>376.137415</td>\n",
       "      <td>1.999976</td>\n",
       "      <td>0.183677</td>\n",
       "      <td>2.213504</td>\n",
       "      <td>3.854481e+03</td>\n",
       "      <td>3.894416e+03</td>\n",
       "      <td>1.280703e+06</td>\n",
       "    </tr>\n",
       "    <tr>\n",
       "      <th>std</th>\n",
       "      <td>3568.789482</td>\n",
       "      <td>658.021286</td>\n",
       "      <td>16.569118</td>\n",
       "      <td>8.576582</td>\n",
       "      <td>18.777727</td>\n",
       "      <td>4.154737e+04</td>\n",
       "      <td>3.483726e+04</td>\n",
       "      <td>1.143036e+07</td>\n",
       "    </tr>\n",
       "    <tr>\n",
       "      <th>min</th>\n",
       "      <td>1.000000</td>\n",
       "      <td>1.000000</td>\n",
       "      <td>0.000000</td>\n",
       "      <td>0.000000</td>\n",
       "      <td>0.000000</td>\n",
       "      <td>0.000000e+00</td>\n",
       "      <td>0.000000e+00</td>\n",
       "      <td>0.000000e+00</td>\n",
       "    </tr>\n",
       "    <tr>\n",
       "      <th>25%</th>\n",
       "      <td>1326.000000</td>\n",
       "      <td>22.000000</td>\n",
       "      <td>0.000000</td>\n",
       "      <td>0.000000</td>\n",
       "      <td>1.000000</td>\n",
       "      <td>1.643000e+03</td>\n",
       "      <td>1.040000e+03</td>\n",
       "      <td>2.300000e+05</td>\n",
       "    </tr>\n",
       "    <tr>\n",
       "      <th>50%</th>\n",
       "      <td>3319.000000</td>\n",
       "      <td>50.000000</td>\n",
       "      <td>1.000000</td>\n",
       "      <td>0.000000</td>\n",
       "      <td>1.000000</td>\n",
       "      <td>2.314000e+03</td>\n",
       "      <td>1.680000e+03</td>\n",
       "      <td>5.330000e+05</td>\n",
       "    </tr>\n",
       "    <tr>\n",
       "      <th>75%</th>\n",
       "      <td>6295.000000</td>\n",
       "      <td>1001.000000</td>\n",
       "      <td>2.000000</td>\n",
       "      <td>0.000000</td>\n",
       "      <td>2.000000</td>\n",
       "      <td>3.500000e+03</td>\n",
       "      <td>2.552000e+03</td>\n",
       "      <td>9.500000e+05</td>\n",
       "    </tr>\n",
       "    <tr>\n",
       "      <th>max</th>\n",
       "      <td>16322.000000</td>\n",
       "      <td>9106.000000</td>\n",
       "      <td>1844.000000</td>\n",
       "      <td>2261.000000</td>\n",
       "      <td>2261.000000</td>\n",
       "      <td>4.252327e+06</td>\n",
       "      <td>3.750565e+06</td>\n",
       "      <td>2.210000e+09</td>\n",
       "    </tr>\n",
       "  </tbody>\n",
       "</table>\n",
       "</div>"
      ],
      "text/plain": [
       "              BLOCK           LOT  RESIDENTIAL UNITS  COMMERCIAL UNITS  \\\n",
       "count  83783.000000  83783.000000       83783.000000      83783.000000   \n",
       "mean    4242.903155    376.137415           1.999976          0.183677   \n",
       "std     3568.789482    658.021286          16.569118          8.576582   \n",
       "min        1.000000      1.000000           0.000000          0.000000   \n",
       "25%     1326.000000     22.000000           0.000000          0.000000   \n",
       "50%     3319.000000     50.000000           1.000000          0.000000   \n",
       "75%     6295.000000   1001.000000           2.000000          0.000000   \n",
       "max    16322.000000   9106.000000        1844.000000       2261.000000   \n",
       "\n",
       "        TOTAL UNITS  LAND SQUARE FEET  GROSS SQUARE FEET    SALE PRICE  \n",
       "count  83783.000000      5.772900e+04       5.639800e+04  6.960700e+04  \n",
       "mean       2.213504      3.854481e+03       3.894416e+03  1.280703e+06  \n",
       "std       18.777727      4.154737e+04       3.483726e+04  1.143036e+07  \n",
       "min        0.000000      0.000000e+00       0.000000e+00  0.000000e+00  \n",
       "25%        1.000000      1.643000e+03       1.040000e+03  2.300000e+05  \n",
       "50%        1.000000      2.314000e+03       1.680000e+03  5.330000e+05  \n",
       "75%        2.000000      3.500000e+03       2.552000e+03  9.500000e+05  \n",
       "max     2261.000000      4.252327e+06       3.750565e+06  2.210000e+09  "
      ]
     },
     "execution_count": 30,
     "metadata": {},
     "output_type": "execute_result"
    }
   ],
   "source": [
    "df.describe()"
   ]
  },
  {
   "cell_type": "markdown",
   "id": "df8338a0-284a-4c0c-97ed-d74596cc43bf",
   "metadata": {},
   "source": [
    "## MEAN"
   ]
  },
  {
   "cell_type": "code",
   "execution_count": 31,
   "id": "51a6fc2b-78eb-4b7b-ae5e-eb2d130e475c",
   "metadata": {},
   "outputs": [
    {
     "data": {
      "text/plain": [
       "1.9999761288089468"
      ]
     },
     "execution_count": 31,
     "metadata": {},
     "output_type": "execute_result"
    }
   ],
   "source": [
    "mean_residential_units = statistics.mean(df['RESIDENTIAL UNITS'])\n",
    "mean_residential_units"
   ]
  },
  {
   "cell_type": "markdown",
   "id": "5d3dab24-35e7-47c6-b15d-1da1b06511b2",
   "metadata": {},
   "source": [
    "- Mean dari Residential units yang terjual di pasar properti kota new york selama periode 12 bulan sebanyak 1,9999"
   ]
  },
  {
   "cell_type": "code",
   "execution_count": 32,
   "id": "41278aa2-2df7-4275-876a-c49de7e40a1a",
   "metadata": {},
   "outputs": [
    {
     "data": {
      "text/plain": [
       "0.18367687955790554"
      ]
     },
     "execution_count": 32,
     "metadata": {},
     "output_type": "execute_result"
    }
   ],
   "source": [
    "mean_commercial_units = statistics.mean(df['COMMERCIAL UNITS'])\n",
    "mean_commercial_units"
   ]
  },
  {
   "cell_type": "markdown",
   "id": "2d37f840-e94a-4a8d-8995-08cb8ea1af7e",
   "metadata": {},
   "source": [
    "- Mean dari Commercial units yang terjual di pasar properti kota new york selama periode 12 bulan sebanyak 0,1837"
   ]
  },
  {
   "cell_type": "code",
   "execution_count": 33,
   "id": "d7624e27-95bf-43a9-a476-b3c73d3f73d7",
   "metadata": {},
   "outputs": [
    {
     "data": {
      "text/plain": [
       "2.791318690496075"
      ]
     },
     "execution_count": 33,
     "metadata": {},
     "output_type": "execute_result"
    }
   ],
   "source": [
    "mean_total_units = statistics.mean(df1['TOTAL UNITS'])\n",
    "mean_total_units"
   ]
  },
  {
   "cell_type": "markdown",
   "id": "5fe93f70-3e70-4ba3-a09b-496707c51a09",
   "metadata": {},
   "source": [
    "- Mean dari total units yang terjual di pasar properti kota new york selama periode 12 bulan sebanyak 2,79131"
   ]
  },
  {
   "cell_type": "code",
   "execution_count": 34,
   "id": "d37ae3b0-c445-4f80-9f89-e56e644dbfb1",
   "metadata": {},
   "outputs": [
    {
     "data": {
      "text/plain": [
       "3270.9037706697845"
      ]
     },
     "execution_count": 34,
     "metadata": {},
     "output_type": "execute_result"
    }
   ],
   "source": [
    "mean_land_square_feet = statistics.mean(df1['LAND SQUARE FEET'])\n",
    "mean_land_square_feet"
   ]
  },
  {
   "cell_type": "markdown",
   "id": "d506b5ac-84df-4405-b607-513e1e4f7258",
   "metadata": {},
   "source": [
    "- Mean dari Land Square Feet adalah 3270,90377"
   ]
  },
  {
   "cell_type": "code",
   "execution_count": 35,
   "id": "16f55c91-a30b-49c5-be5b-85d91c3fd245",
   "metadata": {},
   "outputs": [
    {
     "data": {
      "text/plain": [
       "3525.874749457157"
      ]
     },
     "execution_count": 35,
     "metadata": {},
     "output_type": "execute_result"
    }
   ],
   "source": [
    "mean_gross_square_feet = statistics.mean(df1['GROSS SQUARE FEET'])\n",
    "mean_gross_square_feet"
   ]
  },
  {
   "cell_type": "markdown",
   "id": "24d9584e-74d5-4024-9059-29b2383b67ae",
   "metadata": {},
   "source": [
    "- Mean dari Gross Square Feet adalah 3525.8747"
   ]
  },
  {
   "cell_type": "code",
   "execution_count": 36,
   "id": "9f44a17b-4649-45ca-bb3d-f4aeb37464f3",
   "metadata": {},
   "outputs": [
    {
     "data": {
      "text/plain": [
       "1158309.9487222314"
      ]
     },
     "execution_count": 36,
     "metadata": {},
     "output_type": "execute_result"
    }
   ],
   "source": [
    "mean_sale_price = statistics.mean(df1['SALE PRICE'])\n",
    "mean_sale_price"
   ]
  },
  {
   "cell_type": "markdown",
   "id": "dbca9c7f-dce1-412f-880c-c3b64df98a2f",
   "metadata": {},
   "source": [
    "- Mean dari sale price (harga penjualan) adalah 1158309.9487"
   ]
  },
  {
   "cell_type": "markdown",
   "id": "5e94fb22-20bd-4d6c-ab24-b92c61699a28",
   "metadata": {},
   "source": [
    "## MEDIAN"
   ]
  },
  {
   "cell_type": "code",
   "execution_count": 37,
   "id": "d7f028a0-952c-4edf-8d81-27780fc83a4f",
   "metadata": {},
   "outputs": [
    {
     "data": {
      "text/plain": [
       "1.0"
      ]
     },
     "execution_count": 37,
     "metadata": {},
     "output_type": "execute_result"
    }
   ],
   "source": [
    "median_residential_units = statistics.median(df1['RESIDENTIAL UNITS'])\n",
    "median_residential_units"
   ]
  },
  {
   "cell_type": "markdown",
   "id": "c59ee47d-d31b-46a9-b939-4d9624b4008a",
   "metadata": {},
   "source": [
    "- Median atau nilai tengah dari Residential Units adalah 1,0"
   ]
  },
  {
   "cell_type": "code",
   "execution_count": 38,
   "id": "dee699d3-ddbd-470c-96d1-79b3431c4c9d",
   "metadata": {},
   "outputs": [
    {
     "data": {
      "text/plain": [
       "0"
      ]
     },
     "execution_count": 38,
     "metadata": {},
     "output_type": "execute_result"
    }
   ],
   "source": [
    "median_commercial_units = statistics.median(df['COMMERCIAL UNITS'])\n",
    "median_commercial_units"
   ]
  },
  {
   "cell_type": "markdown",
   "id": "6d0a03f0-6f54-4aa4-b9e4-07db161c9c30",
   "metadata": {},
   "source": [
    "- Median atau nilai tengah dari Commercial Units adalah 0,0"
   ]
  },
  {
   "cell_type": "code",
   "execution_count": 39,
   "id": "626fe98e-2af3-4bf0-8ec1-6783033f76d8",
   "metadata": {},
   "outputs": [
    {
     "data": {
      "text/plain": [
       "1.0"
      ]
     },
     "execution_count": 39,
     "metadata": {},
     "output_type": "execute_result"
    }
   ],
   "source": [
    "median_total_units = statistics.median(df1['TOTAL UNITS'])\n",
    "median_total_units"
   ]
  },
  {
   "cell_type": "markdown",
   "id": "cde70e6f-e898-481d-9ca0-d3b9aadb90b1",
   "metadata": {},
   "source": [
    "- Median atau nilai tengah dari total units yang terjual adalah 1"
   ]
  },
  {
   "cell_type": "code",
   "execution_count": 40,
   "id": "3b2113c6-8079-437d-baa0-910bed0237af",
   "metadata": {},
   "outputs": [
    {
     "data": {
      "text/plain": [
       "2133.0"
      ]
     },
     "execution_count": 40,
     "metadata": {},
     "output_type": "execute_result"
    }
   ],
   "source": [
    "median_land_square_feet = statistics.median(df1['LAND SQUARE FEET'])\n",
    "median_land_square_feet"
   ]
  },
  {
   "cell_type": "markdown",
   "id": "488680c1-e19b-4f93-b222-ce76365a888c",
   "metadata": {},
   "source": [
    "- Median atau nilai tengah dari land square feet adalah 2133"
   ]
  },
  {
   "cell_type": "code",
   "execution_count": 41,
   "id": "b2b79d0d-d561-4f7f-a3ac-e524e9ad3495",
   "metadata": {},
   "outputs": [
    {
     "data": {
      "text/plain": [
       "1620.0"
      ]
     },
     "execution_count": 41,
     "metadata": {},
     "output_type": "execute_result"
    }
   ],
   "source": [
    "median_gross_square_feet = statistics.median(df1['GROSS SQUARE FEET'])\n",
    "median_gross_square_feet"
   ]
  },
  {
   "cell_type": "markdown",
   "id": "baa783b4-2d05-48f7-9228-85ac862ae008",
   "metadata": {},
   "source": [
    "- Median atau nilai tengah dari gross square feet adalah 1620"
   ]
  },
  {
   "cell_type": "code",
   "execution_count": 42,
   "id": "301350af-a6e1-4b70-ad6d-71eab5c19864",
   "metadata": {},
   "outputs": [
    {
     "data": {
      "text/plain": [
       "485000.0"
      ]
     },
     "execution_count": 42,
     "metadata": {},
     "output_type": "execute_result"
    }
   ],
   "source": [
    "median_sale_price = statistics.median(df1['SALE PRICE'])\n",
    "median_sale_price"
   ]
  },
  {
   "cell_type": "markdown",
   "id": "c798b275-aa7b-45a4-aa0a-5552554a8def",
   "metadata": {},
   "source": [
    "- Median atau nilai tengah dari sale price (harga penjualan) adalah 485000"
   ]
  },
  {
   "cell_type": "markdown",
   "id": "d4c7c555-6a75-4b13-9b48-ad3c2e0bd87a",
   "metadata": {},
   "source": [
    "## MODUS"
   ]
  },
  {
   "cell_type": "code",
   "execution_count": 43,
   "id": "7a0f923b-59c0-43fb-9898-41b7a0b0aec8",
   "metadata": {},
   "outputs": [
    {
     "name": "stderr",
     "output_type": "stream",
     "text": [
      "C:\\Users\\ACER\\AppData\\Local\\Temp\\ipykernel_9488\\2052774305.py:1: FutureWarning: Unlike other reduction functions (e.g. `skew`, `kurtosis`), the default behavior of `mode` typically preserves the axis it acts along. In SciPy 1.11.0, this behavior will change: the default value of `keepdims` will become False, the `axis` over which the statistic is taken will be eliminated, and the value None will no longer be accepted. Set `keepdims` to True or False to avoid this warning.\n",
      "  mode_borough = scipy.stats.mode(df['BOROUGH'])\n"
     ]
    },
    {
     "data": {
      "text/plain": [
       "ModeResult(mode=array([4], dtype=int64), count=array([26548]))"
      ]
     },
     "execution_count": 43,
     "metadata": {},
     "output_type": "execute_result"
    }
   ],
   "source": [
    "mode_borough = scipy.stats.mode(df['BOROUGH'])\n",
    "mode_borough"
   ]
  },
  {
   "cell_type": "code",
   "execution_count": 44,
   "id": "40caa462-bdb0-4484-b531-85167c6f1d78",
   "metadata": {},
   "outputs": [
    {
     "name": "stderr",
     "output_type": "stream",
     "text": [
      "C:\\Users\\ACER\\AppData\\Local\\Temp\\ipykernel_9488\\987015376.py:1: FutureWarning: Unlike other reduction functions (e.g. `skew`, `kurtosis`), the default behavior of `mode` typically preserves the axis it acts along. In SciPy 1.11.0, this behavior will change: the default value of `keepdims` will become False, the `axis` over which the statistic is taken will be eliminated, and the value None will no longer be accepted. Set `keepdims` to True or False to avoid this warning.\n",
      "  mode_neighborhood = scipy.stats.mode(df['NEIGHBORHOOD'])\n",
      "C:\\Users\\ACER\\anaconda3\\lib\\site-packages\\scipy\\stats\\_stats_py.py:110: RuntimeWarning: The input array could not be properly checked for nan values. nan values will be ignored.\n",
      "  warnings.warn(\"The input array could not be properly \"\n",
      "C:\\Users\\ACER\\AppData\\Local\\Temp\\ipykernel_9488\\987015376.py:1: DeprecationWarning: Support for non-numeric arrays has been deprecated as of SciPy 1.9.0 and will be removed in 1.11.0. `pandas.DataFrame.mode` can be used instead, see https://pandas.pydata.org/docs/reference/api/pandas.DataFrame.mode.html.\n",
      "  mode_neighborhood = scipy.stats.mode(df['NEIGHBORHOOD'])\n"
     ]
    },
    {
     "data": {
      "text/plain": [
       "ModeResult(mode=array(['FLUSHING-NORTH'], dtype=object), count=array([3058]))"
      ]
     },
     "execution_count": 44,
     "metadata": {},
     "output_type": "execute_result"
    }
   ],
   "source": [
    "mode_neighborhood = scipy.stats.mode(df['NEIGHBORHOOD'])\n",
    "mode_neighborhood"
   ]
  },
  {
   "cell_type": "markdown",
   "id": "19dc5802-6edd-4219-8130-3dd5f3aae10c",
   "metadata": {},
   "source": [
    "- Modus atau nilai yang sering muncul dari Neighborhood adalah Flushing-North"
   ]
  },
  {
   "cell_type": "code",
   "execution_count": 45,
   "id": "0f54a443-026b-49b3-bbf9-a8d6426f18dd",
   "metadata": {},
   "outputs": [
    {
     "name": "stderr",
     "output_type": "stream",
     "text": [
      "C:\\Users\\ACER\\AppData\\Local\\Temp\\ipykernel_9488\\2026028536.py:1: FutureWarning: Unlike other reduction functions (e.g. `skew`, `kurtosis`), the default behavior of `mode` typically preserves the axis it acts along. In SciPy 1.11.0, this behavior will change: the default value of `keepdims` will become False, the `axis` over which the statistic is taken will be eliminated, and the value None will no longer be accepted. Set `keepdims` to True or False to avoid this warning.\n",
      "  mode_build_class = scipy.stats.mode(df['BUILDING CLASS CATEGORY'])\n",
      "C:\\Users\\ACER\\AppData\\Local\\Temp\\ipykernel_9488\\2026028536.py:1: DeprecationWarning: Support for non-numeric arrays has been deprecated as of SciPy 1.9.0 and will be removed in 1.11.0. `pandas.DataFrame.mode` can be used instead, see https://pandas.pydata.org/docs/reference/api/pandas.DataFrame.mode.html.\n",
      "  mode_build_class = scipy.stats.mode(df['BUILDING CLASS CATEGORY'])\n"
     ]
    },
    {
     "data": {
      "text/plain": [
       "ModeResult(mode=array(['01 ONE FAMILY DWELLINGS                    '], dtype=object), count=array([18107]))"
      ]
     },
     "execution_count": 45,
     "metadata": {},
     "output_type": "execute_result"
    }
   ],
   "source": [
    "mode_build_class = scipy.stats.mode(df['BUILDING CLASS CATEGORY'])\n",
    "mode_build_class"
   ]
  },
  {
   "cell_type": "markdown",
   "id": "70823a1b-8e38-495c-8ad1-503d15a32dcc",
   "metadata": {},
   "source": [
    "- Modus atau nilai yang sering muncul dari Building Class Ctegory adalah 01 One Family"
   ]
  },
  {
   "cell_type": "code",
   "execution_count": 46,
   "id": "a8dbcd9b-e6b3-4218-aeb8-f8b69acd50b0",
   "metadata": {},
   "outputs": [
    {
     "name": "stderr",
     "output_type": "stream",
     "text": [
      "C:\\Users\\ACER\\AppData\\Local\\Temp\\ipykernel_9488\\2219114801.py:1: FutureWarning: Unlike other reduction functions (e.g. `skew`, `kurtosis`), the default behavior of `mode` typically preserves the axis it acts along. In SciPy 1.11.0, this behavior will change: the default value of `keepdims` will become False, the `axis` over which the statistic is taken will be eliminated, and the value None will no longer be accepted. Set `keepdims` to True or False to avoid this warning.\n",
      "  mode_building_class_at_present = scipy.stats.mode(df['BUILDING CLASS AT PRESENT'])\n",
      "C:\\Users\\ACER\\AppData\\Local\\Temp\\ipykernel_9488\\2219114801.py:1: DeprecationWarning: Support for non-numeric arrays has been deprecated as of SciPy 1.9.0 and will be removed in 1.11.0. `pandas.DataFrame.mode` can be used instead, see https://pandas.pydata.org/docs/reference/api/pandas.DataFrame.mode.html.\n",
      "  mode_building_class_at_present = scipy.stats.mode(df['BUILDING CLASS AT PRESENT'])\n"
     ]
    },
    {
     "data": {
      "text/plain": [
       "ModeResult(mode=array(['D4'], dtype=object), count=array([13375]))"
      ]
     },
     "execution_count": 46,
     "metadata": {},
     "output_type": "execute_result"
    }
   ],
   "source": [
    "mode_building_class_at_present = scipy.stats.mode(df['BUILDING CLASS AT PRESENT'])\n",
    "mode_building_class_at_present"
   ]
  },
  {
   "cell_type": "markdown",
   "id": "5b51ddae-b8e6-44ee-a24c-de3a5696a5da",
   "metadata": {},
   "source": [
    "- Modus atau nilai yang sering muncul dari Building Class at Present adalah D4"
   ]
  },
  {
   "cell_type": "markdown",
   "id": "b2d275fb-f845-4326-8b52-f593d0732eff",
   "metadata": {},
   "source": [
    "## RANGE"
   ]
  },
  {
   "cell_type": "code",
   "execution_count": 47,
   "id": "a319fff6-46b9-430a-b690-e588f92b58bf",
   "metadata": {},
   "outputs": [
    {
     "data": {
      "text/plain": [
       "2261"
      ]
     },
     "execution_count": 47,
     "metadata": {},
     "output_type": "execute_result"
    }
   ],
   "source": [
    "np.ptp(df1['TOTAL UNITS'])"
   ]
  },
  {
   "cell_type": "markdown",
   "id": "9722f0b2-723b-49e5-ac58-49326a964c63",
   "metadata": {},
   "source": [
    "- Range atau perbedaan antara elemen maksimum dan minimum dari total units adalah 2261. Dengan nilai max 2261 dan nilai minimum 0"
   ]
  },
  {
   "cell_type": "code",
   "execution_count": 48,
   "id": "94c902b0-d0d5-4254-a73f-86b790a922b9",
   "metadata": {},
   "outputs": [
    {
     "data": {
      "text/plain": [
       "2261"
      ]
     },
     "execution_count": 48,
     "metadata": {},
     "output_type": "execute_result"
    }
   ],
   "source": [
    "np.ptp(df1['COMMERCIAL UNITS'])"
   ]
  },
  {
   "cell_type": "markdown",
   "id": "2a3f0582-4cee-4441-a156-115c31794077",
   "metadata": {},
   "source": [
    "- Range atau perbedaan antara elemen maksimum dan minimum dari commercial units adalah 2261. Dengan nilai max 2261 dan nilai minimum 0"
   ]
  },
  {
   "cell_type": "code",
   "execution_count": 49,
   "id": "575ea152-c113-49fa-97ec-cb31a0283200",
   "metadata": {},
   "outputs": [
    {
     "data": {
      "text/plain": [
       "1844"
      ]
     },
     "execution_count": 49,
     "metadata": {},
     "output_type": "execute_result"
    }
   ],
   "source": [
    "np.ptp(df1['RESIDENTIAL UNITS'])"
   ]
  },
  {
   "cell_type": "markdown",
   "id": "ff2a86d3-1b4e-4727-a7a0-31507c990234",
   "metadata": {},
   "source": [
    "- Range atau perbedaan antara elemen maksimum dan minimum dari residential units adalah 1844"
   ]
  },
  {
   "cell_type": "code",
   "execution_count": 50,
   "id": "7a01d146-737a-4432-86d1-c7538fa7c168",
   "metadata": {},
   "outputs": [
    {
     "data": {
      "text/plain": [
       "4228300.0"
      ]
     },
     "execution_count": 50,
     "metadata": {},
     "output_type": "execute_result"
    }
   ],
   "source": [
    "np.ptp(df1['LAND SQUARE FEET'])"
   ]
  },
  {
   "cell_type": "markdown",
   "id": "7475a958-5f20-4522-88bc-5f9d283a484f",
   "metadata": {},
   "source": [
    "- Range atau perbedaan antara elemen maksimum dan minimum dari land square feet adalah 4228300"
   ]
  },
  {
   "cell_type": "code",
   "execution_count": 51,
   "id": "687a06d2-8a94-44a6-a66e-584d856e2164",
   "metadata": {},
   "outputs": [
    {
     "data": {
      "text/plain": [
       "3750565.0"
      ]
     },
     "execution_count": 51,
     "metadata": {},
     "output_type": "execute_result"
    }
   ],
   "source": [
    "np.ptp(df1['GROSS SQUARE FEET'])"
   ]
  },
  {
   "cell_type": "markdown",
   "id": "a1aac37a-e0b5-460d-afed-a62890bba09a",
   "metadata": {},
   "source": [
    "- Range atau perbedaan antara elemen maksimum dan minimum dari gross square feet adalah 3750565"
   ]
  },
  {
   "cell_type": "code",
   "execution_count": 52,
   "id": "2e344289-2270-48fe-9d69-c784c9a5e1f6",
   "metadata": {},
   "outputs": [
    {
     "data": {
      "text/plain": [
       "2210000000.0"
      ]
     },
     "execution_count": 52,
     "metadata": {},
     "output_type": "execute_result"
    }
   ],
   "source": [
    "np.ptp(df1['SALE PRICE'])"
   ]
  },
  {
   "cell_type": "markdown",
   "id": "5b947e6e-f58a-43ff-a524-730eb19acb20",
   "metadata": {},
   "source": [
    "- Range atau perbedaan antara elemen maksimum dan minimum dari price sale adalah 2210000000"
   ]
  },
  {
   "cell_type": "markdown",
   "id": "44ce8018-1c57-46bb-b234-6ac416aa2121",
   "metadata": {},
   "source": [
    "## VARIANCE"
   ]
  },
  {
   "cell_type": "code",
   "execution_count": 53,
   "id": "98eece3d-3985-4bd4-b006-56492ee21d99",
   "metadata": {},
   "outputs": [
    {
     "data": {
      "text/plain": [
       "117.62545116848761"
      ]
     },
     "execution_count": 53,
     "metadata": {},
     "output_type": "execute_result"
    }
   ],
   "source": [
    "var_commercial_units = statistics.variance(df1['COMMERCIAL UNITS'])\n",
    "var_commercial_units"
   ]
  },
  {
   "cell_type": "code",
   "execution_count": 54,
   "id": "a55809c3-f1bc-4d9a-9ad1-0064c0ed87a6",
   "metadata": {},
   "outputs": [
    {
     "data": {
      "text/plain": [
       "294.80650802798135"
      ]
     },
     "execution_count": 54,
     "metadata": {},
     "output_type": "execute_result"
    }
   ],
   "source": [
    "var_residential_units = statistics.variance(df1['RESIDENTIAL UNITS'])\n",
    "var_residential_units"
   ]
  },
  {
   "cell_type": "code",
   "execution_count": 55,
   "id": "661a1b5a-ff20-4a78-9cd7-d0b3e67b92d8",
   "metadata": {},
   "outputs": [
    {
     "data": {
      "text/plain": [
       "417.2964031801129"
      ]
     },
     "execution_count": 55,
     "metadata": {},
     "output_type": "execute_result"
    }
   ],
   "source": [
    "var_total_units = statistics.variance(df1['TOTAL UNITS'])\n",
    "var_total_units"
   ]
  },
  {
   "cell_type": "code",
   "execution_count": 56,
   "id": "66fcf2ab-b054-415b-b468-f9874f546a0f",
   "metadata": {},
   "outputs": [
    {
     "data": {
      "text/plain": [
       "933292915.5861255"
      ]
     },
     "execution_count": 56,
     "metadata": {},
     "output_type": "execute_result"
    }
   ],
   "source": [
    "var_land_square_feet = statistics.variance(df1['LAND SQUARE FEET'])\n",
    "var_land_square_feet"
   ]
  },
  {
   "cell_type": "code",
   "execution_count": 57,
   "id": "7b3d867a-a747-4b9c-9ed4-55a16d834fcd",
   "metadata": {},
   "outputs": [
    {
     "data": {
      "text/plain": [
       "852938213.028325"
      ]
     },
     "execution_count": 57,
     "metadata": {},
     "output_type": "execute_result"
    }
   ],
   "source": [
    "var_gross_square_feet = statistics.variance(df1['GROSS SQUARE FEET'])\n",
    "var_gross_square_feet"
   ]
  },
  {
   "cell_type": "code",
   "execution_count": 58,
   "id": "fad9070b-1c4d-490d-80a3-d3ec0eed0067",
   "metadata": {},
   "outputs": [
    {
     "data": {
      "text/plain": [
       "180704673693780.22"
      ]
     },
     "execution_count": 58,
     "metadata": {},
     "output_type": "execute_result"
    }
   ],
   "source": [
    "var_sale_price = statistics.variance(df1['SALE PRICE'])\n",
    "var_sale_price"
   ]
  },
  {
   "cell_type": "markdown",
   "id": "af14e846-5645-445e-adcd-c79dd6e45267",
   "metadata": {},
   "source": [
    "## STANDAR DEVIATION"
   ]
  },
  {
   "cell_type": "code",
   "execution_count": 59,
   "id": "b5f8196c-de84-433e-8252-3e22f7b41104",
   "metadata": {},
   "outputs": [
    {
     "data": {
      "text/plain": [
       "10.845526781511703"
      ]
     },
     "execution_count": 59,
     "metadata": {},
     "output_type": "execute_result"
    }
   ],
   "source": [
    "std_commercial_units = statistics.stdev(df1['COMMERCIAL UNITS'])\n",
    "std_commercial_units"
   ]
  },
  {
   "cell_type": "code",
   "execution_count": 60,
   "id": "93c2bba9-4730-42f1-8f53-6bb8e4813303",
   "metadata": {},
   "outputs": [
    {
     "data": {
      "text/plain": [
       "17.16993034429614"
      ]
     },
     "execution_count": 60,
     "metadata": {},
     "output_type": "execute_result"
    }
   ],
   "source": [
    "std_residential_units = statistics.stdev(df1['RESIDENTIAL UNITS'])\n",
    "std_residential_units"
   ]
  },
  {
   "cell_type": "code",
   "execution_count": 61,
   "id": "f58ff1d8-138c-467e-9570-19070e0ccb62",
   "metadata": {},
   "outputs": [
    {
     "data": {
      "text/plain": [
       "20.427834030560188"
      ]
     },
     "execution_count": 61,
     "metadata": {},
     "output_type": "execute_result"
    }
   ],
   "source": [
    "std_total_units = statistics.stdev(df1['TOTAL UNITS'])\n",
    "std_total_units"
   ]
  },
  {
   "cell_type": "code",
   "execution_count": 62,
   "id": "011a4d8d-8ee1-40a5-abea-79cf7ec72a07",
   "metadata": {},
   "outputs": [
    {
     "data": {
      "text/plain": [
       "30549.843135213076"
      ]
     },
     "execution_count": 62,
     "metadata": {},
     "output_type": "execute_result"
    }
   ],
   "source": [
    "std_land_square_feet = statistics.stdev(df1['LAND SQUARE FEET'])\n",
    "std_land_square_feet"
   ]
  },
  {
   "cell_type": "code",
   "execution_count": 63,
   "id": "cea66098-e3d9-46ec-8c37-fa633051dd22",
   "metadata": {},
   "outputs": [
    {
     "data": {
      "text/plain": [
       "29205.10594105635"
      ]
     },
     "execution_count": 63,
     "metadata": {},
     "output_type": "execute_result"
    }
   ],
   "source": [
    "std_gross_square_feet = statistics.stdev(df1['GROSS SQUARE FEET'])\n",
    "std_gross_square_feet"
   ]
  },
  {
   "cell_type": "code",
   "execution_count": 64,
   "id": "8141520c-e4c2-4b0b-ab49-ad09c00b411e",
   "metadata": {},
   "outputs": [
    {
     "data": {
      "text/plain": [
       "13442643.850589072"
      ]
     },
     "execution_count": 64,
     "metadata": {},
     "output_type": "execute_result"
    }
   ],
   "source": [
    "std_sale_price = statistics.stdev(df1['SALE PRICE'])\n",
    "std_sale_price"
   ]
  },
  {
   "cell_type": "markdown",
   "id": "a1786d59-5f49-4bc6-a6c8-77cf21a6c9fc",
   "metadata": {},
   "source": [
    "## Probability Distribution\n",
    "### Normal Distribution"
   ]
  },
  {
   "cell_type": "code",
   "execution_count": 65,
   "id": "13211f62-59cb-4e2c-85ce-4a8cd0cad412",
   "metadata": {},
   "outputs": [
    {
     "data": {
      "text/plain": [
       "<seaborn.axisgrid.FacetGrid at 0x19b606362e0>"
      ]
     },
     "execution_count": 65,
     "metadata": {},
     "output_type": "execute_result"
    },
    {
     "data": {
      "image/png": "[encoded data removed]",
      "text/plain": [
       "<Figure size 500x500 with 1 Axes>"
      ]
     },
     "metadata": {},
     "output_type": "display_data"
    }
   ],
   "source": [
    "sns.displot(df1['SALE PRICE'], bins=40, rug=True)"
   ]
  },
  {
   "cell_type": "code",
   "execution_count": 66,
   "id": "0cabdae8-7cb6-4d2f-a5ec-d703876b1f69",
   "metadata": {},
   "outputs": [],
   "source": [
    "# ambil data dari Land Square Feet dari 10.000 - 10.000.000\n",
    "df2 = df1[(df1['SALE PRICE'] > 10000) & (df1['SALE PRICE'] < 10000000)]"
   ]
  },
  {
   "cell_type": "code",
   "execution_count": 67,
   "id": "122f91d0-599f-4284-9ffe-99a99260f865",
   "metadata": {},
   "outputs": [
    {
     "data": {
      "text/plain": [
       "<seaborn.axisgrid.FacetGrid at 0x19b5ffe4bb0>"
      ]
     },
     "execution_count": 67,
     "metadata": {},
     "output_type": "execute_result"
    },
    {
     "data": {
      "image/png": "[encoded data removed]",
      "text/plain": [
       "<Figure size 500x500 with 1 Axes>"
      ]
     },
     "metadata": {},
     "output_type": "display_data"
    }
   ],
   "source": [
    "sns.displot(df2['SALE PRICE'], bins=40, rug=True)"
   ]
  },
  {
   "cell_type": "code",
   "execution_count": 68,
   "id": "69e0fba1-fefb-46df-9b99-41165878e32b",
   "metadata": {},
   "outputs": [
    {
     "name": "stderr",
     "output_type": "stream",
     "text": [
      "C:\\Users\\ACER\\AppData\\Local\\Temp\\ipykernel_9488\\638401580.py:1: SettingWithCopyWarning: \n",
      "A value is trying to be set on a copy of a slice from a DataFrame.\n",
      "Try using .loc[row_indexer,col_indexer] = value instead\n",
      "\n",
      "See the caveats in the documentation: https://pandas.pydata.org/pandas-docs/stable/user_guide/indexing.html#returning-a-view-versus-a-copy\n",
      "  df2['SALE PRICE'] = np.log(df2['SALE PRICE'])\n"
     ]
    }
   ],
   "source": [
    "df2['SALE PRICE'] = np.log(df2['SALE PRICE'])"
   ]
  },
  {
   "cell_type": "code",
   "execution_count": 69,
   "id": "e4cb3e22-fd23-4cff-b108-1395277824a1",
   "metadata": {},
   "outputs": [
    {
     "data": {
      "text/plain": [
       "<seaborn.axisgrid.FacetGrid at 0x19b672e0280>"
      ]
     },
     "execution_count": 69,
     "metadata": {},
     "output_type": "execute_result"
    },
    {
     "data": {
      "image/png": "[encoded data removed]",
      "text/plain": [
       "<Figure size 500x500 with 1 Axes>"
      ]
     },
     "metadata": {},
     "output_type": "display_data"
    }
   ],
   "source": [
    "sns.displot(df2['SALE PRICE'], bins=50)"
   ]
  },
  {
   "cell_type": "markdown",
   "id": "3e396a5a-b489-4fa5-be41-45d69d8f1eef",
   "metadata": {},
   "source": [
    "- Distribusi sale price terlihat normal. dan Kurva bersifat simetris dengan bentuk lonceng (bell curve) di sekitar nilai tengah dan median kira-kira setara dengan mean (lihat di bawah)."
   ]
  },
  {
   "cell_type": "markdown",
   "id": "586a7ed1-df3a-4454-91b0-3b843689e210",
   "metadata": {},
   "source": [
    "### CONFIDENT INTERVAL"
   ]
  },
  {
   "cell_type": "code",
   "execution_count": 70,
   "id": "8617c235-23af-4bdb-8b53-5b970eceeba5",
   "metadata": {},
   "outputs": [
    {
     "data": {
      "text/html": [
       "<div>\n",
       "<style scoped>\n",
       "    .dataframe tbody tr th:only-of-type {\n",
       "        vertical-align: middle;\n",
       "    }\n",
       "\n",
       "    .dataframe tbody tr th {\n",
       "        vertical-align: top;\n",
       "    }\n",
       "\n",
       "    .dataframe thead th {\n",
       "        text-align: right;\n",
       "    }\n",
       "</style>\n",
       "<table border=\"1\" class=\"dataframe\">\n",
       "  <thead>\n",
       "    <tr style=\"text-align: right;\">\n",
       "      <th></th>\n",
       "      <th>BOROUGH</th>\n",
       "      <th>NEIGHBORHOOD</th>\n",
       "      <th>BUILDING CLASS CATEGORY</th>\n",
       "      <th>TAX CLASS AT PRESENT</th>\n",
       "      <th>BLOCK</th>\n",
       "      <th>LOT</th>\n",
       "      <th>BUILDING CLASS AT PRESENT</th>\n",
       "      <th>ADDRESS</th>\n",
       "      <th>ZIP CODE</th>\n",
       "      <th>RESIDENTIAL UNITS</th>\n",
       "      <th>COMMERCIAL UNITS</th>\n",
       "      <th>TOTAL UNITS</th>\n",
       "      <th>LAND SQUARE FEET</th>\n",
       "      <th>GROSS SQUARE FEET</th>\n",
       "      <th>YEAR BUILT</th>\n",
       "      <th>TAX CLASS AT TIME OF SALE</th>\n",
       "      <th>BUILDING CLASS AT TIME OF SALE</th>\n",
       "      <th>SALE PRICE</th>\n",
       "      <th>SALE DATE</th>\n",
       "    </tr>\n",
       "  </thead>\n",
       "  <tbody>\n",
       "    <tr>\n",
       "      <th>0</th>\n",
       "      <td>1</td>\n",
       "      <td>ALPHABET CITY</td>\n",
       "      <td>07 RENTALS - WALKUP APARTMENTS</td>\n",
       "      <td>2A</td>\n",
       "      <td>392</td>\n",
       "      <td>6</td>\n",
       "      <td>C2</td>\n",
       "      <td>153 AVENUE B</td>\n",
       "      <td>10009</td>\n",
       "      <td>5</td>\n",
       "      <td>0</td>\n",
       "      <td>5</td>\n",
       "      <td>1633.0</td>\n",
       "      <td>6440.0</td>\n",
       "      <td>1900</td>\n",
       "      <td>2</td>\n",
       "      <td>C2</td>\n",
       "      <td>6625000.0</td>\n",
       "      <td>2017-07-19</td>\n",
       "    </tr>\n",
       "    <tr>\n",
       "      <th>3</th>\n",
       "      <td>1</td>\n",
       "      <td>ALPHABET CITY</td>\n",
       "      <td>07 RENTALS - WALKUP APARTMENTS</td>\n",
       "      <td>2B</td>\n",
       "      <td>402</td>\n",
       "      <td>21</td>\n",
       "      <td>C4</td>\n",
       "      <td>154 EAST 7TH STREET</td>\n",
       "      <td>10009</td>\n",
       "      <td>10</td>\n",
       "      <td>0</td>\n",
       "      <td>10</td>\n",
       "      <td>2272.0</td>\n",
       "      <td>6794.0</td>\n",
       "      <td>1913</td>\n",
       "      <td>2</td>\n",
       "      <td>C4</td>\n",
       "      <td>3936272.0</td>\n",
       "      <td>2016-09-23</td>\n",
       "    </tr>\n",
       "    <tr>\n",
       "      <th>4</th>\n",
       "      <td>1</td>\n",
       "      <td>ALPHABET CITY</td>\n",
       "      <td>07 RENTALS - WALKUP APARTMENTS</td>\n",
       "      <td>2A</td>\n",
       "      <td>404</td>\n",
       "      <td>55</td>\n",
       "      <td>C2</td>\n",
       "      <td>301 EAST 10TH   STREET</td>\n",
       "      <td>10009</td>\n",
       "      <td>6</td>\n",
       "      <td>0</td>\n",
       "      <td>6</td>\n",
       "      <td>2369.0</td>\n",
       "      <td>4615.0</td>\n",
       "      <td>1900</td>\n",
       "      <td>2</td>\n",
       "      <td>C2</td>\n",
       "      <td>8000000.0</td>\n",
       "      <td>2016-11-17</td>\n",
       "    </tr>\n",
       "    <tr>\n",
       "      <th>6</th>\n",
       "      <td>1</td>\n",
       "      <td>ALPHABET CITY</td>\n",
       "      <td>07 RENTALS - WALKUP APARTMENTS</td>\n",
       "      <td>2B</td>\n",
       "      <td>406</td>\n",
       "      <td>32</td>\n",
       "      <td>C4</td>\n",
       "      <td>210 AVENUE B</td>\n",
       "      <td>10009</td>\n",
       "      <td>8</td>\n",
       "      <td>0</td>\n",
       "      <td>8</td>\n",
       "      <td>1750.0</td>\n",
       "      <td>4226.0</td>\n",
       "      <td>1920</td>\n",
       "      <td>2</td>\n",
       "      <td>C4</td>\n",
       "      <td>3192840.0</td>\n",
       "      <td>2016-09-23</td>\n",
       "    </tr>\n",
       "    <tr>\n",
       "      <th>9</th>\n",
       "      <td>1</td>\n",
       "      <td>ALPHABET CITY</td>\n",
       "      <td>08 RENTALS - ELEVATOR APARTMENTS</td>\n",
       "      <td>2</td>\n",
       "      <td>387</td>\n",
       "      <td>153</td>\n",
       "      <td>D9</td>\n",
       "      <td>629 EAST 5TH STREET</td>\n",
       "      <td>10009</td>\n",
       "      <td>24</td>\n",
       "      <td>0</td>\n",
       "      <td>24</td>\n",
       "      <td>4489.0</td>\n",
       "      <td>18523.0</td>\n",
       "      <td>1920</td>\n",
       "      <td>2</td>\n",
       "      <td>D9</td>\n",
       "      <td>16232000.0</td>\n",
       "      <td>2016-11-07</td>\n",
       "    </tr>\n",
       "  </tbody>\n",
       "</table>\n",
       "</div>"
      ],
      "text/plain": [
       "  BOROUGH   NEIGHBORHOOD                      BUILDING CLASS CATEGORY  \\\n",
       "0       1  ALPHABET CITY  07 RENTALS - WALKUP APARTMENTS                \n",
       "3       1  ALPHABET CITY  07 RENTALS - WALKUP APARTMENTS                \n",
       "4       1  ALPHABET CITY  07 RENTALS - WALKUP APARTMENTS                \n",
       "6       1  ALPHABET CITY  07 RENTALS - WALKUP APARTMENTS                \n",
       "9       1  ALPHABET CITY  08 RENTALS - ELEVATOR APARTMENTS              \n",
       "\n",
       "  TAX CLASS AT PRESENT  BLOCK  LOT BUILDING CLASS AT PRESENT  \\\n",
       "0                   2A    392    6                        C2   \n",
       "3                   2B    402   21                        C4   \n",
       "4                   2A    404   55                        C2   \n",
       "6                   2B    406   32                        C4   \n",
       "9                    2    387  153                        D9   \n",
       "\n",
       "                  ADDRESS ZIP CODE  RESIDENTIAL UNITS  COMMERCIAL UNITS  \\\n",
       "0            153 AVENUE B    10009                  5                 0   \n",
       "3     154 EAST 7TH STREET    10009                 10                 0   \n",
       "4  301 EAST 10TH   STREET    10009                  6                 0   \n",
       "6            210 AVENUE B    10009                  8                 0   \n",
       "9     629 EAST 5TH STREET    10009                 24                 0   \n",
       "\n",
       "   TOTAL UNITS  LAND SQUARE FEET  GROSS SQUARE FEET YEAR BUILT  \\\n",
       "0            5            1633.0             6440.0       1900   \n",
       "3           10            2272.0             6794.0       1913   \n",
       "4            6            2369.0             4615.0       1900   \n",
       "6            8            1750.0             4226.0       1920   \n",
       "9           24            4489.0            18523.0       1920   \n",
       "\n",
       "  TAX CLASS AT TIME OF SALE BUILDING CLASS AT TIME OF SALE  SALE PRICE  \\\n",
       "0                         2                             C2   6625000.0   \n",
       "3                         2                             C4   3936272.0   \n",
       "4                         2                             C2   8000000.0   \n",
       "6                         2                             C4   3192840.0   \n",
       "9                         2                             D9  16232000.0   \n",
       "\n",
       "   SALE DATE  \n",
       "0 2017-07-19  \n",
       "3 2016-09-23  \n",
       "4 2016-11-17  \n",
       "6 2016-09-23  \n",
       "9 2016-11-07  "
      ]
     },
     "execution_count": 70,
     "metadata": {},
     "output_type": "execute_result"
    }
   ],
   "source": [
    "df1.head()"
   ]
  },
  {
   "cell_type": "markdown",
   "id": "6e7c8f94-5b0b-4dd9-84c2-1d76688f0452",
   "metadata": {},
   "source": [
    "- Menghitung CI untuk property dengan total units > 5 yang berlokasi di Manhattan"
   ]
  },
  {
   "cell_type": "code",
   "execution_count": 71,
   "id": "8603b7bb-e568-441f-9c40-dcc20f4ecbe2",
   "metadata": {},
   "outputs": [
    {
     "data": {
      "text/html": [
       "<div>\n",
       "<style scoped>\n",
       "    .dataframe tbody tr th:only-of-type {\n",
       "        vertical-align: middle;\n",
       "    }\n",
       "\n",
       "    .dataframe tbody tr th {\n",
       "        vertical-align: top;\n",
       "    }\n",
       "\n",
       "    .dataframe thead th {\n",
       "        text-align: right;\n",
       "    }\n",
       "</style>\n",
       "<table border=\"1\" class=\"dataframe\">\n",
       "  <thead>\n",
       "    <tr style=\"text-align: right;\">\n",
       "      <th></th>\n",
       "      <th>BOROUGH</th>\n",
       "      <th>TOTAL UNITS</th>\n",
       "    </tr>\n",
       "  </thead>\n",
       "  <tbody>\n",
       "    <tr>\n",
       "      <th>0</th>\n",
       "      <td>1</td>\n",
       "      <td>5</td>\n",
       "    </tr>\n",
       "    <tr>\n",
       "      <th>3</th>\n",
       "      <td>1</td>\n",
       "      <td>10</td>\n",
       "    </tr>\n",
       "    <tr>\n",
       "      <th>4</th>\n",
       "      <td>1</td>\n",
       "      <td>6</td>\n",
       "    </tr>\n",
       "    <tr>\n",
       "      <th>6</th>\n",
       "      <td>1</td>\n",
       "      <td>8</td>\n",
       "    </tr>\n",
       "    <tr>\n",
       "      <th>9</th>\n",
       "      <td>1</td>\n",
       "      <td>24</td>\n",
       "    </tr>\n",
       "    <tr>\n",
       "      <th>...</th>\n",
       "      <td>...</td>\n",
       "      <td>...</td>\n",
       "    </tr>\n",
       "    <tr>\n",
       "      <th>83778</th>\n",
       "      <td>5</td>\n",
       "      <td>2</td>\n",
       "    </tr>\n",
       "    <tr>\n",
       "      <th>83779</th>\n",
       "      <td>5</td>\n",
       "      <td>2</td>\n",
       "    </tr>\n",
       "    <tr>\n",
       "      <th>83780</th>\n",
       "      <td>5</td>\n",
       "      <td>2</td>\n",
       "    </tr>\n",
       "    <tr>\n",
       "      <th>83781</th>\n",
       "      <td>5</td>\n",
       "      <td>7</td>\n",
       "    </tr>\n",
       "    <tr>\n",
       "      <th>83782</th>\n",
       "      <td>5</td>\n",
       "      <td>1</td>\n",
       "    </tr>\n",
       "  </tbody>\n",
       "</table>\n",
       "<p>47896 rows × 2 columns</p>\n",
       "</div>"
      ],
      "text/plain": [
       "      BOROUGH  TOTAL UNITS\n",
       "0           1            5\n",
       "3           1           10\n",
       "4           1            6\n",
       "6           1            8\n",
       "9           1           24\n",
       "...       ...          ...\n",
       "83778       5            2\n",
       "83779       5            2\n",
       "83780       5            2\n",
       "83781       5            7\n",
       "83782       5            1\n",
       "\n",
       "[47896 rows x 2 columns]"
      ]
     },
     "execution_count": 71,
     "metadata": {},
     "output_type": "execute_result"
    }
   ],
   "source": [
    "df_TotalUnits = df1[['BOROUGH','TOTAL UNITS']]\n",
    "df_TotalUnits"
   ]
  },
  {
   "cell_type": "code",
   "execution_count": 72,
   "id": "8c1d8af2-2a48-43ee-abd7-b3aad253c55a",
   "metadata": {},
   "outputs": [
    {
     "data": {
      "text/plain": [
       "430"
      ]
     },
     "execution_count": 72,
     "metadata": {},
     "output_type": "execute_result"
    }
   ],
   "source": [
    "total_borough = df_TotalUnits[\n",
    "    (df_TotalUnits['TOTAL UNITS'] < 5) \n",
    "    & (df_TotalUnits['BOROUGH'] == 1)].count()\n",
    "\n",
    "total_borough = total_borough['BOROUGH']\n",
    "total_borough"
   ]
  },
  {
   "cell_type": "code",
   "execution_count": 73,
   "id": "431f9ea7-6077-4c25-890f-7e8a5ff20d70",
   "metadata": {},
   "outputs": [
    {
     "data": {
      "text/plain": [
       "2358"
      ]
     },
     "execution_count": 73,
     "metadata": {},
     "output_type": "execute_result"
    }
   ],
   "source": [
    "total = df_TotalUnits[df_TotalUnits['TOTAL UNITS'] > 5].count()\n",
    "\n",
    "total = total['TOTAL UNITS']\n",
    "total"
   ]
  },
  {
   "cell_type": "code",
   "execution_count": 74,
   "id": "e39738e8-c087-4288-b367-74d296972fc0",
   "metadata": {},
   "outputs": [
    {
     "data": {
      "text/plain": [
       "0.1823579304495335"
      ]
     },
     "execution_count": 74,
     "metadata": {},
     "output_type": "execute_result"
    }
   ],
   "source": [
    "# proporsi property dengan TOTAL UNITS > 5 di wilayah manhattan\n",
    "\n",
    "p_b = total_borough / total\n",
    "p_b "
   ]
  },
  {
   "cell_type": "code",
   "execution_count": 75,
   "id": "4ff55fc4-e41d-486b-a423-c9a216e4f98a",
   "metadata": {},
   "outputs": [
    {
     "data": {
      "text/plain": [
       "0.007951920718247013"
      ]
     },
     "execution_count": 75,
     "metadata": {},
     "output_type": "execute_result"
    }
   ],
   "source": [
    "# hitung standard error\n",
    "n = total\n",
    "se_b = np.sqrt(p_b * (1 - p_b) / total)\n",
    "se_b"
   ]
  },
  {
   "cell_type": "code",
   "execution_count": 76,
   "id": "f5dfe9c9-96cf-4537-bab7-17a095e2d084",
   "metadata": {},
   "outputs": [
    {
     "data": {
      "text/plain": [
       "(0.16677216584176935, 0.19794369505729764)"
      ]
     },
     "execution_count": 76,
     "metadata": {},
     "output_type": "execute_result"
    }
   ],
   "source": [
    "# membuat CI dengan z-score 1.96 untuk confidence interval 95%\n",
    "z_score = 1.96\n",
    "lcb = p_b - z_score* se_b #lower limit of the CI\n",
    "ucb = p_b + z_score* se_b #upper limit of the CI\n",
    "lcb, ucb"
   ]
  },
  {
   "cell_type": "markdown",
   "id": "5924f848-6016-4b36-87d1-4189d43bafb0",
   "metadata": {},
   "source": [
    "- Nilai Conviden Interval untuk proporsi property yang terjual dengan total units > 5 (lebih tinggi dari rata-rata) yang berlokasi wilayah di Manhatthan adalah 0,16677 - 0,197943"
   ]
  },
  {
   "cell_type": "code",
   "execution_count": null,
   "id": "ab6468e6-0a1f-40e1-a550-a24c5af95e2b",
   "metadata": {},
   "outputs": [],
   "source": []
  }
 ],
 "metadata": {
  "kernelspec": {
   "display_name": "Python 3 (ipykernel)",
   "language": "python",
   "name": "python3"
  },
  "language_info": {
   "codemirror_mode": {
    "name": "ipython",
    "version": 3
   },
   "file_extension": ".py",
   "mimetype": "text/x-python",
   "name": "python",
   "nbconvert_exporter": "python",
   "pygments_lexer": "ipython3",
   "version": "3.9.13"
  }
 },
 "nbformat": 4,
 "nbformat_minor": 5
}
